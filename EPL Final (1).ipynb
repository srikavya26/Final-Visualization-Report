{
 "cells": [
  {
   "cell_type": "code",
   "execution_count": 42,
   "id": "908a2b92",
   "metadata": {},
   "outputs": [],
   "source": [
    "#Import required libraries\n",
    "import pandas as pd\n",
    "import matplotlib.pyplot as plt\n",
    "import seaborn as sns\n",
    "import numpy as np"
   ]
  },
  {
   "cell_type": "code",
   "execution_count": 43,
   "id": "1269543f",
   "metadata": {},
   "outputs": [],
   "source": [
    "# Load the dataset\n",
    "df = pd.read_csv('premier-league-matches.csv')"
   ]
  },
  {
   "cell_type": "code",
   "execution_count": 44,
   "id": "7e7ca574",
   "metadata": {},
   "outputs": [
    {
     "name": "stdout",
     "output_type": "stream",
     "text": [
      "   Season_End_Year  Wk        Date            Home  HomeGoals  AwayGoals  \\\n",
      "0             1993   1  1992-08-15   Coventry City          2          1   \n",
      "1             1993   1  1992-08-15    Leeds United          2          1   \n",
      "2             1993   1  1992-08-15   Sheffield Utd          2          1   \n",
      "3             1993   1  1992-08-15  Crystal Palace          3          3   \n",
      "4             1993   1  1992-08-15         Arsenal          2          4   \n",
      "\n",
      "             Away FTR  \n",
      "0   Middlesbrough   H  \n",
      "1       Wimbledon   H  \n",
      "2  Manchester Utd   H  \n",
      "3       Blackburn   D  \n",
      "4    Norwich City   A  \n"
     ]
    },
    {
     "data": {
      "text/plain": [
       "Season_End_Year    0\n",
       "Wk                 0\n",
       "Date               0\n",
       "Home               0\n",
       "HomeGoals          0\n",
       "AwayGoals          0\n",
       "Away               0\n",
       "FTR                0\n",
       "dtype: int64"
      ]
     },
     "execution_count": 44,
     "metadata": {},
     "output_type": "execute_result"
    }
   ],
   "source": [
    "# Check the Dataset\n",
    "print(df.head())\n",
    "\n",
    "df.isnull().sum()\n"
   ]
  },
  {
   "cell_type": "code",
   "execution_count": 45,
   "id": "eb7a2b7c",
   "metadata": {},
   "outputs": [
    {
     "data": {
      "text/html": [
       "<div>\n",
       "<style scoped>\n",
       "    .dataframe tbody tr th:only-of-type {\n",
       "        vertical-align: middle;\n",
       "    }\n",
       "\n",
       "    .dataframe tbody tr th {\n",
       "        vertical-align: top;\n",
       "    }\n",
       "\n",
       "    .dataframe thead th {\n",
       "        text-align: right;\n",
       "    }\n",
       "</style>\n",
       "<table border=\"1\" class=\"dataframe\">\n",
       "  <thead>\n",
       "    <tr style=\"text-align: right;\">\n",
       "      <th></th>\n",
       "      <th>Season_End_Year</th>\n",
       "      <th>Wk</th>\n",
       "      <th>HomeGoals</th>\n",
       "      <th>AwayGoals</th>\n",
       "    </tr>\n",
       "  </thead>\n",
       "  <tbody>\n",
       "    <tr>\n",
       "      <th>count</th>\n",
       "      <td>12026.000000</td>\n",
       "      <td>12026.000000</td>\n",
       "      <td>12026.000000</td>\n",
       "      <td>12026.000000</td>\n",
       "    </tr>\n",
       "    <tr>\n",
       "      <th>mean</th>\n",
       "      <td>2007.713620</td>\n",
       "      <td>19.730501</td>\n",
       "      <td>1.524364</td>\n",
       "      <td>1.142525</td>\n",
       "    </tr>\n",
       "    <tr>\n",
       "      <th>std</th>\n",
       "      <td>9.072559</td>\n",
       "      <td>11.123916</td>\n",
       "      <td>1.306417</td>\n",
       "      <td>1.133930</td>\n",
       "    </tr>\n",
       "    <tr>\n",
       "      <th>min</th>\n",
       "      <td>1993.000000</td>\n",
       "      <td>1.000000</td>\n",
       "      <td>0.000000</td>\n",
       "      <td>0.000000</td>\n",
       "    </tr>\n",
       "    <tr>\n",
       "      <th>25%</th>\n",
       "      <td>2000.000000</td>\n",
       "      <td>10.000000</td>\n",
       "      <td>1.000000</td>\n",
       "      <td>0.000000</td>\n",
       "    </tr>\n",
       "    <tr>\n",
       "      <th>50%</th>\n",
       "      <td>2008.000000</td>\n",
       "      <td>20.000000</td>\n",
       "      <td>1.000000</td>\n",
       "      <td>1.000000</td>\n",
       "    </tr>\n",
       "    <tr>\n",
       "      <th>75%</th>\n",
       "      <td>2016.000000</td>\n",
       "      <td>29.000000</td>\n",
       "      <td>2.000000</td>\n",
       "      <td>2.000000</td>\n",
       "    </tr>\n",
       "    <tr>\n",
       "      <th>max</th>\n",
       "      <td>2023.000000</td>\n",
       "      <td>42.000000</td>\n",
       "      <td>9.000000</td>\n",
       "      <td>9.000000</td>\n",
       "    </tr>\n",
       "  </tbody>\n",
       "</table>\n",
       "</div>"
      ],
      "text/plain": [
       "       Season_End_Year            Wk     HomeGoals     AwayGoals\n",
       "count     12026.000000  12026.000000  12026.000000  12026.000000\n",
       "mean       2007.713620     19.730501      1.524364      1.142525\n",
       "std           9.072559     11.123916      1.306417      1.133930\n",
       "min        1993.000000      1.000000      0.000000      0.000000\n",
       "25%        2000.000000     10.000000      1.000000      0.000000\n",
       "50%        2008.000000     20.000000      1.000000      1.000000\n",
       "75%        2016.000000     29.000000      2.000000      2.000000\n",
       "max        2023.000000     42.000000      9.000000      9.000000"
      ]
     },
     "execution_count": 45,
     "metadata": {},
     "output_type": "execute_result"
    }
   ],
   "source": [
    "# General descriptive statistics for numerical columns\n",
    "df.describe()\n"
   ]
  },
  {
   "cell_type": "markdown",
   "id": "cf875c94",
   "metadata": {},
   "source": [
    "## Top Scoring Seasons Breakdown"
   ]
  },
  {
   "cell_type": "code",
   "execution_count": 46,
   "id": "dccb6b29",
   "metadata": {},
   "outputs": [],
   "source": [
    "# Group data by team and season to calculate total wins\n",
    "top_teams_season = df.groupby(['Season_End_Year', 'Home'])['HomeGoals'].count().reset_index()\n",
    "top_teams_season.columns = ['Season_End_Year', 'Home', 'total_wins']\n",
    "\n",
    "# Filter to show only the top 10 teams\n",
    "top_teams = top_teams_season.groupby('Home')['total_wins'].sum().sort_values(ascending=False).head(10).index\n",
    "top_teams_season = top_teams_season[top_teams_season['Home'].isin(top_teams)]\n"
   ]
  },
  {
   "cell_type": "code",
   "execution_count": 30,
   "id": "ff631900",
   "metadata": {},
   "outputs": [
    {
     "data": {
      "application/vnd.plotly.v1+json": {
       "config": {
        "plotlyServerURL": "https://plot.ly"
       },
       "data": [
        {
         "branchvalues": "total",
         "customdata": [
          [
           1222
          ],
          [
           1195
          ],
          [
           1195
          ],
          [
           988
          ],
          [
           970
          ],
          [
           1019
          ],
          [
           959
          ],
          [
           1060
          ],
          [
           992
          ],
          [
           1001
          ],
          [
           1000
          ],
          [
           1012
          ],
          [
           975
          ],
          [
           944
          ],
          [
           931
          ],
          [
           1002
          ],
          [
           942
          ],
          [
           1053
          ],
          [
           1063
          ],
          [
           1066
          ],
          [
           1063
          ],
          [
           1052
          ],
          [
           975
          ],
          [
           1026
          ],
          [
           1064
          ],
          [
           1018
          ],
          [
           1072
          ],
          [
           1034
          ],
          [
           1024
          ],
          [
           1071
          ],
          [
           1084
          ]
         ],
         "domain": {
          "x": [
           0,
           1
          ],
          "y": [
           0,
           1
          ]
         },
         "hovertemplate": "labels=%{label}<br>total_goals_sum=%{value}<br>parent=%{parent}<br>id=%{id}<br>total_goals=%{color}<extra></extra>",
         "ids": [
          "1993",
          "1994",
          "1995",
          "1996",
          "1997",
          "1998",
          "1999",
          "2000",
          "2001",
          "2002",
          "2003",
          "2004",
          "2005",
          "2006",
          "2007",
          "2008",
          "2009",
          "2010",
          "2011",
          "2012",
          "2013",
          "2014",
          "2015",
          "2016",
          "2017",
          "2018",
          "2019",
          "2020",
          "2021",
          "2022",
          "2023"
         ],
         "labels": [
          "1993",
          "1994",
          "1995",
          "1996",
          "1997",
          "1998",
          "1999",
          "2000",
          "2001",
          "2002",
          "2003",
          "2004",
          "2005",
          "2006",
          "2007",
          "2008",
          "2009",
          "2010",
          "2011",
          "2012",
          "2013",
          "2014",
          "2015",
          "2016",
          "2017",
          "2018",
          "2019",
          "2020",
          "2021",
          "2022",
          "2023"
         ],
         "marker": {
          "coloraxis": "coloraxis",
          "colors": [
           1222,
           1195,
           1195,
           988,
           970,
           1019,
           959,
           1060,
           992,
           1001,
           1000,
           1012,
           975,
           944,
           931,
           1002,
           942,
           1053,
           1063,
           1066,
           1063,
           1052,
           975,
           1026,
           1064,
           1018,
           1072,
           1034,
           1024,
           1071,
           1084
          ]
         },
         "name": "",
         "parents": [
          "",
          "",
          "",
          "",
          "",
          "",
          "",
          "",
          "",
          "",
          "",
          "",
          "",
          "",
          "",
          "",
          "",
          "",
          "",
          "",
          "",
          "",
          "",
          "",
          "",
          "",
          "",
          "",
          "",
          "",
          ""
         ],
         "type": "sunburst",
         "values": [
          1222,
          1195,
          1195,
          988,
          970,
          1019,
          959,
          1060,
          992,
          1001,
          1000,
          1012,
          975,
          944,
          931,
          1002,
          942,
          1053,
          1063,
          1066,
          1063,
          1052,
          975,
          1026,
          1064,
          1018,
          1072,
          1034,
          1024,
          1071,
          1084
         ]
        }
       ],
       "layout": {
        "coloraxis": {
         "colorbar": {
          "title": {
           "text": "total_goals"
          }
         },
         "colorscale": [
          [
           0,
           "rgb(3, 5, 18)"
          ],
          [
           0.09090909090909091,
           "rgb(25, 25, 51)"
          ],
          [
           0.18181818181818182,
           "rgb(44, 42, 87)"
          ],
          [
           0.2727272727272727,
           "rgb(58, 60, 125)"
          ],
          [
           0.36363636363636365,
           "rgb(62, 83, 160)"
          ],
          [
           0.45454545454545453,
           "rgb(62, 109, 178)"
          ],
          [
           0.5454545454545454,
           "rgb(72, 134, 187)"
          ],
          [
           0.6363636363636364,
           "rgb(89, 159, 196)"
          ],
          [
           0.7272727272727273,
           "rgb(114, 184, 205)"
          ],
          [
           0.8181818181818182,
           "rgb(149, 207, 216)"
          ],
          [
           0.9090909090909091,
           "rgb(192, 229, 232)"
          ],
          [
           1,
           "rgb(234, 252, 253)"
          ]
         ]
        },
        "legend": {
         "tracegroupgap": 0
        },
        "margin": {
         "t": 60
        },
        "template": {
         "data": {
          "bar": [
           {
            "error_x": {
             "color": "#2a3f5f"
            },
            "error_y": {
             "color": "#2a3f5f"
            },
            "marker": {
             "line": {
              "color": "#E5ECF6",
              "width": 0.5
             },
             "pattern": {
              "fillmode": "overlay",
              "size": 10,
              "solidity": 0.2
             }
            },
            "type": "bar"
           }
          ],
          "barpolar": [
           {
            "marker": {
             "line": {
              "color": "#E5ECF6",
              "width": 0.5
             },
             "pattern": {
              "fillmode": "overlay",
              "size": 10,
              "solidity": 0.2
             }
            },
            "type": "barpolar"
           }
          ],
          "carpet": [
           {
            "aaxis": {
             "endlinecolor": "#2a3f5f",
             "gridcolor": "white",
             "linecolor": "white",
             "minorgridcolor": "white",
             "startlinecolor": "#2a3f5f"
            },
            "baxis": {
             "endlinecolor": "#2a3f5f",
             "gridcolor": "white",
             "linecolor": "white",
             "minorgridcolor": "white",
             "startlinecolor": "#2a3f5f"
            },
            "type": "carpet"
           }
          ],
          "choropleth": [
           {
            "colorbar": {
             "outlinewidth": 0,
             "ticks": ""
            },
            "type": "choropleth"
           }
          ],
          "contour": [
           {
            "colorbar": {
             "outlinewidth": 0,
             "ticks": ""
            },
            "colorscale": [
             [
              0,
              "#0d0887"
             ],
             [
              0.1111111111111111,
              "#46039f"
             ],
             [
              0.2222222222222222,
              "#7201a8"
             ],
             [
              0.3333333333333333,
              "#9c179e"
             ],
             [
              0.4444444444444444,
              "#bd3786"
             ],
             [
              0.5555555555555556,
              "#d8576b"
             ],
             [
              0.6666666666666666,
              "#ed7953"
             ],
             [
              0.7777777777777778,
              "#fb9f3a"
             ],
             [
              0.8888888888888888,
              "#fdca26"
             ],
             [
              1,
              "#f0f921"
             ]
            ],
            "type": "contour"
           }
          ],
          "contourcarpet": [
           {
            "colorbar": {
             "outlinewidth": 0,
             "ticks": ""
            },
            "type": "contourcarpet"
           }
          ],
          "heatmap": [
           {
            "colorbar": {
             "outlinewidth": 0,
             "ticks": ""
            },
            "colorscale": [
             [
              0,
              "#0d0887"
             ],
             [
              0.1111111111111111,
              "#46039f"
             ],
             [
              0.2222222222222222,
              "#7201a8"
             ],
             [
              0.3333333333333333,
              "#9c179e"
             ],
             [
              0.4444444444444444,
              "#bd3786"
             ],
             [
              0.5555555555555556,
              "#d8576b"
             ],
             [
              0.6666666666666666,
              "#ed7953"
             ],
             [
              0.7777777777777778,
              "#fb9f3a"
             ],
             [
              0.8888888888888888,
              "#fdca26"
             ],
             [
              1,
              "#f0f921"
             ]
            ],
            "type": "heatmap"
           }
          ],
          "heatmapgl": [
           {
            "colorbar": {
             "outlinewidth": 0,
             "ticks": ""
            },
            "colorscale": [
             [
              0,
              "#0d0887"
             ],
             [
              0.1111111111111111,
              "#46039f"
             ],
             [
              0.2222222222222222,
              "#7201a8"
             ],
             [
              0.3333333333333333,
              "#9c179e"
             ],
             [
              0.4444444444444444,
              "#bd3786"
             ],
             [
              0.5555555555555556,
              "#d8576b"
             ],
             [
              0.6666666666666666,
              "#ed7953"
             ],
             [
              0.7777777777777778,
              "#fb9f3a"
             ],
             [
              0.8888888888888888,
              "#fdca26"
             ],
             [
              1,
              "#f0f921"
             ]
            ],
            "type": "heatmapgl"
           }
          ],
          "histogram": [
           {
            "marker": {
             "pattern": {
              "fillmode": "overlay",
              "size": 10,
              "solidity": 0.2
             }
            },
            "type": "histogram"
           }
          ],
          "histogram2d": [
           {
            "colorbar": {
             "outlinewidth": 0,
             "ticks": ""
            },
            "colorscale": [
             [
              0,
              "#0d0887"
             ],
             [
              0.1111111111111111,
              "#46039f"
             ],
             [
              0.2222222222222222,
              "#7201a8"
             ],
             [
              0.3333333333333333,
              "#9c179e"
             ],
             [
              0.4444444444444444,
              "#bd3786"
             ],
             [
              0.5555555555555556,
              "#d8576b"
             ],
             [
              0.6666666666666666,
              "#ed7953"
             ],
             [
              0.7777777777777778,
              "#fb9f3a"
             ],
             [
              0.8888888888888888,
              "#fdca26"
             ],
             [
              1,
              "#f0f921"
             ]
            ],
            "type": "histogram2d"
           }
          ],
          "histogram2dcontour": [
           {
            "colorbar": {
             "outlinewidth": 0,
             "ticks": ""
            },
            "colorscale": [
             [
              0,
              "#0d0887"
             ],
             [
              0.1111111111111111,
              "#46039f"
             ],
             [
              0.2222222222222222,
              "#7201a8"
             ],
             [
              0.3333333333333333,
              "#9c179e"
             ],
             [
              0.4444444444444444,
              "#bd3786"
             ],
             [
              0.5555555555555556,
              "#d8576b"
             ],
             [
              0.6666666666666666,
              "#ed7953"
             ],
             [
              0.7777777777777778,
              "#fb9f3a"
             ],
             [
              0.8888888888888888,
              "#fdca26"
             ],
             [
              1,
              "#f0f921"
             ]
            ],
            "type": "histogram2dcontour"
           }
          ],
          "mesh3d": [
           {
            "colorbar": {
             "outlinewidth": 0,
             "ticks": ""
            },
            "type": "mesh3d"
           }
          ],
          "parcoords": [
           {
            "line": {
             "colorbar": {
              "outlinewidth": 0,
              "ticks": ""
             }
            },
            "type": "parcoords"
           }
          ],
          "pie": [
           {
            "automargin": true,
            "type": "pie"
           }
          ],
          "scatter": [
           {
            "fillpattern": {
             "fillmode": "overlay",
             "size": 10,
             "solidity": 0.2
            },
            "type": "scatter"
           }
          ],
          "scatter3d": [
           {
            "line": {
             "colorbar": {
              "outlinewidth": 0,
              "ticks": ""
             }
            },
            "marker": {
             "colorbar": {
              "outlinewidth": 0,
              "ticks": ""
             }
            },
            "type": "scatter3d"
           }
          ],
          "scattercarpet": [
           {
            "marker": {
             "colorbar": {
              "outlinewidth": 0,
              "ticks": ""
             }
            },
            "type": "scattercarpet"
           }
          ],
          "scattergeo": [
           {
            "marker": {
             "colorbar": {
              "outlinewidth": 0,
              "ticks": ""
             }
            },
            "type": "scattergeo"
           }
          ],
          "scattergl": [
           {
            "marker": {
             "colorbar": {
              "outlinewidth": 0,
              "ticks": ""
             }
            },
            "type": "scattergl"
           }
          ],
          "scattermapbox": [
           {
            "marker": {
             "colorbar": {
              "outlinewidth": 0,
              "ticks": ""
             }
            },
            "type": "scattermapbox"
           }
          ],
          "scatterpolar": [
           {
            "marker": {
             "colorbar": {
              "outlinewidth": 0,
              "ticks": ""
             }
            },
            "type": "scatterpolar"
           }
          ],
          "scatterpolargl": [
           {
            "marker": {
             "colorbar": {
              "outlinewidth": 0,
              "ticks": ""
             }
            },
            "type": "scatterpolargl"
           }
          ],
          "scatterternary": [
           {
            "marker": {
             "colorbar": {
              "outlinewidth": 0,
              "ticks": ""
             }
            },
            "type": "scatterternary"
           }
          ],
          "surface": [
           {
            "colorbar": {
             "outlinewidth": 0,
             "ticks": ""
            },
            "colorscale": [
             [
              0,
              "#0d0887"
             ],
             [
              0.1111111111111111,
              "#46039f"
             ],
             [
              0.2222222222222222,
              "#7201a8"
             ],
             [
              0.3333333333333333,
              "#9c179e"
             ],
             [
              0.4444444444444444,
              "#bd3786"
             ],
             [
              0.5555555555555556,
              "#d8576b"
             ],
             [
              0.6666666666666666,
              "#ed7953"
             ],
             [
              0.7777777777777778,
              "#fb9f3a"
             ],
             [
              0.8888888888888888,
              "#fdca26"
             ],
             [
              1,
              "#f0f921"
             ]
            ],
            "type": "surface"
           }
          ],
          "table": [
           {
            "cells": {
             "fill": {
              "color": "#EBF0F8"
             },
             "line": {
              "color": "white"
             }
            },
            "header": {
             "fill": {
              "color": "#C8D4E3"
             },
             "line": {
              "color": "white"
             }
            },
            "type": "table"
           }
          ]
         },
         "layout": {
          "annotationdefaults": {
           "arrowcolor": "#2a3f5f",
           "arrowhead": 0,
           "arrowwidth": 1
          },
          "autotypenumbers": "strict",
          "coloraxis": {
           "colorbar": {
            "outlinewidth": 0,
            "ticks": ""
           }
          },
          "colorscale": {
           "diverging": [
            [
             0,
             "#8e0152"
            ],
            [
             0.1,
             "#c51b7d"
            ],
            [
             0.2,
             "#de77ae"
            ],
            [
             0.3,
             "#f1b6da"
            ],
            [
             0.4,
             "#fde0ef"
            ],
            [
             0.5,
             "#f7f7f7"
            ],
            [
             0.6,
             "#e6f5d0"
            ],
            [
             0.7,
             "#b8e186"
            ],
            [
             0.8,
             "#7fbc41"
            ],
            [
             0.9,
             "#4d9221"
            ],
            [
             1,
             "#276419"
            ]
           ],
           "sequential": [
            [
             0,
             "#0d0887"
            ],
            [
             0.1111111111111111,
             "#46039f"
            ],
            [
             0.2222222222222222,
             "#7201a8"
            ],
            [
             0.3333333333333333,
             "#9c179e"
            ],
            [
             0.4444444444444444,
             "#bd3786"
            ],
            [
             0.5555555555555556,
             "#d8576b"
            ],
            [
             0.6666666666666666,
             "#ed7953"
            ],
            [
             0.7777777777777778,
             "#fb9f3a"
            ],
            [
             0.8888888888888888,
             "#fdca26"
            ],
            [
             1,
             "#f0f921"
            ]
           ],
           "sequentialminus": [
            [
             0,
             "#0d0887"
            ],
            [
             0.1111111111111111,
             "#46039f"
            ],
            [
             0.2222222222222222,
             "#7201a8"
            ],
            [
             0.3333333333333333,
             "#9c179e"
            ],
            [
             0.4444444444444444,
             "#bd3786"
            ],
            [
             0.5555555555555556,
             "#d8576b"
            ],
            [
             0.6666666666666666,
             "#ed7953"
            ],
            [
             0.7777777777777778,
             "#fb9f3a"
            ],
            [
             0.8888888888888888,
             "#fdca26"
            ],
            [
             1,
             "#f0f921"
            ]
           ]
          },
          "colorway": [
           "#636efa",
           "#EF553B",
           "#00cc96",
           "#ab63fa",
           "#FFA15A",
           "#19d3f3",
           "#FF6692",
           "#B6E880",
           "#FF97FF",
           "#FECB52"
          ],
          "font": {
           "color": "#2a3f5f"
          },
          "geo": {
           "bgcolor": "white",
           "lakecolor": "white",
           "landcolor": "#E5ECF6",
           "showlakes": true,
           "showland": true,
           "subunitcolor": "white"
          },
          "hoverlabel": {
           "align": "left"
          },
          "hovermode": "closest",
          "mapbox": {
           "style": "light"
          },
          "paper_bgcolor": "white",
          "plot_bgcolor": "#E5ECF6",
          "polar": {
           "angularaxis": {
            "gridcolor": "white",
            "linecolor": "white",
            "ticks": ""
           },
           "bgcolor": "#E5ECF6",
           "radialaxis": {
            "gridcolor": "white",
            "linecolor": "white",
            "ticks": ""
           }
          },
          "scene": {
           "xaxis": {
            "backgroundcolor": "#E5ECF6",
            "gridcolor": "white",
            "gridwidth": 2,
            "linecolor": "white",
            "showbackground": true,
            "ticks": "",
            "zerolinecolor": "white"
           },
           "yaxis": {
            "backgroundcolor": "#E5ECF6",
            "gridcolor": "white",
            "gridwidth": 2,
            "linecolor": "white",
            "showbackground": true,
            "ticks": "",
            "zerolinecolor": "white"
           },
           "zaxis": {
            "backgroundcolor": "#E5ECF6",
            "gridcolor": "white",
            "gridwidth": 2,
            "linecolor": "white",
            "showbackground": true,
            "ticks": "",
            "zerolinecolor": "white"
           }
          },
          "shapedefaults": {
           "line": {
            "color": "#2a3f5f"
           }
          },
          "ternary": {
           "aaxis": {
            "gridcolor": "white",
            "linecolor": "white",
            "ticks": ""
           },
           "baxis": {
            "gridcolor": "white",
            "linecolor": "white",
            "ticks": ""
           },
           "bgcolor": "#E5ECF6",
           "caxis": {
            "gridcolor": "white",
            "linecolor": "white",
            "ticks": ""
           }
          },
          "title": {
           "x": 0.05
          },
          "xaxis": {
           "automargin": true,
           "gridcolor": "white",
           "linecolor": "white",
           "ticks": "",
           "title": {
            "standoff": 15
           },
           "zerolinecolor": "white",
           "zerolinewidth": 2
          },
          "yaxis": {
           "automargin": true,
           "gridcolor": "white",
           "linecolor": "white",
           "ticks": "",
           "title": {
            "standoff": 15
           },
           "zerolinecolor": "white",
           "zerolinewidth": 2
          }
         }
        },
        "title": {
         "text": "Top Scoring Seasons Breakdown"
        }
       }
      },
      "text/html": [
       "<div>                            <div id=\"b6d81e6c-293e-4f0a-b588-952824a7d011\" class=\"plotly-graph-div\" style=\"height:525px; width:100%;\"></div>            <script type=\"text/javascript\">                require([\"plotly\"], function(Plotly) {                    window.PLOTLYENV=window.PLOTLYENV || {};                                    if (document.getElementById(\"b6d81e6c-293e-4f0a-b588-952824a7d011\")) {                    Plotly.newPlot(                        \"b6d81e6c-293e-4f0a-b588-952824a7d011\",                        [{\"branchvalues\":\"total\",\"customdata\":[[1222.0],[1195.0],[1195.0],[988.0],[970.0],[1019.0],[959.0],[1060.0],[992.0],[1001.0],[1000.0],[1012.0],[975.0],[944.0],[931.0],[1002.0],[942.0],[1053.0],[1063.0],[1066.0],[1063.0],[1052.0],[975.0],[1026.0],[1064.0],[1018.0],[1072.0],[1034.0],[1024.0],[1071.0],[1084.0]],\"domain\":{\"x\":[0.0,1.0],\"y\":[0.0,1.0]},\"hovertemplate\":\"labels=%{label}<br>total_goals_sum=%{value}<br>parent=%{parent}<br>id=%{id}<br>total_goals=%{color}<extra></extra>\",\"ids\":[\"1993\",\"1994\",\"1995\",\"1996\",\"1997\",\"1998\",\"1999\",\"2000\",\"2001\",\"2002\",\"2003\",\"2004\",\"2005\",\"2006\",\"2007\",\"2008\",\"2009\",\"2010\",\"2011\",\"2012\",\"2013\",\"2014\",\"2015\",\"2016\",\"2017\",\"2018\",\"2019\",\"2020\",\"2021\",\"2022\",\"2023\"],\"labels\":[\"1993\",\"1994\",\"1995\",\"1996\",\"1997\",\"1998\",\"1999\",\"2000\",\"2001\",\"2002\",\"2003\",\"2004\",\"2005\",\"2006\",\"2007\",\"2008\",\"2009\",\"2010\",\"2011\",\"2012\",\"2013\",\"2014\",\"2015\",\"2016\",\"2017\",\"2018\",\"2019\",\"2020\",\"2021\",\"2022\",\"2023\"],\"marker\":{\"coloraxis\":\"coloraxis\",\"colors\":[1222.0,1195.0,1195.0,988.0,970.0,1019.0,959.0,1060.0,992.0,1001.0,1000.0,1012.0,975.0,944.0,931.0,1002.0,942.0,1053.0,1063.0,1066.0,1063.0,1052.0,975.0,1026.0,1064.0,1018.0,1072.0,1034.0,1024.0,1071.0,1084.0]},\"name\":\"\",\"parents\":[\"\",\"\",\"\",\"\",\"\",\"\",\"\",\"\",\"\",\"\",\"\",\"\",\"\",\"\",\"\",\"\",\"\",\"\",\"\",\"\",\"\",\"\",\"\",\"\",\"\",\"\",\"\",\"\",\"\",\"\",\"\"],\"values\":[1222,1195,1195,988,970,1019,959,1060,992,1001,1000,1012,975,944,931,1002,942,1053,1063,1066,1063,1052,975,1026,1064,1018,1072,1034,1024,1071,1084],\"type\":\"sunburst\"}],                        {\"template\":{\"data\":{\"histogram2dcontour\":[{\"type\":\"histogram2dcontour\",\"colorbar\":{\"outlinewidth\":0,\"ticks\":\"\"},\"colorscale\":[[0.0,\"#0d0887\"],[0.1111111111111111,\"#46039f\"],[0.2222222222222222,\"#7201a8\"],[0.3333333333333333,\"#9c179e\"],[0.4444444444444444,\"#bd3786\"],[0.5555555555555556,\"#d8576b\"],[0.6666666666666666,\"#ed7953\"],[0.7777777777777778,\"#fb9f3a\"],[0.8888888888888888,\"#fdca26\"],[1.0,\"#f0f921\"]]}],\"choropleth\":[{\"type\":\"choropleth\",\"colorbar\":{\"outlinewidth\":0,\"ticks\":\"\"}}],\"histogram2d\":[{\"type\":\"histogram2d\",\"colorbar\":{\"outlinewidth\":0,\"ticks\":\"\"},\"colorscale\":[[0.0,\"#0d0887\"],[0.1111111111111111,\"#46039f\"],[0.2222222222222222,\"#7201a8\"],[0.3333333333333333,\"#9c179e\"],[0.4444444444444444,\"#bd3786\"],[0.5555555555555556,\"#d8576b\"],[0.6666666666666666,\"#ed7953\"],[0.7777777777777778,\"#fb9f3a\"],[0.8888888888888888,\"#fdca26\"],[1.0,\"#f0f921\"]]}],\"heatmap\":[{\"type\":\"heatmap\",\"colorbar\":{\"outlinewidth\":0,\"ticks\":\"\"},\"colorscale\":[[0.0,\"#0d0887\"],[0.1111111111111111,\"#46039f\"],[0.2222222222222222,\"#7201a8\"],[0.3333333333333333,\"#9c179e\"],[0.4444444444444444,\"#bd3786\"],[0.5555555555555556,\"#d8576b\"],[0.6666666666666666,\"#ed7953\"],[0.7777777777777778,\"#fb9f3a\"],[0.8888888888888888,\"#fdca26\"],[1.0,\"#f0f921\"]]}],\"heatmapgl\":[{\"type\":\"heatmapgl\",\"colorbar\":{\"outlinewidth\":0,\"ticks\":\"\"},\"colorscale\":[[0.0,\"#0d0887\"],[0.1111111111111111,\"#46039f\"],[0.2222222222222222,\"#7201a8\"],[0.3333333333333333,\"#9c179e\"],[0.4444444444444444,\"#bd3786\"],[0.5555555555555556,\"#d8576b\"],[0.6666666666666666,\"#ed7953\"],[0.7777777777777778,\"#fb9f3a\"],[0.8888888888888888,\"#fdca26\"],[1.0,\"#f0f921\"]]}],\"contourcarpet\":[{\"type\":\"contourcarpet\",\"colorbar\":{\"outlinewidth\":0,\"ticks\":\"\"}}],\"contour\":[{\"type\":\"contour\",\"colorbar\":{\"outlinewidth\":0,\"ticks\":\"\"},\"colorscale\":[[0.0,\"#0d0887\"],[0.1111111111111111,\"#46039f\"],[0.2222222222222222,\"#7201a8\"],[0.3333333333333333,\"#9c179e\"],[0.4444444444444444,\"#bd3786\"],[0.5555555555555556,\"#d8576b\"],[0.6666666666666666,\"#ed7953\"],[0.7777777777777778,\"#fb9f3a\"],[0.8888888888888888,\"#fdca26\"],[1.0,\"#f0f921\"]]}],\"surface\":[{\"type\":\"surface\",\"colorbar\":{\"outlinewidth\":0,\"ticks\":\"\"},\"colorscale\":[[0.0,\"#0d0887\"],[0.1111111111111111,\"#46039f\"],[0.2222222222222222,\"#7201a8\"],[0.3333333333333333,\"#9c179e\"],[0.4444444444444444,\"#bd3786\"],[0.5555555555555556,\"#d8576b\"],[0.6666666666666666,\"#ed7953\"],[0.7777777777777778,\"#fb9f3a\"],[0.8888888888888888,\"#fdca26\"],[1.0,\"#f0f921\"]]}],\"mesh3d\":[{\"type\":\"mesh3d\",\"colorbar\":{\"outlinewidth\":0,\"ticks\":\"\"}}],\"scatter\":[{\"fillpattern\":{\"fillmode\":\"overlay\",\"size\":10,\"solidity\":0.2},\"type\":\"scatter\"}],\"parcoords\":[{\"type\":\"parcoords\",\"line\":{\"colorbar\":{\"outlinewidth\":0,\"ticks\":\"\"}}}],\"scatterpolargl\":[{\"type\":\"scatterpolargl\",\"marker\":{\"colorbar\":{\"outlinewidth\":0,\"ticks\":\"\"}}}],\"bar\":[{\"error_x\":{\"color\":\"#2a3f5f\"},\"error_y\":{\"color\":\"#2a3f5f\"},\"marker\":{\"line\":{\"color\":\"#E5ECF6\",\"width\":0.5},\"pattern\":{\"fillmode\":\"overlay\",\"size\":10,\"solidity\":0.2}},\"type\":\"bar\"}],\"scattergeo\":[{\"type\":\"scattergeo\",\"marker\":{\"colorbar\":{\"outlinewidth\":0,\"ticks\":\"\"}}}],\"scatterpolar\":[{\"type\":\"scatterpolar\",\"marker\":{\"colorbar\":{\"outlinewidth\":0,\"ticks\":\"\"}}}],\"histogram\":[{\"marker\":{\"pattern\":{\"fillmode\":\"overlay\",\"size\":10,\"solidity\":0.2}},\"type\":\"histogram\"}],\"scattergl\":[{\"type\":\"scattergl\",\"marker\":{\"colorbar\":{\"outlinewidth\":0,\"ticks\":\"\"}}}],\"scatter3d\":[{\"type\":\"scatter3d\",\"line\":{\"colorbar\":{\"outlinewidth\":0,\"ticks\":\"\"}},\"marker\":{\"colorbar\":{\"outlinewidth\":0,\"ticks\":\"\"}}}],\"scattermapbox\":[{\"type\":\"scattermapbox\",\"marker\":{\"colorbar\":{\"outlinewidth\":0,\"ticks\":\"\"}}}],\"scatterternary\":[{\"type\":\"scatterternary\",\"marker\":{\"colorbar\":{\"outlinewidth\":0,\"ticks\":\"\"}}}],\"scattercarpet\":[{\"type\":\"scattercarpet\",\"marker\":{\"colorbar\":{\"outlinewidth\":0,\"ticks\":\"\"}}}],\"carpet\":[{\"aaxis\":{\"endlinecolor\":\"#2a3f5f\",\"gridcolor\":\"white\",\"linecolor\":\"white\",\"minorgridcolor\":\"white\",\"startlinecolor\":\"#2a3f5f\"},\"baxis\":{\"endlinecolor\":\"#2a3f5f\",\"gridcolor\":\"white\",\"linecolor\":\"white\",\"minorgridcolor\":\"white\",\"startlinecolor\":\"#2a3f5f\"},\"type\":\"carpet\"}],\"table\":[{\"cells\":{\"fill\":{\"color\":\"#EBF0F8\"},\"line\":{\"color\":\"white\"}},\"header\":{\"fill\":{\"color\":\"#C8D4E3\"},\"line\":{\"color\":\"white\"}},\"type\":\"table\"}],\"barpolar\":[{\"marker\":{\"line\":{\"color\":\"#E5ECF6\",\"width\":0.5},\"pattern\":{\"fillmode\":\"overlay\",\"size\":10,\"solidity\":0.2}},\"type\":\"barpolar\"}],\"pie\":[{\"automargin\":true,\"type\":\"pie\"}]},\"layout\":{\"autotypenumbers\":\"strict\",\"colorway\":[\"#636efa\",\"#EF553B\",\"#00cc96\",\"#ab63fa\",\"#FFA15A\",\"#19d3f3\",\"#FF6692\",\"#B6E880\",\"#FF97FF\",\"#FECB52\"],\"font\":{\"color\":\"#2a3f5f\"},\"hovermode\":\"closest\",\"hoverlabel\":{\"align\":\"left\"},\"paper_bgcolor\":\"white\",\"plot_bgcolor\":\"#E5ECF6\",\"polar\":{\"bgcolor\":\"#E5ECF6\",\"angularaxis\":{\"gridcolor\":\"white\",\"linecolor\":\"white\",\"ticks\":\"\"},\"radialaxis\":{\"gridcolor\":\"white\",\"linecolor\":\"white\",\"ticks\":\"\"}},\"ternary\":{\"bgcolor\":\"#E5ECF6\",\"aaxis\":{\"gridcolor\":\"white\",\"linecolor\":\"white\",\"ticks\":\"\"},\"baxis\":{\"gridcolor\":\"white\",\"linecolor\":\"white\",\"ticks\":\"\"},\"caxis\":{\"gridcolor\":\"white\",\"linecolor\":\"white\",\"ticks\":\"\"}},\"coloraxis\":{\"colorbar\":{\"outlinewidth\":0,\"ticks\":\"\"}},\"colorscale\":{\"sequential\":[[0.0,\"#0d0887\"],[0.1111111111111111,\"#46039f\"],[0.2222222222222222,\"#7201a8\"],[0.3333333333333333,\"#9c179e\"],[0.4444444444444444,\"#bd3786\"],[0.5555555555555556,\"#d8576b\"],[0.6666666666666666,\"#ed7953\"],[0.7777777777777778,\"#fb9f3a\"],[0.8888888888888888,\"#fdca26\"],[1.0,\"#f0f921\"]],\"sequentialminus\":[[0.0,\"#0d0887\"],[0.1111111111111111,\"#46039f\"],[0.2222222222222222,\"#7201a8\"],[0.3333333333333333,\"#9c179e\"],[0.4444444444444444,\"#bd3786\"],[0.5555555555555556,\"#d8576b\"],[0.6666666666666666,\"#ed7953\"],[0.7777777777777778,\"#fb9f3a\"],[0.8888888888888888,\"#fdca26\"],[1.0,\"#f0f921\"]],\"diverging\":[[0,\"#8e0152\"],[0.1,\"#c51b7d\"],[0.2,\"#de77ae\"],[0.3,\"#f1b6da\"],[0.4,\"#fde0ef\"],[0.5,\"#f7f7f7\"],[0.6,\"#e6f5d0\"],[0.7,\"#b8e186\"],[0.8,\"#7fbc41\"],[0.9,\"#4d9221\"],[1,\"#276419\"]]},\"xaxis\":{\"gridcolor\":\"white\",\"linecolor\":\"white\",\"ticks\":\"\",\"title\":{\"standoff\":15},\"zerolinecolor\":\"white\",\"automargin\":true,\"zerolinewidth\":2},\"yaxis\":{\"gridcolor\":\"white\",\"linecolor\":\"white\",\"ticks\":\"\",\"title\":{\"standoff\":15},\"zerolinecolor\":\"white\",\"automargin\":true,\"zerolinewidth\":2},\"scene\":{\"xaxis\":{\"backgroundcolor\":\"#E5ECF6\",\"gridcolor\":\"white\",\"linecolor\":\"white\",\"showbackground\":true,\"ticks\":\"\",\"zerolinecolor\":\"white\",\"gridwidth\":2},\"yaxis\":{\"backgroundcolor\":\"#E5ECF6\",\"gridcolor\":\"white\",\"linecolor\":\"white\",\"showbackground\":true,\"ticks\":\"\",\"zerolinecolor\":\"white\",\"gridwidth\":2},\"zaxis\":{\"backgroundcolor\":\"#E5ECF6\",\"gridcolor\":\"white\",\"linecolor\":\"white\",\"showbackground\":true,\"ticks\":\"\",\"zerolinecolor\":\"white\",\"gridwidth\":2}},\"shapedefaults\":{\"line\":{\"color\":\"#2a3f5f\"}},\"annotationdefaults\":{\"arrowcolor\":\"#2a3f5f\",\"arrowhead\":0,\"arrowwidth\":1},\"geo\":{\"bgcolor\":\"white\",\"landcolor\":\"#E5ECF6\",\"subunitcolor\":\"white\",\"showland\":true,\"showlakes\":true,\"lakecolor\":\"white\"},\"title\":{\"x\":0.05},\"mapbox\":{\"style\":\"light\"}}},\"coloraxis\":{\"colorbar\":{\"title\":{\"text\":\"total_goals\"}},\"colorscale\":[[0.0,\"rgb(3, 5, 18)\"],[0.09090909090909091,\"rgb(25, 25, 51)\"],[0.18181818181818182,\"rgb(44, 42, 87)\"],[0.2727272727272727,\"rgb(58, 60, 125)\"],[0.36363636363636365,\"rgb(62, 83, 160)\"],[0.45454545454545453,\"rgb(62, 109, 178)\"],[0.5454545454545454,\"rgb(72, 134, 187)\"],[0.6363636363636364,\"rgb(89, 159, 196)\"],[0.7272727272727273,\"rgb(114, 184, 205)\"],[0.8181818181818182,\"rgb(149, 207, 216)\"],[0.9090909090909091,\"rgb(192, 229, 232)\"],[1.0,\"rgb(234, 252, 253)\"]]},\"legend\":{\"tracegroupgap\":0},\"margin\":{\"t\":60},\"title\":{\"text\":\"Top Scoring Seasons Breakdown\"}},                        {\"responsive\": true}                    ).then(function(){\n",
       "                            \n",
       "var gd = document.getElementById('b6d81e6c-293e-4f0a-b588-952824a7d011');\n",
       "var x = new MutationObserver(function (mutations, observer) {{\n",
       "        var display = window.getComputedStyle(gd).display;\n",
       "        if (!display || display === 'none') {{\n",
       "            console.log([gd, 'removed!']);\n",
       "            Plotly.purge(gd);\n",
       "            observer.disconnect();\n",
       "        }}\n",
       "}});\n",
       "\n",
       "// Listen for the removal of the full notebook cells\n",
       "var notebookContainer = gd.closest('#notebook-container');\n",
       "if (notebookContainer) {{\n",
       "    x.observe(notebookContainer, {childList: true});\n",
       "}}\n",
       "\n",
       "// Listen for the clearing of the current output cell\n",
       "var outputEl = gd.closest('.output');\n",
       "if (outputEl) {{\n",
       "    x.observe(outputEl, {childList: true});\n",
       "}}\n",
       "\n",
       "                        })                };                });            </script>        </div>"
      ]
     },
     "metadata": {},
     "output_type": "display_data"
    }
   ],
   "source": [
    "import plotly.express as px\n",
    "#Plot to show top scoring seasons\n",
    "fig = px.sunburst(top_scoring_seasons, path=['Season_End_Year'], values='total_goals', color='total_goals',\n",
    "                  color_continuous_scale='ice')\n",
    "fig.update_layout(title='Top Scoring Seasons Breakdown')\n",
    "fig.show()\n"
   ]
  },
  {
   "cell_type": "markdown",
   "id": "fac079b8",
   "metadata": {},
   "source": [
    "## Win Distribution of top teams"
   ]
  },
  {
   "cell_type": "code",
   "execution_count": 31,
   "id": "e049f209",
   "metadata": {},
   "outputs": [
    {
     "data": {
      "image/png": "[encoded data removed]",
      "text/plain": [
       "<Figure size 1200x800 with 2 Axes>"
      ]
     },
     "metadata": {},
     "output_type": "display_data"
    }
   ],
   "source": [
    "pivot_table = top_teams_season.pivot(index='Home', columns='Season_End_Year', values='total_wins')\n",
    "\n",
    "plt.figure(figsize=(12, 8))\n",
    "sns.heatmap(pivot_table, annot=True, fmt=\".0f\", cmap='coolwarm', linewidths=0.5)\n",
    "plt.title('Win Distribution of Top Teams Across Seasons')\n",
    "plt.xlabel('Season')\n",
    "plt.ylabel('Teams')\n",
    "plt.show()\n"
   ]
  },
  {
   "cell_type": "markdown",
   "id": "ed1be67f",
   "metadata": {},
   "source": [
    "## Top 10 Teams Barplot"
   ]
  },
  {
   "cell_type": "code",
   "execution_count": 43,
   "id": "8f82de18",
   "metadata": {},
   "outputs": [
    {
     "name": "stderr",
     "output_type": "stream",
     "text": [
      "/var/folders/gv/0cnp_rxd5w17b9snllc_9tgw0000gn/T/ipykernel_1444/79218494.py:18: FutureWarning:\n",
      "\n",
      "\n",
      "\n",
      "Passing `palette` without assigning `hue` is deprecated and will be removed in v0.14.0. Assign the `y` variable to `hue` and set `legend=False` for the same effect.\n",
      "\n",
      "\n"
     ]
    },
    {
     "data": {
      "image/png": "[encoded data removed]",
      "text/plain": [
       "<Figure size 1200x600 with 1 Axes>"
      ]
     },
     "metadata": {},
     "output_type": "display_data"
    }
   ],
   "source": [
    "# Calculate wins for home and away teams\n",
    "df['home_win'] = np.where(df['FTR'] == 'H', 1, 0)\n",
    "df['away_win'] = np.where(df['FTR'] == 'A', 1, 0)\n",
    "\n",
    "# Sum wins for home and away teams\n",
    "home_wins = df.groupby('Home')['home_win'].sum().reset_index()\n",
    "away_wins = df.groupby('Away')['away_win'].sum().reset_index()\n",
    "\n",
    "# Merge home and away wins data\n",
    "team_wins = pd.merge(home_wins, away_wins, left_on='Home', right_on='Away', suffixes=('_home', '_away'))\n",
    "team_wins['total_wins'] = team_wins['home_win'] + team_wins['away_win']\n",
    "\n",
    "# Get top 10 teams with most wins\n",
    "top_teams = team_wins[['Home', 'total_wins']].sort_values(by='total_wins', ascending=False).head(10)\n",
    "\n",
    "# Plot the results\n",
    "plt.figure(figsize=(12, 6))\n",
    "sns.barplot(x='total_wins', y='Home', data=top_teams, palette='deep')\n",
    "plt.title('Top 10 Teams with Most Wins')\n",
    "plt.xlabel('Wins')\n",
    "plt.ylabel('Teams')\n",
    "plt.show()\n"
   ]
  },
  {
   "cell_type": "markdown",
   "id": "04305fb9",
   "metadata": {},
   "source": [
    "## Distribution of Goals"
   ]
  },
  {
   "cell_type": "code",
   "execution_count": 108,
   "id": "2ed86aa3",
   "metadata": {},
   "outputs": [
    {
     "name": "stderr",
     "output_type": "stream",
     "text": [
      "/var/folders/gv/0cnp_rxd5w17b9snllc_9tgw0000gn/T/ipykernel_1444/1873434134.py:2: FutureWarning:\n",
      "\n",
      "\n",
      "\n",
      "Passing `palette` without assigning `hue` is deprecated and will be removed in v0.14.0. Assign the `x` variable to `hue` and set `legend=False` for the same effect.\n",
      "\n",
      "\n"
     ]
    },
    {
     "data": {
      "image/png": "[encoded data removed]",
      "text/plain": [
       "<Figure size 1200x600 with 1 Axes>"
      ]
     },
     "metadata": {},
     "output_type": "display_data"
    }
   ],
   "source": [
    "plt.figure(figsize=(12, 6))\n",
    "sns.boxplot(x='Season_End_Year', y='total_goals', data=df, palette='muted')\n",
    "plt.title('Distribution of Goals Per Season')\n",
    "plt.xlabel('Season')\n",
    "plt.ylabel('Total Goals')\n",
    "plt.xticks(rotation=90)\n",
    "plt.show()"
   ]
  },
  {
   "cell_type": "markdown",
   "id": "85288bba",
   "metadata": {},
   "source": [
    "## Average goals per match over the years"
   ]
  },
  {
   "cell_type": "code",
   "execution_count": 116,
   "id": "f419de85",
   "metadata": {},
   "outputs": [
    {
     "data": {
      "image/png": "[encoded data removed]",
      "text/plain": [
       "<Figure size 1200x600 with 2 Axes>"
      ]
     },
     "metadata": {},
     "output_type": "display_data"
    }
   ],
   "source": [
    "plt.figure(figsize=(12, 6))\n",
    "plt.scatter(avg_goals_per_match['Season_End_Year'], avg_goals_per_match['avg_goals_per_match'], \n",
    "            s=avg_goals_per_match['Home'] * 2, c=avg_goals_per_match['avg_goals_per_match'], cmap='viridis', alpha=0.7)\n",
    "plt.colorbar(label='Average Goals per Match')\n",
    "plt.title(' Average Goals Per Match')\n",
    "plt.xlabel('Season')\n",
    "plt.ylabel('Avg Goals Per Match')\n",
    "plt.show()\n"
   ]
  },
  {
   "cell_type": "markdown",
   "id": "952d5ede",
   "metadata": {},
   "source": [
    "## Home vs Away win rate"
   ]
  },
  {
   "cell_type": "code",
   "execution_count": 35,
   "id": "10596731",
   "metadata": {},
   "outputs": [],
   "source": [
    "# Calculate total matches and wins at home and away\n",
    "total_matches = df.groupby('Season_End_Year').size()\n",
    "home_wins = df[df['HomeGoals'] > df['AwayGoals']].groupby('Season_End_Year').size()\n",
    "away_wins = df[df['AwayGoals'] > df['HomeGoals']].groupby('Season_End_Year').size()\n",
    "\n",
    "# Calculate win rates\n",
    "win_rate_comparison = pd.DataFrame({\n",
    "    'home_win': (home_wins / total_matches).fillna(0),\n",
    "    'away_win': (away_wins / total_matches).fillna(0)\n",
    "}).reset_index()\n"
   ]
  },
  {
   "cell_type": "code",
   "execution_count": 38,
   "id": "f2dfe720",
   "metadata": {},
   "outputs": [
    {
     "data": {
      "image/png": "[encoded data removed]",
      "text/plain": [
       "<Figure size 1200x600 with 1 Axes>"
      ]
     },
     "metadata": {},
     "output_type": "display_data"
    }
   ],
   "source": [
    "plt.figure(figsize=(12, 6))\n",
    "sns.lineplot(x='Season_End_Year', y='home_win', data=win_rate_comparison, label='Home Win Rate', color='purple', linewidth=2.5)\n",
    "sns.lineplot(x='Season_End_Year', y='away_win', data=win_rate_comparison, label='Away Win Rate', color='steelblue', linestyle='dashed', linewidth=2.5)\n",
    "plt.title(' Home vs.Away Win Rate Over Seasons')\n",
    "plt.xlabel('Season')\n",
    "plt.ylabel('Win Rate')\n",
    "plt.xticks(rotation=45)\n",
    "plt.legend()\n",
    "plt.grid(True)\n",
    "plt.show()\n"
   ]
  },
  {
   "cell_type": "code",
   "execution_count": 48,
   "id": "ee9a1b31",
   "metadata": {},
   "outputs": [
    {
     "data": {
      "application/vnd.plotly.v1+json": {
       "config": {
        "plotlyServerURL": "https://plot.ly"
       },
       "data": [
        {
         "branchvalues": "total",
         "customdata": [
          [
           2.36
          ],
          [
           2.04
          ],
          [
           2.7777777777777777
          ],
          [
           2.466666666666667
          ],
          [
           2.5555555555555554
          ],
          [
           3.372093023255814
          ],
          [
           3
          ],
          [
           2.9523809523809526
          ],
          [
           3.6666666666666665
          ],
          [
           2.7142857142857144
          ],
          [
           3.0851063829787235
          ],
          [
           2.85
          ],
          [
           3.7037037037037037
          ],
          [
           3.7083333333333335
          ],
          [
           3.046511627906977
          ],
          [
           2.4594594594594597
          ],
          [
           2.7419354838709675
          ],
          [
           3.4166666666666665
          ],
          [
           3
          ],
          [
           3.4615384615384617
          ],
          [
           4.276595744680851
          ],
          [
           2.5555555555555554
          ],
          [
           3.097560975609756
          ],
          [
           2.5483870967741935
          ],
          [
           2.4358974358974357
          ],
          [
           3.5185185185185186
          ],
          [
           2.857142857142857
          ],
          [
           2.5
          ],
          [
           2.5833333333333335
          ],
          [
           2.657142857142857
          ],
          [
           3.5283018867924527
          ],
          [
           2.7222222222222223
          ],
          [
           2.8260869565217392
          ],
          [
           3.4444444444444446
          ],
          [
           2.6875
          ],
          [
           2.4074074074074074
          ],
          [
           2.3076923076923075
          ],
          [
           2.3333333333333335
          ],
          [
           2.130434782608696
          ],
          [
           2.259259259259259
          ],
          [
           1.8181818181818181
          ],
          [
           2.52
          ],
          [
           2.3333333333333335
          ],
          [
           2.1538461538461537
          ],
          [
           2.2
          ],
          [
           1.8
          ],
          [
           2.764705882352941
          ],
          [
           2.6296296296296298
          ],
          [
           2.9310344827586206
          ],
          [
           2.230769230769231
          ],
          [
           1.9
          ],
          [
           2.8260869565217392
          ],
          [
           2.727272727272727
          ],
          [
           2
          ],
          [
           1.5714285714285714
          ],
          [
           1.6363636363636365
          ],
          [
           3.2758620689655173
          ],
          [
           2.2413793103448274
          ],
          [
           2.3333333333333335
          ],
          [
           2.12
          ],
          [
           2.28
          ],
          [
           2.3846153846153846
          ],
          [
           2.0833333333333335
          ],
          [
           2.473684210526316
          ],
          [
           2.6
          ],
          [
           1.5263157894736843
          ],
          [
           1.631578947368421
          ],
          [
           3.3157894736842106
          ],
          [
           1.967741935483871
          ],
          [
           3
          ],
          [
           3.4545454545454546
          ],
          [
           2.5714285714285716
          ],
          [
           3.75
          ],
          [
           1.9523809523809523
          ],
          [
           3.3636363636363638
          ],
          [
           2.25
          ],
          [
           2.36
          ],
          [
           2.142857142857143
          ],
          [
           2.6129032258064515
          ],
          [
           2.6129032258064515
          ],
          [
           2.6923076923076925
          ],
          [
           2
          ],
          [
           2.357142857142857
          ],
          [
           1.9090909090909092
          ],
          [
           2.6153846153846154
          ],
          [
           2.066666666666667
          ],
          [
           1.5
          ],
          [
           2.52
          ],
          [
           2.3
          ],
          [
           2.185185185185185
          ],
          [
           2.0833333333333335
          ],
          [
           2.36
          ],
          [
           2.310344827586207
          ],
          [
           2.3076923076923075
          ],
          [
           2.217391304347826
          ],
          [
           2.4285714285714284
          ],
          [
           2.5384615384615383
          ],
          [
           2.764705882352941
          ],
          [
           2.4782608695652173
          ],
          [
           2.0434782608695654
          ],
          [
           3.1142857142857143
          ],
          [
           2.230769230769231
          ],
          [
           2.466666666666667
          ],
          [
           2.3636363636363638
          ],
          [
           2.3
          ],
          [
           2.3076923076923075
          ],
          [
           1.9
          ],
          [
           2
          ],
          [
           2.7142857142857144
          ],
          [
           2.25
          ],
          [
           1.736842105263158
          ],
          [
           2
          ],
          [
           2
          ],
          [
           2.3684210526315788
          ],
          [
           3.5405405405405403
          ],
          [
           1.96
          ],
          [
           1.4285714285714286
          ],
          [
           2.230769230769231
          ],
          [
           1.375
          ],
          [
           1.9166666666666667
          ],
          [
           2
          ],
          [
           1.5714285714285714
          ],
          [
           2.111111111111111
          ],
          [
           2.2
          ],
          [
           2.142857142857143
          ],
          [
           2.8
          ],
          [
           2.225806451612903
          ],
          [
           2.3043478260869565
          ],
          [
           2.3076923076923075
          ],
          [
           2.3793103448275863
          ],
          [
           2.2413793103448274
          ],
          [
           2
          ],
          [
           2.0526315789473686
          ],
          [
           2.3793103448275863
          ],
          [
           2.2903225806451615
          ],
          [
           2.12
          ],
          [
           2.6666666666666665
          ],
          [
           2.757575757575758
          ],
          [
           3.27027027027027
          ],
          [
           2.0344827586206895
          ],
          [
           2.8285714285714287
          ],
          [
           3.272727272727273
          ],
          [
           3.3255813953488373
          ],
          [
           2.902439024390244
          ],
          [
           3.235294117647059
          ],
          [
           2.8857142857142857
          ],
          [
           3
          ],
          [
           2.5675675675675675
          ],
          [
           3.4444444444444446
          ],
          [
           2.878787878787879
          ],
          [
           4.852941176470588
          ],
          [
           2.948717948717949
          ],
          [
           3.097560975609756
          ],
          [
           3.682926829268293
          ],
          [
           3.13953488372093
          ],
          [
           2.2777777777777777
          ],
          [
           2.4375
          ],
          [
           3.4
          ],
          [
           2.7333333333333334
          ],
          [
           2.8461538461538463
          ],
          [
           2.3333333333333335
          ],
          [
           2.7419354838709675
          ],
          [
           3.054054054054054
          ],
          [
           1.9
          ],
          [
           2.6551724137931036
          ],
          [
           1.8695652173913044
          ],
          [
           2.0434782608695654
          ],
          [
           2.619047619047619
          ],
          [
           1.9473684210526316
          ],
          [
           2.230769230769231
          ],
          [
           2.076923076923077
          ],
          [
           3
          ],
          [
           1.4285714285714286
          ],
          [
           2.111111111111111
          ],
          [
           1.75
          ],
          [
           1.9333333333333333
          ],
          [
           2.238095238095238
          ],
          [
           2.111111111111111
          ],
          [
           1.8571428571428572
          ],
          [
           2.3684210526315788
          ],
          [
           2.6666666666666665
          ],
          [
           2.5172413793103448
          ],
          [
           2.473684210526316
          ],
          [
           1.4
          ],
          [
           2.1
          ],
          [
           2.185185185185185
          ],
          [
           2.238095238095238
          ],
          [
           2.36
          ],
          [
           2.8181818181818183
          ],
          [
           2.090909090909091
          ],
          [
           2.5454545454545454
          ],
          [
           1.7826086956521738
          ],
          [
           2
          ],
          [
           1.5
          ],
          [
           2.1538461538461537
          ],
          [
           3.4615384615384617
          ],
          [
           2.2903225806451615
          ],
          [
           2.3142857142857145
          ],
          [
           3.0833333333333335
          ],
          [
           2.28
          ],
          [
           3.909090909090909
          ],
          [
           3.388888888888889
          ],
          [
           2.0344827586206895
          ],
          [
           2.5384615384615383
          ],
          [
           1.7857142857142858
          ],
          [
           2.5555555555555554
          ],
          [
           2.0833333333333335
          ],
          [
           2.272727272727273
          ],
          [
           2.3333333333333335
          ],
          [
           3.176470588235294
          ],
          [
           2.4838709677419355
          ],
          [
           2.4285714285714284
          ],
          [
           2.3548387096774195
          ],
          [
           2.5714285714285716
          ],
          [
           2.090909090909091
          ],
          [
           2.6842105263157894
          ],
          [
           2.4074074074074074
          ],
          [
           3.1142857142857143
          ],
          [
           3.2857142857142856
          ],
          [
           2.4285714285714284
          ],
          [
           2.2666666666666666
          ],
          [
           2
          ],
          [
           2.5833333333333335
          ],
          [
           2.259259259259259
          ],
          [
           1.375
          ],
          [
           2.142857142857143
          ],
          [
           2.4615384615384617
          ],
          [
           2.103448275862069
          ],
          [
           2.793103448275862
          ],
          [
           2.6129032258064515
          ],
          [
           1.4444444444444444
          ],
          [
           2.1818181818181817
          ],
          [
           2.142857142857143
          ],
          [
           2.4074074074074074
          ],
          [
           2.2
          ],
          [
           3.3333333333333335
          ],
          [
           2.5714285714285716
          ],
          [
           1.5
          ],
          [
           2.4545454545454546
          ],
          [
           1.4444444444444444
          ],
          [
           2.5483870967741935
          ],
          [
           2
          ],
          [
           1
          ],
          [
           1.5555555555555556
          ],
          [
           2
          ],
          [
           3
          ],
          [
           1.736842105263158
          ],
          [
           2.357142857142857
          ],
          [
           2.2413793103448274
          ],
          [
           1.5714285714285714
          ],
          [
           2.1666666666666665
          ],
          [
           2.032258064516129
          ],
          [
           2.6
          ],
          [
           2.9
          ],
          [
           2.6216216216216215
          ],
          [
           2.5428571428571427
          ],
          [
           1.9523809523809523
          ],
          [
           2.066666666666667
          ],
          [
           2.870967741935484
          ],
          [
           2.8125
          ],
          [
           2.3793103448275863
          ],
          [
           3.0555555555555554
          ],
          [
           2.4838709677419355
          ],
          [
           2.04
          ],
          [
           2.52
          ],
          [
           2.9285714285714284
          ],
          [
           1.736842105263158
          ],
          [
           2.1538461538461537
          ],
          [
           2.2142857142857144
          ],
          [
           1.9090909090909092
          ],
          [
           2.0476190476190474
          ],
          [
           1.8
          ],
          [
           2.6129032258064515
          ],
          [
           2.2857142857142856
          ],
          [
           1.5333333333333334
          ],
          [
           2.1578947368421053
          ],
          [
           3
          ],
          [
           2.5428571428571427
          ],
          [
           2.6129032258064515
          ],
          [
           1.96
          ],
          [
           2.1666666666666665
          ],
          [
           3
          ],
          [
           2.823529411764706
          ],
          [
           2.8823529411764706
          ],
          [
           2.5652173913043477
          ],
          [
           3.341463414634146
          ],
          [
           2.272727272727273
          ],
          [
           2.736842105263158
          ],
          [
           3.608695652173913
          ],
          [
           3.3684210526315788
          ],
          [
           3.142857142857143
          ],
          [
           3.590909090909091
          ],
          [
           2.5
          ],
          [
           2.8
          ],
          [
           2.5757575757575757
          ],
          [
           2
          ],
          [
           2.4482758620689653
          ],
          [
           2.3548387096774195
          ],
          [
           2.5625
          ],
          [
           2.7948717948717947
          ],
          [
           3.2790697674418605
          ],
          [
           3.048780487804878
          ],
          [
           3.186046511627907
          ],
          [
           2.675675675675676
          ],
          [
           2.3333333333333335
          ],
          [
           3.242424242424242
          ],
          [
           3.6037735849056602
          ],
          [
           2.2
          ],
          [
           2.515151515151515
          ],
          [
           3.3555555555555556
          ],
          [
           3.488888888888889
          ],
          [
           3.6545454545454548
          ],
          [
           3.230769230769231
          ],
          [
           2.6551724137931036
          ],
          [
           3.204081632653061
          ],
          [
           4.3478260869565215
          ],
          [
           2.4
          ],
          [
           1.9166666666666667
          ],
          [
           2.8378378378378377
          ],
          [
           1.7619047619047619
          ],
          [
           2.8
          ],
          [
           2.5714285714285716
          ],
          [
           3.6451612903225805
          ],
          [
           2.25
          ],
          [
           2.6923076923076925
          ],
          [
           2
          ],
          [
           2.357142857142857
          ],
          [
           3.3
          ],
          [
           3.1951219512195124
          ],
          [
           2.9411764705882355
          ],
          [
           3.2181818181818183
          ],
          [
           2.707317073170732
          ],
          [
           4.301587301587301
          ],
          [
           3.3181818181818183
          ],
          [
           3.5531914893617023
          ],
          [
           2.72972972972973
          ],
          [
           4.081967213114754
          ],
          [
           3.8421052631578947
          ],
          [
           4.052631578947368
          ],
          [
           3.3255813953488373
          ],
          [
           4.310344827586207
          ],
          [
           3.8
          ],
          [
           2.7948717948717947
          ],
          [
           2.8461538461538463
          ],
          [
           3.9047619047619047
          ],
          [
           2.611111111111111
          ],
          [
           2.736842105263158
          ],
          [
           3.619047619047619
          ],
          [
           2.9555555555555557
          ],
          [
           3.8813559322033897
          ],
          [
           3.6530612244897958
          ],
          [
           3.85
          ],
          [
           2.9047619047619047
          ],
          [
           2.7837837837837838
          ],
          [
           2.5483870967741935
          ],
          [
           2.891891891891892
          ],
          [
           3.1739130434782608
          ],
          [
           3.3404255319148937
          ],
          [
           3.13953488372093
          ],
          [
           3.3461538461538463
          ],
          [
           3.36734693877551
          ],
          [
           3.769230769230769
          ],
          [
           2.911111111111111
          ],
          [
           2.7241379310344827
          ],
          [
           2.8048780487804876
          ],
          [
           2.3333333333333335
          ],
          [
           2.076923076923077
          ],
          [
           2.789473684210526
          ],
          [
           2.696969696969697
          ],
          [
           3.05
          ],
          [
           4.315789473684211
          ],
          [
           3
          ],
          [
           2.4444444444444446
          ],
          [
           2.3333333333333335
          ],
          [
           2.4814814814814814
          ],
          [
           3.764705882352941
          ],
          [
           2.36
          ],
          [
           2.0434782608695654
          ],
          [
           1.8888888888888888
          ],
          [
           2.3043478260869565
          ],
          [
           2.5555555555555554
          ],
          [
           2.68
          ],
          [
           2.2413793103448274
          ],
          [
           2.7857142857142856
          ],
          [
           2.7419354838709675
          ],
          [
           3.5185185185185186
          ],
          [
           1.8235294117647058
          ],
          [
           1.588235294117647
          ],
          [
           3.6666666666666665
          ],
          [
           2.869565217391304
          ],
          [
           2.789473684210526
          ],
          [
           3.925925925925926
          ],
          [
           1.9090909090909092
          ],
          [
           2.3846153846153846
          ],
          [
           3.761904761904762
          ],
          [
           2.1538461538461537
          ],
          [
           3.2
          ],
          [
           2.5
          ],
          [
           2.757575757575758
          ],
          [
           2.28
          ],
          [
           2.2857142857142856
          ],
          [
           2.217391304347826
          ],
          [
           2.28
          ],
          [
           1.8333333333333333
          ],
          [
           3.682926829268293
          ],
          [
           2.1724137931034484
          ],
          [
           2.25
          ],
          [
           2.5652173913043477
          ],
          [
           2
          ],
          [
           3.1875
          ],
          [
           2.142857142857143
          ],
          [
           2.1666666666666665
          ],
          [
           1.7
          ],
          [
           2.1538461538461537
          ],
          [
           1.9230769230769231
          ],
          [
           3.5555555555555554
          ],
          [
           2.2903225806451615
          ],
          [
           2.1538461538461537
          ],
          [
           2.3333333333333335
          ],
          [
           2.2413793103448274
          ],
          [
           2.2857142857142856
          ],
          [
           2.2
          ],
          [
           1.7058823529411764
          ],
          [
           2.5384615384615383
          ],
          [
           1.9473684210526316
          ],
          [
           1.5
          ],
          [
           1.588235294117647
          ],
          [
           2.5555555555555554
          ],
          [
           2.3793103448275863
          ],
          [
           1.5333333333333334
          ],
          [
           1.5555555555555556
          ],
          [
           2.037037037037037
          ],
          [
           3.4651162790697674
          ],
          [
           2.1666666666666665
          ],
          [
           3.4
          ],
          [
           2.7333333333333334
          ],
          [
           1.3529411764705883
          ],
          [
           2.2142857142857144
          ],
          [
           3.9166666666666665
          ],
          [
           2.076923076923077
          ],
          [
           2.25
          ],
          [
           2.902439024390244
          ],
          [
           2.25
          ],
          [
           2.2222222222222223
          ],
          [
           1.96
          ],
          [
           2
          ],
          [
           1.6153846153846154
          ],
          [
           2.0434782608695654
          ],
          [
           3
          ],
          [
           1.8421052631578947
          ],
          [
           2.217391304347826
          ],
          [
           2.8181818181818183
          ],
          [
           1.9166666666666667
          ],
          [
           1.75
          ],
          [
           2.1666666666666665
          ],
          [
           1.3333333333333333
          ],
          [
           2.411764705882353
          ],
          [
           3.375
          ],
          [
           2.6923076923076925
          ],
          [
           3.1333333333333333
          ],
          [
           2.04
          ],
          [
           2.4
          ],
          [
           2.5
          ],
          [
           3
          ],
          [
           2.2
          ],
          [
           3.1333333333333333
          ],
          [
           2.3333333333333335
          ],
          [
           1.9523809523809523
          ],
          [
           3.1875
          ],
          [
           2.357142857142857
          ],
          [
           2.310344827586207
          ],
          [
           2.1538461538461537
          ],
          [
           2.111111111111111
          ],
          [
           1.9565217391304348
          ],
          [
           2.28
          ],
          [
           2.3333333333333335
          ],
          [
           2.2666666666666666
          ],
          [
           2.230769230769231
          ],
          [
           2.625
          ],
          [
           4.135135135135135
          ],
          [
           2.8974358974358974
          ],
          [
           2.0588235294117645
          ],
          [
           2.2
          ],
          [
           2.037037037037037
          ],
          [
           1.6666666666666667
          ],
          [
           2.2142857142857144
          ],
          [
           1.8695652173913044
          ],
          [
           2.1578947368421053
          ],
          [
           1.8181818181818181
          ],
          [
           1.9166666666666667
          ],
          [
           2.4193548387096775
          ],
          [
           1.8
          ],
          [
           1.9523809523809523
          ],
          [
           2.4074074074074074
          ],
          [
           2.8125
          ],
          [
           1.9090909090909092
          ],
          [
           1.9166666666666667
          ],
          [
           1.8
          ],
          [
           1.9
          ],
          [
           2.0714285714285716
          ],
          [
           2.0833333333333335
          ],
          [
           1.3333333333333333
          ],
          [
           1.3636363636363635
          ],
          [
           1.1666666666666667
          ],
          [
           1.9565217391304348
          ],
          [
           1.9523809523809523
          ],
          [
           2.9375
          ],
          [
           2.12
          ],
          [
           2.3076923076923075
          ],
          [
           1.8
          ],
          [
           2.142857142857143
          ],
          [
           1.75
          ],
          [
           2.391304347826087
          ],
          [
           1.875
          ],
          [
           2.5555555555555554
          ],
          [
           2.5714285714285716
          ],
          [
           2.6363636363636362
          ],
          [
           1.962962962962963
          ],
          [
           1.8
          ],
          [
           2.5555555555555554
          ],
          [
           2.176470588235294
          ],
          [
           1.96
          ],
          [
           3
          ],
          [
           2.3793103448275863
          ],
          [
           2.4375
          ],
          [
           2.230769230769231
          ],
          [
           1.5263157894736843
          ],
          [
           2.130434782608696
          ],
          [
           2.357142857142857
          ],
          [
           3.35
          ],
          [
           2.7419354838709675
          ],
          [
           2.3125
          ],
          [
           2.7333333333333334
          ],
          [
           3.121212121212121
          ],
          [
           3.388888888888889
          ],
          [
           2.225806451612903
          ],
          [
           2.764705882352941
          ],
          [
           3.5652173913043477
          ],
          [
           2.142857142857143
          ],
          [
           4.05
          ],
          [
           2.4
          ],
          [
           2.6923076923076925
          ],
          [
           2.103448275862069
          ],
          [
           2.6666666666666665
          ],
          [
           3
          ],
          [
           2.8857142857142857
          ],
          [
           3.0851063829787235
          ],
          [
           3.3
          ],
          [
           2.823529411764706
          ],
          [
           2.7777777777777777
          ],
          [
           2.7142857142857144
          ],
          [
           3.1052631578947367
          ],
          [
           3
          ],
          [
           1.6666666666666667
          ],
          [
           2.263157894736842
          ],
          [
           2
          ],
          [
           2.04
          ],
          [
           2.185185185185185
          ],
          [
           2.230769230769231
          ],
          [
           2.090909090909091
          ],
          [
           2.176470588235294
          ],
          [
           1.3529411764705883
          ],
          [
           1.588235294117647
          ],
          [
           2.142857142857143
          ],
          [
           2.230769230769231
          ],
          [
           2.1333333333333333
          ],
          [
           2.142857142857143
          ],
          [
           2.5
          ],
          [
           2
          ],
          [
           2.1666666666666665
          ],
          [
           1.8
          ],
          [
           2.925925925925926
          ],
          [
           1.5714285714285714
          ],
          [
           1.9333333333333333
          ],
          [
           2.3076923076923075
          ],
          [
           2.142857142857143
          ],
          [
           2.04
          ],
          [
           2.7777777777777777
          ],
          [
           3.15
          ],
          [
           2.8125
          ],
          [
           3
          ],
          [
           2.9166666666666665
          ],
          [
           2.4375
          ],
          [
           1.8571428571428572
          ],
          [
           2.2666666666666666
          ],
          [
           2.1666666666666665
          ],
          [
           2
          ],
          [
           2.4782608695652173
          ],
          [
           2.466666666666667
          ],
          [
           2
          ],
          [
           2.5294117647058822
          ],
          [
           2.2
          ],
          [
           1.96
          ],
          [
           2.176470588235294
          ],
          [
           1.631578947368421
          ],
          [
           1.9166666666666667
          ],
          [
           2.875
          ],
          [
           2.466666666666667
          ],
          [
           2.4375
          ],
          [
           2.1515151515151514
          ],
          [
           2.230769230769231
          ],
          [
           2.1666666666666665
          ],
          [
           2.4444444444444446
          ],
          [
           2.4285714285714284
          ],
          [
           1.7058823529411764
          ],
          [
           1.8421052631578947
          ],
          [
           2.1818181818181817
          ],
          [
           2.272727272727273
          ],
          [
           2
          ],
          [
           2.625
          ],
          [
           2.4285714285714284
          ],
          [
           2.1538461538461537
          ],
          [
           2.259259259259259
          ],
          [
           2.357142857142857
          ],
          [
           2.111111111111111
          ],
          [
           1.7272727272727273
          ],
          [
           2.4
          ],
          [
           2.130434782608696
          ],
          [
           1.6153846153846154
          ],
          [
           2.3333333333333335
          ],
          [
           1.9473684210526316
          ],
          [
           2.357142857142857
          ],
          [
           2.037037037037037
          ],
          [
           1.5714285714285714
          ],
          [
           2.4
          ],
          [
           1.736842105263158
          ],
          [
           2.66804979253112
          ],
          [
           2.526395173453997
          ],
          [
           2.601147776183644
          ],
          [
           2.5620689655172413
          ],
          [
           2.717352415026834
          ],
          [
           2.766891891891892
          ],
          [
           2.5443037974683542
          ],
          [
           2.8299212598425196
          ],
          [
           2.6115843270868826
          ],
          [
           2.6050269299820465
          ],
          [
           2.4105263157894736
          ],
          [
           2.667832167832168
          ],
          [
           2.536842105263158
          ],
          [
           2.5315315315315314
          ],
          [
           2.5
          ],
          [
           2.8141135972461275
          ],
          [
           2.4473684210526314
          ],
          [
           2.9627906976744187
          ],
          [
           2.5688816855753647
          ],
          [
           2.7019867549668874
          ],
          [
           2.6587837837837838
          ],
          [
           2.7759197324414715
          ],
          [
           2.5535714285714284
          ],
          [
           2.5520282186948853
          ],
          [
           2.6639209225700164
          ],
          [
           2.7010309278350517
          ],
          [
           2.664429530201342
          ],
          [
           2.5416666666666665
          ],
          [
           2.6381322957198443
          ],
          [
           2.6730434782608694
          ],
          [
           2.864734299516908
          ]
         ],
         "domain": {
          "x": [
           0,
           1
          ],
          "y": [
           0,
           1
          ]
         },
         "hovertemplate": "labels=%{label}<br>HomeGoals_sum=%{value}<br>parent=%{parent}<br>id=%{id}<br>HomeGoals=%{color}<extra></extra>",
         "ids": [
          "1993/Arsenal",
          "1994/Arsenal",
          "1995/Arsenal",
          "1996/Arsenal",
          "1997/Arsenal",
          "1998/Arsenal",
          "1999/Arsenal",
          "2000/Arsenal",
          "2001/Arsenal",
          "2002/Arsenal",
          "2003/Arsenal",
          "2004/Arsenal",
          "2005/Arsenal",
          "2006/Arsenal",
          "2007/Arsenal",
          "2008/Arsenal",
          "2009/Arsenal",
          "2010/Arsenal",
          "2011/Arsenal",
          "2012/Arsenal",
          "2013/Arsenal",
          "2014/Arsenal",
          "2015/Arsenal",
          "2016/Arsenal",
          "2017/Arsenal",
          "2018/Arsenal",
          "2019/Arsenal",
          "2020/Arsenal",
          "2021/Arsenal",
          "2022/Arsenal",
          "2023/Arsenal",
          "1993/Aston Villa",
          "1994/Aston Villa",
          "1995/Aston Villa",
          "1996/Aston Villa",
          "1997/Aston Villa",
          "1998/Aston Villa",
          "1999/Aston Villa",
          "2000/Aston Villa",
          "2001/Aston Villa",
          "2002/Aston Villa",
          "2003/Aston Villa",
          "2004/Aston Villa",
          "2005/Aston Villa",
          "2006/Aston Villa",
          "2007/Aston Villa",
          "2008/Aston Villa",
          "2009/Aston Villa",
          "2010/Aston Villa",
          "2011/Aston Villa",
          "2012/Aston Villa",
          "2013/Aston Villa",
          "2014/Aston Villa",
          "2015/Aston Villa",
          "2016/Aston Villa",
          "2020/Aston Villa",
          "2021/Aston Villa",
          "2022/Aston Villa",
          "2023/Aston Villa",
          "1998/Barnsley",
          "2003/Birmingham City",
          "2004/Birmingham City",
          "2005/Birmingham City",
          "2006/Birmingham City",
          "2008/Birmingham City",
          "2010/Birmingham City",
          "2011/Birmingham City",
          "1993/Blackburn",
          "1994/Blackburn",
          "1995/Blackburn",
          "1996/Blackburn",
          "1997/Blackburn",
          "1998/Blackburn",
          "1999/Blackburn",
          "2002/Blackburn",
          "2003/Blackburn",
          "2004/Blackburn",
          "2005/Blackburn",
          "2006/Blackburn",
          "2007/Blackburn",
          "2008/Blackburn",
          "2009/Blackburn",
          "2010/Blackburn",
          "2011/Blackburn",
          "2012/Blackburn",
          "2011/Blackpool",
          "1996/Bolton",
          "1998/Bolton",
          "2002/Bolton",
          "2003/Bolton",
          "2004/Bolton",
          "2005/Bolton",
          "2006/Bolton",
          "2007/Bolton",
          "2008/Bolton",
          "2009/Bolton",
          "2010/Bolton",
          "2011/Bolton",
          "2012/Bolton",
          "2016/Bournemouth",
          "2017/Bournemouth",
          "2018/Bournemouth",
          "2019/Bournemouth",
          "2020/Bournemouth",
          "2023/Bournemouth",
          "2000/Bradford City",
          "2001/Bradford City",
          "2022/Brentford",
          "2023/Brentford",
          "2018/Brighton",
          "2019/Brighton",
          "2020/Brighton",
          "2021/Brighton",
          "2022/Brighton",
          "2023/Brighton",
          "2010/Burnley",
          "2015/Burnley",
          "2017/Burnley",
          "2018/Burnley",
          "2019/Burnley",
          "2020/Burnley",
          "2021/Burnley",
          "2022/Burnley",
          "2014/Cardiff City",
          "2019/Cardiff City",
          "1999/Charlton Ath",
          "2001/Charlton Ath",
          "2002/Charlton Ath",
          "2003/Charlton Ath",
          "2004/Charlton Ath",
          "2005/Charlton Ath",
          "2006/Charlton Ath",
          "2007/Charlton Ath",
          "1993/Chelsea",
          "1994/Chelsea",
          "1995/Chelsea",
          "1996/Chelsea",
          "1997/Chelsea",
          "1998/Chelsea",
          "1999/Chelsea",
          "2000/Chelsea",
          "2001/Chelsea",
          "2002/Chelsea",
          "2003/Chelsea",
          "2004/Chelsea",
          "2005/Chelsea",
          "2006/Chelsea",
          "2007/Chelsea",
          "2008/Chelsea",
          "2009/Chelsea",
          "2010/Chelsea",
          "2011/Chelsea",
          "2012/Chelsea",
          "2013/Chelsea",
          "2014/Chelsea",
          "2015/Chelsea",
          "2016/Chelsea",
          "2017/Chelsea",
          "2018/Chelsea",
          "2019/Chelsea",
          "2020/Chelsea",
          "2021/Chelsea",
          "2022/Chelsea",
          "2023/Chelsea",
          "1993/Coventry City",
          "1994/Coventry City",
          "1995/Coventry City",
          "1996/Coventry City",
          "1997/Coventry City",
          "1998/Coventry City",
          "1999/Coventry City",
          "2000/Coventry City",
          "2001/Coventry City",
          "1993/Crystal Palace",
          "1995/Crystal Palace",
          "1998/Crystal Palace",
          "2005/Crystal Palace",
          "2014/Crystal Palace",
          "2015/Crystal Palace",
          "2016/Crystal Palace",
          "2017/Crystal Palace",
          "2018/Crystal Palace",
          "2019/Crystal Palace",
          "2020/Crystal Palace",
          "2021/Crystal Palace",
          "2022/Crystal Palace",
          "2023/Crystal Palace",
          "1997/Derby County",
          "1998/Derby County",
          "1999/Derby County",
          "2000/Derby County",
          "2001/Derby County",
          "2002/Derby County",
          "2008/Derby County",
          "1993/Everton",
          "1994/Everton",
          "1995/Everton",
          "1996/Everton",
          "1997/Everton",
          "1998/Everton",
          "1999/Everton",
          "2000/Everton",
          "2001/Everton",
          "2002/Everton",
          "2003/Everton",
          "2004/Everton",
          "2005/Everton",
          "2006/Everton",
          "2007/Everton",
          "2008/Everton",
          "2009/Everton",
          "2010/Everton",
          "2011/Everton",
          "2012/Everton",
          "2013/Everton",
          "2014/Everton",
          "2015/Everton",
          "2016/Everton",
          "2017/Everton",
          "2018/Everton",
          "2019/Everton",
          "2020/Everton",
          "2021/Everton",
          "2022/Everton",
          "2023/Everton",
          "2002/Fulham",
          "2003/Fulham",
          "2004/Fulham",
          "2005/Fulham",
          "2006/Fulham",
          "2007/Fulham",
          "2008/Fulham",
          "2009/Fulham",
          "2010/Fulham",
          "2011/Fulham",
          "2012/Fulham",
          "2013/Fulham",
          "2014/Fulham",
          "2019/Fulham",
          "2021/Fulham",
          "2023/Fulham",
          "2018/Huddersfield",
          "2019/Huddersfield",
          "2009/Hull City",
          "2010/Hull City",
          "2014/Hull City",
          "2015/Hull City",
          "2017/Hull City",
          "1993/Ipswich Town",
          "1994/Ipswich Town",
          "1995/Ipswich Town",
          "2001/Ipswich Town",
          "2002/Ipswich Town",
          "1993/Leeds United",
          "1994/Leeds United",
          "1995/Leeds United",
          "1996/Leeds United",
          "1997/Leeds United",
          "1998/Leeds United",
          "1999/Leeds United",
          "2000/Leeds United",
          "2001/Leeds United",
          "2002/Leeds United",
          "2003/Leeds United",
          "2004/Leeds United",
          "2021/Leeds United",
          "2022/Leeds United",
          "2023/Leeds United",
          "1995/Leicester City",
          "1997/Leicester City",
          "1998/Leicester City",
          "1999/Leicester City",
          "2000/Leicester City",
          "2001/Leicester City",
          "2002/Leicester City",
          "2004/Leicester City",
          "2015/Leicester City",
          "2016/Leicester City",
          "2017/Leicester City",
          "2018/Leicester City",
          "2019/Leicester City",
          "2020/Leicester City",
          "2021/Leicester City",
          "2022/Leicester City",
          "2023/Leicester City",
          "1993/Liverpool",
          "1994/Liverpool",
          "1995/Liverpool",
          "1996/Liverpool",
          "1997/Liverpool",
          "1998/Liverpool",
          "1999/Liverpool",
          "2000/Liverpool",
          "2001/Liverpool",
          "2002/Liverpool",
          "2003/Liverpool",
          "2004/Liverpool",
          "2005/Liverpool",
          "2006/Liverpool",
          "2007/Liverpool",
          "2008/Liverpool",
          "2009/Liverpool",
          "2010/Liverpool",
          "2011/Liverpool",
          "2012/Liverpool",
          "2013/Liverpool",
          "2014/Liverpool",
          "2015/Liverpool",
          "2016/Liverpool",
          "2017/Liverpool",
          "2018/Liverpool",
          "2019/Liverpool",
          "2020/Liverpool",
          "2021/Liverpool",
          "2022/Liverpool",
          "2023/Liverpool",
          "1993/Manchester City",
          "1994/Manchester City",
          "1995/Manchester City",
          "1996/Manchester City",
          "2001/Manchester City",
          "2003/Manchester City",
          "2004/Manchester City",
          "2005/Manchester City",
          "2006/Manchester City",
          "2007/Manchester City",
          "2008/Manchester City",
          "2009/Manchester City",
          "2010/Manchester City",
          "2011/Manchester City",
          "2012/Manchester City",
          "2013/Manchester City",
          "2014/Manchester City",
          "2015/Manchester City",
          "2016/Manchester City",
          "2017/Manchester City",
          "2018/Manchester City",
          "2019/Manchester City",
          "2020/Manchester City",
          "2021/Manchester City",
          "2022/Manchester City",
          "2023/Manchester City",
          "1993/Manchester Utd",
          "1994/Manchester Utd",
          "1995/Manchester Utd",
          "1996/Manchester Utd",
          "1997/Manchester Utd",
          "1998/Manchester Utd",
          "1999/Manchester Utd",
          "2000/Manchester Utd",
          "2001/Manchester Utd",
          "2002/Manchester Utd",
          "2003/Manchester Utd",
          "2004/Manchester Utd",
          "2005/Manchester Utd",
          "2006/Manchester Utd",
          "2007/Manchester Utd",
          "2008/Manchester Utd",
          "2009/Manchester Utd",
          "2010/Manchester Utd",
          "2011/Manchester Utd",
          "2012/Manchester Utd",
          "2013/Manchester Utd",
          "2014/Manchester Utd",
          "2015/Manchester Utd",
          "2016/Manchester Utd",
          "2017/Manchester Utd",
          "2018/Manchester Utd",
          "2019/Manchester Utd",
          "2020/Manchester Utd",
          "2021/Manchester Utd",
          "2022/Manchester Utd",
          "2023/Manchester Utd",
          "1993/Middlesbrough",
          "1996/Middlesbrough",
          "1997/Middlesbrough",
          "1999/Middlesbrough",
          "2000/Middlesbrough",
          "2001/Middlesbrough",
          "2002/Middlesbrough",
          "2003/Middlesbrough",
          "2004/Middlesbrough",
          "2005/Middlesbrough",
          "2006/Middlesbrough",
          "2007/Middlesbrough",
          "2008/Middlesbrough",
          "2009/Middlesbrough",
          "2017/Middlesbrough",
          "1994/Newcastle Utd",
          "1995/Newcastle Utd",
          "1996/Newcastle Utd",
          "1997/Newcastle Utd",
          "1998/Newcastle Utd",
          "1999/Newcastle Utd",
          "2000/Newcastle Utd",
          "2001/Newcastle Utd",
          "2002/Newcastle Utd",
          "2003/Newcastle Utd",
          "2004/Newcastle Utd",
          "2005/Newcastle Utd",
          "2006/Newcastle Utd",
          "2007/Newcastle Utd",
          "2008/Newcastle Utd",
          "2009/Newcastle Utd",
          "2011/Newcastle Utd",
          "2012/Newcastle Utd",
          "2013/Newcastle Utd",
          "2014/Newcastle Utd",
          "2015/Newcastle Utd",
          "2016/Newcastle Utd",
          "2018/Newcastle Utd",
          "2019/Newcastle Utd",
          "2020/Newcastle Utd",
          "2021/Newcastle Utd",
          "2022/Newcastle Utd",
          "2023/Newcastle Utd",
          "1993/Norwich City",
          "1994/Norwich City",
          "1995/Norwich City",
          "2005/Norwich City",
          "2012/Norwich City",
          "2013/Norwich City",
          "2014/Norwich City",
          "2016/Norwich City",
          "2020/Norwich City",
          "2022/Norwich City",
          "1993/Nott'ham Forest",
          "1995/Nott'ham Forest",
          "1996/Nott'ham Forest",
          "1997/Nott'ham Forest",
          "1999/Nott'ham Forest",
          "2023/Nott'ham Forest",
          "1993/Oldham Athletic",
          "1994/Oldham Athletic",
          "2004/Portsmouth",
          "2005/Portsmouth",
          "2006/Portsmouth",
          "2007/Portsmouth",
          "2008/Portsmouth",
          "2009/Portsmouth",
          "2010/Portsmouth",
          "1993/QPR",
          "1994/QPR",
          "1995/QPR",
          "1996/QPR",
          "2012/QPR",
          "2013/QPR",
          "2015/QPR",
          "2007/Reading",
          "2008/Reading",
          "2013/Reading",
          "1993/Sheffield Utd",
          "1994/Sheffield Utd",
          "2007/Sheffield Utd",
          "2020/Sheffield Utd",
          "2021/Sheffield Utd",
          "1993/Sheffield Weds",
          "1994/Sheffield Weds",
          "1995/Sheffield Weds",
          "1996/Sheffield Weds",
          "1997/Sheffield Weds",
          "1998/Sheffield Weds",
          "1999/Sheffield Weds",
          "2000/Sheffield Weds",
          "1993/Southampton",
          "1994/Southampton",
          "1995/Southampton",
          "1996/Southampton",
          "1997/Southampton",
          "1998/Southampton",
          "1999/Southampton",
          "2000/Southampton",
          "2001/Southampton",
          "2002/Southampton",
          "2003/Southampton",
          "2004/Southampton",
          "2005/Southampton",
          "2013/Southampton",
          "2014/Southampton",
          "2015/Southampton",
          "2016/Southampton",
          "2017/Southampton",
          "2018/Southampton",
          "2019/Southampton",
          "2020/Southampton",
          "2021/Southampton",
          "2022/Southampton",
          "2023/Southampton",
          "2009/Stoke City",
          "2010/Stoke City",
          "2011/Stoke City",
          "2012/Stoke City",
          "2013/Stoke City",
          "2014/Stoke City",
          "2015/Stoke City",
          "2016/Stoke City",
          "2017/Stoke City",
          "2018/Stoke City",
          "1997/Sunderland",
          "2000/Sunderland",
          "2001/Sunderland",
          "2002/Sunderland",
          "2003/Sunderland",
          "2006/Sunderland",
          "2008/Sunderland",
          "2009/Sunderland",
          "2010/Sunderland",
          "2011/Sunderland",
          "2012/Sunderland",
          "2013/Sunderland",
          "2014/Sunderland",
          "2015/Sunderland",
          "2016/Sunderland",
          "2017/Sunderland",
          "2012/Swansea City",
          "2013/Swansea City",
          "2014/Swansea City",
          "2015/Swansea City",
          "2016/Swansea City",
          "2017/Swansea City",
          "2018/Swansea City",
          "1994/Swindon Town",
          "1993/Tottenham",
          "1994/Tottenham",
          "1995/Tottenham",
          "1996/Tottenham",
          "1997/Tottenham",
          "1998/Tottenham",
          "1999/Tottenham",
          "2000/Tottenham",
          "2001/Tottenham",
          "2002/Tottenham",
          "2003/Tottenham",
          "2004/Tottenham",
          "2005/Tottenham",
          "2006/Tottenham",
          "2007/Tottenham",
          "2008/Tottenham",
          "2009/Tottenham",
          "2010/Tottenham",
          "2011/Tottenham",
          "2012/Tottenham",
          "2013/Tottenham",
          "2014/Tottenham",
          "2015/Tottenham",
          "2016/Tottenham",
          "2017/Tottenham",
          "2018/Tottenham",
          "2019/Tottenham",
          "2020/Tottenham",
          "2021/Tottenham",
          "2022/Tottenham",
          "2023/Tottenham",
          "2000/Watford",
          "2007/Watford",
          "2016/Watford",
          "2017/Watford",
          "2018/Watford",
          "2019/Watford",
          "2020/Watford",
          "2022/Watford",
          "2003/West Brom",
          "2005/West Brom",
          "2006/West Brom",
          "2009/West Brom",
          "2011/West Brom",
          "2012/West Brom",
          "2013/West Brom",
          "2014/West Brom",
          "2015/West Brom",
          "2016/West Brom",
          "2017/West Brom",
          "2018/West Brom",
          "2021/West Brom",
          "1994/West Ham",
          "1995/West Ham",
          "1996/West Ham",
          "1997/West Ham",
          "1998/West Ham",
          "1999/West Ham",
          "2000/West Ham",
          "2001/West Ham",
          "2002/West Ham",
          "2003/West Ham",
          "2006/West Ham",
          "2007/West Ham",
          "2008/West Ham",
          "2009/West Ham",
          "2010/West Ham",
          "2011/West Ham",
          "2013/West Ham",
          "2014/West Ham",
          "2015/West Ham",
          "2016/West Ham",
          "2017/West Ham",
          "2018/West Ham",
          "2019/West Ham",
          "2020/West Ham",
          "2021/West Ham",
          "2022/West Ham",
          "2023/West Ham",
          "2006/Wigan Athletic",
          "2007/Wigan Athletic",
          "2008/Wigan Athletic",
          "2009/Wigan Athletic",
          "2010/Wigan Athletic",
          "2011/Wigan Athletic",
          "2012/Wigan Athletic",
          "2013/Wigan Athletic",
          "1993/Wimbledon",
          "1994/Wimbledon",
          "1995/Wimbledon",
          "1996/Wimbledon",
          "1997/Wimbledon",
          "1998/Wimbledon",
          "1999/Wimbledon",
          "2000/Wimbledon",
          "2004/Wolves",
          "2010/Wolves",
          "2011/Wolves",
          "2012/Wolves",
          "2019/Wolves",
          "2020/Wolves",
          "2021/Wolves",
          "2022/Wolves",
          "2023/Wolves",
          "1993",
          "1994",
          "1995",
          "1996",
          "1997",
          "1998",
          "1999",
          "2000",
          "2001",
          "2002",
          "2003",
          "2004",
          "2005",
          "2006",
          "2007",
          "2008",
          "2009",
          "2010",
          "2011",
          "2012",
          "2013",
          "2014",
          "2015",
          "2016",
          "2017",
          "2018",
          "2019",
          "2020",
          "2021",
          "2022",
          "2023"
         ],
         "labels": [
          "Arsenal",
          "Arsenal",
          "Arsenal",
          "Arsenal",
          "Arsenal",
          "Arsenal",
          "Arsenal",
          "Arsenal",
          "Arsenal",
          "Arsenal",
          "Arsenal",
          "Arsenal",
          "Arsenal",
          "Arsenal",
          "Arsenal",
          "Arsenal",
          "Arsenal",
          "Arsenal",
          "Arsenal",
          "Arsenal",
          "Arsenal",
          "Arsenal",
          "Arsenal",
          "Arsenal",
          "Arsenal",
          "Arsenal",
          "Arsenal",
          "Arsenal",
          "Arsenal",
          "Arsenal",
          "Arsenal",
          "Aston Villa",
          "Aston Villa",
          "Aston Villa",
          "Aston Villa",
          "Aston Villa",
          "Aston Villa",
          "Aston Villa",
          "Aston Villa",
          "Aston Villa",
          "Aston Villa",
          "Aston Villa",
          "Aston Villa",
          "Aston Villa",
          "Aston Villa",
          "Aston Villa",
          "Aston Villa",
          "Aston Villa",
          "Aston Villa",
          "Aston Villa",
          "Aston Villa",
          "Aston Villa",
          "Aston Villa",
          "Aston Villa",
          "Aston Villa",
          "Aston Villa",
          "Aston Villa",
          "Aston Villa",
          "Aston Villa",
          "Barnsley",
          "Birmingham City",
          "Birmingham City",
          "Birmingham City",
          "Birmingham City",
          "Birmingham City",
          "Birmingham City",
          "Birmingham City",
          "Blackburn",
          "Blackburn",
          "Blackburn",
          "Blackburn",
          "Blackburn",
          "Blackburn",
          "Blackburn",
          "Blackburn",
          "Blackburn",
          "Blackburn",
          "Blackburn",
          "Blackburn",
          "Blackburn",
          "Blackburn",
          "Blackburn",
          "Blackburn",
          "Blackburn",
          "Blackburn",
          "Blackpool",
          "Bolton",
          "Bolton",
          "Bolton",
          "Bolton",
          "Bolton",
          "Bolton",
          "Bolton",
          "Bolton",
          "Bolton",
          "Bolton",
          "Bolton",
          "Bolton",
          "Bolton",
          "Bournemouth",
          "Bournemouth",
          "Bournemouth",
          "Bournemouth",
          "Bournemouth",
          "Bournemouth",
          "Bradford City",
          "Bradford City",
          "Brentford",
          "Brentford",
          "Brighton",
          "Brighton",
          "Brighton",
          "Brighton",
          "Brighton",
          "Brighton",
          "Burnley",
          "Burnley",
          "Burnley",
          "Burnley",
          "Burnley",
          "Burnley",
          "Burnley",
          "Burnley",
          "Cardiff City",
          "Cardiff City",
          "Charlton Ath",
          "Charlton Ath",
          "Charlton Ath",
          "Charlton Ath",
          "Charlton Ath",
          "Charlton Ath",
          "Charlton Ath",
          "Charlton Ath",
          "Chelsea",
          "Chelsea",
          "Chelsea",
          "Chelsea",
          "Chelsea",
          "Chelsea",
          "Chelsea",
          "Chelsea",
          "Chelsea",
          "Chelsea",
          "Chelsea",
          "Chelsea",
          "Chelsea",
          "Chelsea",
          "Chelsea",
          "Chelsea",
          "Chelsea",
          "Chelsea",
          "Chelsea",
          "Chelsea",
          "Chelsea",
          "Chelsea",
          "Chelsea",
          "Chelsea",
          "Chelsea",
          "Chelsea",
          "Chelsea",
          "Chelsea",
          "Chelsea",
          "Chelsea",
          "Chelsea",
          "Coventry City",
          "Coventry City",
          "Coventry City",
          "Coventry City",
          "Coventry City",
          "Coventry City",
          "Coventry City",
          "Coventry City",
          "Coventry City",
          "Crystal Palace",
          "Crystal Palace",
          "Crystal Palace",
          "Crystal Palace",
          "Crystal Palace",
          "Crystal Palace",
          "Crystal Palace",
          "Crystal Palace",
          "Crystal Palace",
          "Crystal Palace",
          "Crystal Palace",
          "Crystal Palace",
          "Crystal Palace",
          "Crystal Palace",
          "Derby County",
          "Derby County",
          "Derby County",
          "Derby County",
          "Derby County",
          "Derby County",
          "Derby County",
          "Everton",
          "Everton",
          "Everton",
          "Everton",
          "Everton",
          "Everton",
          "Everton",
          "Everton",
          "Everton",
          "Everton",
          "Everton",
          "Everton",
          "Everton",
          "Everton",
          "Everton",
          "Everton",
          "Everton",
          "Everton",
          "Everton",
          "Everton",
          "Everton",
          "Everton",
          "Everton",
          "Everton",
          "Everton",
          "Everton",
          "Everton",
          "Everton",
          "Everton",
          "Everton",
          "Everton",
          "Fulham",
          "Fulham",
          "Fulham",
          "Fulham",
          "Fulham",
          "Fulham",
          "Fulham",
          "Fulham",
          "Fulham",
          "Fulham",
          "Fulham",
          "Fulham",
          "Fulham",
          "Fulham",
          "Fulham",
          "Fulham",
          "Huddersfield",
          "Huddersfield",
          "Hull City",
          "Hull City",
          "Hull City",
          "Hull City",
          "Hull City",
          "Ipswich Town",
          "Ipswich Town",
          "Ipswich Town",
          "Ipswich Town",
          "Ipswich Town",
          "Leeds United",
          "Leeds United",
          "Leeds United",
          "Leeds United",
          "Leeds United",
          "Leeds United",
          "Leeds United",
          "Leeds United",
          "Leeds United",
          "Leeds United",
          "Leeds United",
          "Leeds United",
          "Leeds United",
          "Leeds United",
          "Leeds United",
          "Leicester City",
          "Leicester City",
          "Leicester City",
          "Leicester City",
          "Leicester City",
          "Leicester City",
          "Leicester City",
          "Leicester City",
          "Leicester City",
          "Leicester City",
          "Leicester City",
          "Leicester City",
          "Leicester City",
          "Leicester City",
          "Leicester City",
          "Leicester City",
          "Leicester City",
          "Liverpool",
          "Liverpool",
          "Liverpool",
          "Liverpool",
          "Liverpool",
          "Liverpool",
          "Liverpool",
          "Liverpool",
          "Liverpool",
          "Liverpool",
          "Liverpool",
          "Liverpool",
          "Liverpool",
          "Liverpool",
          "Liverpool",
          "Liverpool",
          "Liverpool",
          "Liverpool",
          "Liverpool",
          "Liverpool",
          "Liverpool",
          "Liverpool",
          "Liverpool",
          "Liverpool",
          "Liverpool",
          "Liverpool",
          "Liverpool",
          "Liverpool",
          "Liverpool",
          "Liverpool",
          "Liverpool",
          "Manchester City",
          "Manchester City",
          "Manchester City",
          "Manchester City",
          "Manchester City",
          "Manchester City",
          "Manchester City",
          "Manchester City",
          "Manchester City",
          "Manchester City",
          "Manchester City",
          "Manchester City",
          "Manchester City",
          "Manchester City",
          "Manchester City",
          "Manchester City",
          "Manchester City",
          "Manchester City",
          "Manchester City",
          "Manchester City",
          "Manchester City",
          "Manchester City",
          "Manchester City",
          "Manchester City",
          "Manchester City",
          "Manchester City",
          "Manchester Utd",
          "Manchester Utd",
          "Manchester Utd",
          "Manchester Utd",
          "Manchester Utd",
          "Manchester Utd",
          "Manchester Utd",
          "Manchester Utd",
          "Manchester Utd",
          "Manchester Utd",
          "Manchester Utd",
          "Manchester Utd",
          "Manchester Utd",
          "Manchester Utd",
          "Manchester Utd",
          "Manchester Utd",
          "Manchester Utd",
          "Manchester Utd",
          "Manchester Utd",
          "Manchester Utd",
          "Manchester Utd",
          "Manchester Utd",
          "Manchester Utd",
          "Manchester Utd",
          "Manchester Utd",
          "Manchester Utd",
          "Manchester Utd",
          "Manchester Utd",
          "Manchester Utd",
          "Manchester Utd",
          "Manchester Utd",
          "Middlesbrough",
          "Middlesbrough",
          "Middlesbrough",
          "Middlesbrough",
          "Middlesbrough",
          "Middlesbrough",
          "Middlesbrough",
          "Middlesbrough",
          "Middlesbrough",
          "Middlesbrough",
          "Middlesbrough",
          "Middlesbrough",
          "Middlesbrough",
          "Middlesbrough",
          "Middlesbrough",
          "Newcastle Utd",
          "Newcastle Utd",
          "Newcastle Utd",
          "Newcastle Utd",
          "Newcastle Utd",
          "Newcastle Utd",
          "Newcastle Utd",
          "Newcastle Utd",
          "Newcastle Utd",
          "Newcastle Utd",
          "Newcastle Utd",
          "Newcastle Utd",
          "Newcastle Utd",
          "Newcastle Utd",
          "Newcastle Utd",
          "Newcastle Utd",
          "Newcastle Utd",
          "Newcastle Utd",
          "Newcastle Utd",
          "Newcastle Utd",
          "Newcastle Utd",
          "Newcastle Utd",
          "Newcastle Utd",
          "Newcastle Utd",
          "Newcastle Utd",
          "Newcastle Utd",
          "Newcastle Utd",
          "Newcastle Utd",
          "Norwich City",
          "Norwich City",
          "Norwich City",
          "Norwich City",
          "Norwich City",
          "Norwich City",
          "Norwich City",
          "Norwich City",
          "Norwich City",
          "Norwich City",
          "Nott'ham Forest",
          "Nott'ham Forest",
          "Nott'ham Forest",
          "Nott'ham Forest",
          "Nott'ham Forest",
          "Nott'ham Forest",
          "Oldham Athletic",
          "Oldham Athletic",
          "Portsmouth",
          "Portsmouth",
          "Portsmouth",
          "Portsmouth",
          "Portsmouth",
          "Portsmouth",
          "Portsmouth",
          "QPR",
          "QPR",
          "QPR",
          "QPR",
          "QPR",
          "QPR",
          "QPR",
          "Reading",
          "Reading",
          "Reading",
          "Sheffield Utd",
          "Sheffield Utd",
          "Sheffield Utd",
          "Sheffield Utd",
          "Sheffield Utd",
          "Sheffield Weds",
          "Sheffield Weds",
          "Sheffield Weds",
          "Sheffield Weds",
          "Sheffield Weds",
          "Sheffield Weds",
          "Sheffield Weds",
          "Sheffield Weds",
          "Southampton",
          "Southampton",
          "Southampton",
          "Southampton",
          "Southampton",
          "Southampton",
          "Southampton",
          "Southampton",
          "Southampton",
          "Southampton",
          "Southampton",
          "Southampton",
          "Southampton",
          "Southampton",
          "Southampton",
          "Southampton",
          "Southampton",
          "Southampton",
          "Southampton",
          "Southampton",
          "Southampton",
          "Southampton",
          "Southampton",
          "Southampton",
          "Stoke City",
          "Stoke City",
          "Stoke City",
          "Stoke City",
          "Stoke City",
          "Stoke City",
          "Stoke City",
          "Stoke City",
          "Stoke City",
          "Stoke City",
          "Sunderland",
          "Sunderland",
          "Sunderland",
          "Sunderland",
          "Sunderland",
          "Sunderland",
          "Sunderland",
          "Sunderland",
          "Sunderland",
          "Sunderland",
          "Sunderland",
          "Sunderland",
          "Sunderland",
          "Sunderland",
          "Sunderland",
          "Sunderland",
          "Swansea City",
          "Swansea City",
          "Swansea City",
          "Swansea City",
          "Swansea City",
          "Swansea City",
          "Swansea City",
          "Swindon Town",
          "Tottenham",
          "Tottenham",
          "Tottenham",
          "Tottenham",
          "Tottenham",
          "Tottenham",
          "Tottenham",
          "Tottenham",
          "Tottenham",
          "Tottenham",
          "Tottenham",
          "Tottenham",
          "Tottenham",
          "Tottenham",
          "Tottenham",
          "Tottenham",
          "Tottenham",
          "Tottenham",
          "Tottenham",
          "Tottenham",
          "Tottenham",
          "Tottenham",
          "Tottenham",
          "Tottenham",
          "Tottenham",
          "Tottenham",
          "Tottenham",
          "Tottenham",
          "Tottenham",
          "Tottenham",
          "Tottenham",
          "Watford",
          "Watford",
          "Watford",
          "Watford",
          "Watford",
          "Watford",
          "Watford",
          "Watford",
          "West Brom",
          "West Brom",
          "West Brom",
          "West Brom",
          "West Brom",
          "West Brom",
          "West Brom",
          "West Brom",
          "West Brom",
          "West Brom",
          "West Brom",
          "West Brom",
          "West Brom",
          "West Ham",
          "West Ham",
          "West Ham",
          "West Ham",
          "West Ham",
          "West Ham",
          "West Ham",
          "West Ham",
          "West Ham",
          "West Ham",
          "West Ham",
          "West Ham",
          "West Ham",
          "West Ham",
          "West Ham",
          "West Ham",
          "West Ham",
          "West Ham",
          "West Ham",
          "West Ham",
          "West Ham",
          "West Ham",
          "West Ham",
          "West Ham",
          "West Ham",
          "West Ham",
          "West Ham",
          "Wigan Athletic",
          "Wigan Athletic",
          "Wigan Athletic",
          "Wigan Athletic",
          "Wigan Athletic",
          "Wigan Athletic",
          "Wigan Athletic",
          "Wigan Athletic",
          "Wimbledon",
          "Wimbledon",
          "Wimbledon",
          "Wimbledon",
          "Wimbledon",
          "Wimbledon",
          "Wimbledon",
          "Wimbledon",
          "Wolves",
          "Wolves",
          "Wolves",
          "Wolves",
          "Wolves",
          "Wolves",
          "Wolves",
          "Wolves",
          "Wolves",
          "1993",
          "1994",
          "1995",
          "1996",
          "1997",
          "1998",
          "1999",
          "2000",
          "2001",
          "2002",
          "2003",
          "2004",
          "2005",
          "2006",
          "2007",
          "2008",
          "2009",
          "2010",
          "2011",
          "2012",
          "2013",
          "2014",
          "2015",
          "2016",
          "2017",
          "2018",
          "2019",
          "2020",
          "2021",
          "2022",
          "2023"
         ],
         "marker": {
          "coloraxis": "coloraxis",
          "colors": [
           2.36,
           2.04,
           2.7777777777777777,
           2.466666666666667,
           2.5555555555555554,
           3.372093023255814,
           3,
           2.9523809523809526,
           3.6666666666666665,
           2.7142857142857144,
           3.0851063829787235,
           2.85,
           3.7037037037037037,
           3.7083333333333335,
           3.046511627906977,
           2.4594594594594597,
           2.7419354838709675,
           3.4166666666666665,
           3,
           3.4615384615384617,
           4.276595744680851,
           2.5555555555555554,
           3.097560975609756,
           2.5483870967741935,
           2.4358974358974357,
           3.5185185185185186,
           2.857142857142857,
           2.5,
           2.5833333333333335,
           2.657142857142857,
           3.5283018867924527,
           2.7222222222222223,
           2.8260869565217392,
           3.4444444444444446,
           2.6875,
           2.4074074074074074,
           2.3076923076923075,
           2.3333333333333335,
           2.130434782608696,
           2.259259259259259,
           1.8181818181818181,
           2.52,
           2.3333333333333335,
           2.1538461538461537,
           2.2,
           1.8,
           2.764705882352941,
           2.6296296296296298,
           2.9310344827586206,
           2.230769230769231,
           1.9,
           2.8260869565217392,
           2.727272727272727,
           2,
           1.5714285714285714,
           1.6363636363636365,
           3.2758620689655173,
           2.2413793103448274,
           2.3333333333333335,
           2.12,
           2.28,
           2.3846153846153846,
           2.0833333333333335,
           2.473684210526316,
           2.6,
           1.5263157894736843,
           1.631578947368421,
           3.3157894736842106,
           1.967741935483871,
           3,
           3.4545454545454546,
           2.5714285714285716,
           3.75,
           1.9523809523809523,
           3.3636363636363638,
           2.25,
           2.36,
           2.142857142857143,
           2.6129032258064515,
           2.6129032258064515,
           2.6923076923076925,
           2,
           2.357142857142857,
           1.9090909090909092,
           2.6153846153846154,
           2.066666666666667,
           1.5,
           2.52,
           2.3,
           2.185185185185185,
           2.0833333333333335,
           2.36,
           2.310344827586207,
           2.3076923076923075,
           2.217391304347826,
           2.4285714285714284,
           2.5384615384615383,
           2.764705882352941,
           2.4782608695652173,
           2.0434782608695654,
           3.1142857142857143,
           2.230769230769231,
           2.466666666666667,
           2.3636363636363638,
           2.3,
           2.3076923076923075,
           1.9,
           2,
           2.7142857142857144,
           2.25,
           1.736842105263158,
           2,
           2,
           2.3684210526315788,
           3.5405405405405403,
           1.96,
           1.4285714285714286,
           2.230769230769231,
           1.375,
           1.9166666666666667,
           2,
           1.5714285714285714,
           2.111111111111111,
           2.2,
           2.142857142857143,
           2.8,
           2.225806451612903,
           2.3043478260869565,
           2.3076923076923075,
           2.3793103448275863,
           2.2413793103448274,
           2,
           2.0526315789473686,
           2.3793103448275863,
           2.2903225806451615,
           2.12,
           2.6666666666666665,
           2.757575757575758,
           3.27027027027027,
           2.0344827586206895,
           2.8285714285714287,
           3.272727272727273,
           3.3255813953488373,
           2.902439024390244,
           3.235294117647059,
           2.8857142857142857,
           3,
           2.5675675675675675,
           3.4444444444444446,
           2.878787878787879,
           4.852941176470588,
           2.948717948717949,
           3.097560975609756,
           3.682926829268293,
           3.13953488372093,
           2.2777777777777777,
           2.4375,
           3.4,
           2.7333333333333334,
           2.8461538461538463,
           2.3333333333333335,
           2.7419354838709675,
           3.054054054054054,
           1.9,
           2.6551724137931036,
           1.8695652173913044,
           2.0434782608695654,
           2.619047619047619,
           1.9473684210526316,
           2.230769230769231,
           2.076923076923077,
           3,
           1.4285714285714286,
           2.111111111111111,
           1.75,
           1.9333333333333333,
           2.238095238095238,
           2.111111111111111,
           1.8571428571428572,
           2.3684210526315788,
           2.6666666666666665,
           2.5172413793103448,
           2.473684210526316,
           1.4,
           2.1,
           2.185185185185185,
           2.238095238095238,
           2.36,
           2.8181818181818183,
           2.090909090909091,
           2.5454545454545454,
           1.7826086956521738,
           2,
           1.5,
           2.1538461538461537,
           3.4615384615384617,
           2.2903225806451615,
           2.3142857142857145,
           3.0833333333333335,
           2.28,
           3.909090909090909,
           3.388888888888889,
           2.0344827586206895,
           2.5384615384615383,
           1.7857142857142858,
           2.5555555555555554,
           2.0833333333333335,
           2.272727272727273,
           2.3333333333333335,
           3.176470588235294,
           2.4838709677419355,
           2.4285714285714284,
           2.3548387096774195,
           2.5714285714285716,
           2.090909090909091,
           2.6842105263157894,
           2.4074074074074074,
           3.1142857142857143,
           3.2857142857142856,
           2.4285714285714284,
           2.2666666666666666,
           2,
           2.5833333333333335,
           2.259259259259259,
           1.375,
           2.142857142857143,
           2.4615384615384617,
           2.103448275862069,
           2.793103448275862,
           2.6129032258064515,
           1.4444444444444444,
           2.1818181818181817,
           2.142857142857143,
           2.4074074074074074,
           2.2,
           3.3333333333333335,
           2.5714285714285716,
           1.5,
           2.4545454545454546,
           1.4444444444444444,
           2.5483870967741935,
           2,
           1,
           1.5555555555555556,
           2,
           3,
           1.736842105263158,
           2.357142857142857,
           2.2413793103448274,
           1.5714285714285714,
           2.1666666666666665,
           2.032258064516129,
           2.6,
           2.9,
           2.6216216216216215,
           2.5428571428571427,
           1.9523809523809523,
           2.066666666666667,
           2.870967741935484,
           2.8125,
           2.3793103448275863,
           3.0555555555555554,
           2.4838709677419355,
           2.04,
           2.52,
           2.9285714285714284,
           1.736842105263158,
           2.1538461538461537,
           2.2142857142857144,
           1.9090909090909092,
           2.0476190476190474,
           1.8,
           2.6129032258064515,
           2.2857142857142856,
           1.5333333333333334,
           2.1578947368421053,
           3,
           2.5428571428571427,
           2.6129032258064515,
           1.96,
           2.1666666666666665,
           3,
           2.823529411764706,
           2.8823529411764706,
           2.5652173913043477,
           3.341463414634146,
           2.272727272727273,
           2.736842105263158,
           3.608695652173913,
           3.3684210526315788,
           3.142857142857143,
           3.590909090909091,
           2.5,
           2.8,
           2.5757575757575757,
           2,
           2.4482758620689653,
           2.3548387096774195,
           2.5625,
           2.7948717948717947,
           3.2790697674418605,
           3.048780487804878,
           3.186046511627907,
           2.675675675675676,
           2.3333333333333335,
           3.242424242424242,
           3.6037735849056602,
           2.2,
           2.515151515151515,
           3.3555555555555556,
           3.488888888888889,
           3.6545454545454548,
           3.230769230769231,
           2.6551724137931036,
           3.204081632653061,
           4.3478260869565215,
           2.4,
           1.9166666666666667,
           2.8378378378378377,
           1.7619047619047619,
           2.8,
           2.5714285714285716,
           3.6451612903225805,
           2.25,
           2.6923076923076925,
           2,
           2.357142857142857,
           3.3,
           3.1951219512195124,
           2.9411764705882355,
           3.2181818181818183,
           2.707317073170732,
           4.301587301587301,
           3.3181818181818183,
           3.5531914893617023,
           2.72972972972973,
           4.081967213114754,
           3.8421052631578947,
           4.052631578947368,
           3.3255813953488373,
           4.310344827586207,
           3.8,
           2.7948717948717947,
           2.8461538461538463,
           3.9047619047619047,
           2.611111111111111,
           2.736842105263158,
           3.619047619047619,
           2.9555555555555557,
           3.8813559322033897,
           3.6530612244897958,
           3.85,
           2.9047619047619047,
           2.7837837837837838,
           2.5483870967741935,
           2.891891891891892,
           3.1739130434782608,
           3.3404255319148937,
           3.13953488372093,
           3.3461538461538463,
           3.36734693877551,
           3.769230769230769,
           2.911111111111111,
           2.7241379310344827,
           2.8048780487804876,
           2.3333333333333335,
           2.076923076923077,
           2.789473684210526,
           2.696969696969697,
           3.05,
           4.315789473684211,
           3,
           2.4444444444444446,
           2.3333333333333335,
           2.4814814814814814,
           3.764705882352941,
           2.36,
           2.0434782608695654,
           1.8888888888888888,
           2.3043478260869565,
           2.5555555555555554,
           2.68,
           2.2413793103448274,
           2.7857142857142856,
           2.7419354838709675,
           3.5185185185185186,
           1.8235294117647058,
           1.588235294117647,
           3.6666666666666665,
           2.869565217391304,
           2.789473684210526,
           3.925925925925926,
           1.9090909090909092,
           2.3846153846153846,
           3.761904761904762,
           2.1538461538461537,
           3.2,
           2.5,
           2.757575757575758,
           2.28,
           2.2857142857142856,
           2.217391304347826,
           2.28,
           1.8333333333333333,
           3.682926829268293,
           2.1724137931034484,
           2.25,
           2.5652173913043477,
           2,
           3.1875,
           2.142857142857143,
           2.1666666666666665,
           1.7,
           2.1538461538461537,
           1.9230769230769231,
           3.5555555555555554,
           2.2903225806451615,
           2.1538461538461537,
           2.3333333333333335,
           2.2413793103448274,
           2.2857142857142856,
           2.2,
           1.7058823529411764,
           2.5384615384615383,
           1.9473684210526316,
           1.5,
           1.588235294117647,
           2.5555555555555554,
           2.3793103448275863,
           1.5333333333333334,
           1.5555555555555556,
           2.037037037037037,
           3.4651162790697674,
           2.1666666666666665,
           3.4,
           2.7333333333333334,
           1.3529411764705883,
           2.2142857142857144,
           3.9166666666666665,
           2.076923076923077,
           2.25,
           2.902439024390244,
           2.25,
           2.2222222222222223,
           1.96,
           2,
           1.6153846153846154,
           2.0434782608695654,
           3,
           1.8421052631578947,
           2.217391304347826,
           2.8181818181818183,
           1.9166666666666667,
           1.75,
           2.1666666666666665,
           1.3333333333333333,
           2.411764705882353,
           3.375,
           2.6923076923076925,
           3.1333333333333333,
           2.04,
           2.4,
           2.5,
           3,
           2.2,
           3.1333333333333333,
           2.3333333333333335,
           1.9523809523809523,
           3.1875,
           2.357142857142857,
           2.310344827586207,
           2.1538461538461537,
           2.111111111111111,
           1.9565217391304348,
           2.28,
           2.3333333333333335,
           2.2666666666666666,
           2.230769230769231,
           2.625,
           4.135135135135135,
           2.8974358974358974,
           2.0588235294117645,
           2.2,
           2.037037037037037,
           1.6666666666666667,
           2.2142857142857144,
           1.8695652173913044,
           2.1578947368421053,
           1.8181818181818181,
           1.9166666666666667,
           2.4193548387096775,
           1.8,
           1.9523809523809523,
           2.4074074074074074,
           2.8125,
           1.9090909090909092,
           1.9166666666666667,
           1.8,
           1.9,
           2.0714285714285716,
           2.0833333333333335,
           1.3333333333333333,
           1.3636363636363635,
           1.1666666666666667,
           1.9565217391304348,
           1.9523809523809523,
           2.9375,
           2.12,
           2.3076923076923075,
           1.8,
           2.142857142857143,
           1.75,
           2.391304347826087,
           1.875,
           2.5555555555555554,
           2.5714285714285716,
           2.6363636363636362,
           1.962962962962963,
           1.8,
           2.5555555555555554,
           2.176470588235294,
           1.96,
           3,
           2.3793103448275863,
           2.4375,
           2.230769230769231,
           1.5263157894736843,
           2.130434782608696,
           2.357142857142857,
           3.35,
           2.7419354838709675,
           2.3125,
           2.7333333333333334,
           3.121212121212121,
           3.388888888888889,
           2.225806451612903,
           2.764705882352941,
           3.5652173913043477,
           2.142857142857143,
           4.05,
           2.4,
           2.6923076923076925,
           2.103448275862069,
           2.6666666666666665,
           3,
           2.8857142857142857,
           3.0851063829787235,
           3.3,
           2.823529411764706,
           2.7777777777777777,
           2.7142857142857144,
           3.1052631578947367,
           3,
           1.6666666666666667,
           2.263157894736842,
           2,
           2.04,
           2.185185185185185,
           2.230769230769231,
           2.090909090909091,
           2.176470588235294,
           1.3529411764705883,
           1.588235294117647,
           2.142857142857143,
           2.230769230769231,
           2.1333333333333333,
           2.142857142857143,
           2.5,
           2,
           2.1666666666666665,
           1.8,
           2.925925925925926,
           1.5714285714285714,
           1.9333333333333333,
           2.3076923076923075,
           2.142857142857143,
           2.04,
           2.7777777777777777,
           3.15,
           2.8125,
           3,
           2.9166666666666665,
           2.4375,
           1.8571428571428572,
           2.2666666666666666,
           2.1666666666666665,
           2,
           2.4782608695652173,
           2.466666666666667,
           2,
           2.5294117647058822,
           2.2,
           1.96,
           2.176470588235294,
           1.631578947368421,
           1.9166666666666667,
           2.875,
           2.466666666666667,
           2.4375,
           2.1515151515151514,
           2.230769230769231,
           2.1666666666666665,
           2.4444444444444446,
           2.4285714285714284,
           1.7058823529411764,
           1.8421052631578947,
           2.1818181818181817,
           2.272727272727273,
           2,
           2.625,
           2.4285714285714284,
           2.1538461538461537,
           2.259259259259259,
           2.357142857142857,
           2.111111111111111,
           1.7272727272727273,
           2.4,
           2.130434782608696,
           1.6153846153846154,
           2.3333333333333335,
           1.9473684210526316,
           2.357142857142857,
           2.037037037037037,
           1.5714285714285714,
           2.4,
           1.736842105263158,
           2.66804979253112,
           2.526395173453997,
           2.601147776183644,
           2.5620689655172413,
           2.717352415026834,
           2.766891891891892,
           2.5443037974683542,
           2.8299212598425196,
           2.6115843270868826,
           2.6050269299820465,
           2.4105263157894736,
           2.667832167832168,
           2.536842105263158,
           2.5315315315315314,
           2.5,
           2.8141135972461275,
           2.4473684210526314,
           2.9627906976744187,
           2.5688816855753647,
           2.7019867549668874,
           2.6587837837837838,
           2.7759197324414715,
           2.5535714285714284,
           2.5520282186948853,
           2.6639209225700164,
           2.7010309278350517,
           2.664429530201342,
           2.5416666666666665,
           2.6381322957198443,
           2.6730434782608694,
           2.864734299516908
          ]
         },
         "name": "",
         "parents": [
          "1993",
          "1994",
          "1995",
          "1996",
          "1997",
          "1998",
          "1999",
          "2000",
          "2001",
          "2002",
          "2003",
          "2004",
          "2005",
          "2006",
          "2007",
          "2008",
          "2009",
          "2010",
          "2011",
          "2012",
          "2013",
          "2014",
          "2015",
          "2016",
          "2017",
          "2018",
          "2019",
          "2020",
          "2021",
          "2022",
          "2023",
          "1993",
          "1994",
          "1995",
          "1996",
          "1997",
          "1998",
          "1999",
          "2000",
          "2001",
          "2002",
          "2003",
          "2004",
          "2005",
          "2006",
          "2007",
          "2008",
          "2009",
          "2010",
          "2011",
          "2012",
          "2013",
          "2014",
          "2015",
          "2016",
          "2020",
          "2021",
          "2022",
          "2023",
          "1998",
          "2003",
          "2004",
          "2005",
          "2006",
          "2008",
          "2010",
          "2011",
          "1993",
          "1994",
          "1995",
          "1996",
          "1997",
          "1998",
          "1999",
          "2002",
          "2003",
          "2004",
          "2005",
          "2006",
          "2007",
          "2008",
          "2009",
          "2010",
          "2011",
          "2012",
          "2011",
          "1996",
          "1998",
          "2002",
          "2003",
          "2004",
          "2005",
          "2006",
          "2007",
          "2008",
          "2009",
          "2010",
          "2011",
          "2012",
          "2016",
          "2017",
          "2018",
          "2019",
          "2020",
          "2023",
          "2000",
          "2001",
          "2022",
          "2023",
          "2018",
          "2019",
          "2020",
          "2021",
          "2022",
          "2023",
          "2010",
          "2015",
          "2017",
          "2018",
          "2019",
          "2020",
          "2021",
          "2022",
          "2014",
          "2019",
          "1999",
          "2001",
          "2002",
          "2003",
          "2004",
          "2005",
          "2006",
          "2007",
          "1993",
          "1994",
          "1995",
          "1996",
          "1997",
          "1998",
          "1999",
          "2000",
          "2001",
          "2002",
          "2003",
          "2004",
          "2005",
          "2006",
          "2007",
          "2008",
          "2009",
          "2010",
          "2011",
          "2012",
          "2013",
          "2014",
          "2015",
          "2016",
          "2017",
          "2018",
          "2019",
          "2020",
          "2021",
          "2022",
          "2023",
          "1993",
          "1994",
          "1995",
          "1996",
          "1997",
          "1998",
          "1999",
          "2000",
          "2001",
          "1993",
          "1995",
          "1998",
          "2005",
          "2014",
          "2015",
          "2016",
          "2017",
          "2018",
          "2019",
          "2020",
          "2021",
          "2022",
          "2023",
          "1997",
          "1998",
          "1999",
          "2000",
          "2001",
          "2002",
          "2008",
          "1993",
          "1994",
          "1995",
          "1996",
          "1997",
          "1998",
          "1999",
          "2000",
          "2001",
          "2002",
          "2003",
          "2004",
          "2005",
          "2006",
          "2007",
          "2008",
          "2009",
          "2010",
          "2011",
          "2012",
          "2013",
          "2014",
          "2015",
          "2016",
          "2017",
          "2018",
          "2019",
          "2020",
          "2021",
          "2022",
          "2023",
          "2002",
          "2003",
          "2004",
          "2005",
          "2006",
          "2007",
          "2008",
          "2009",
          "2010",
          "2011",
          "2012",
          "2013",
          "2014",
          "2019",
          "2021",
          "2023",
          "2018",
          "2019",
          "2009",
          "2010",
          "2014",
          "2015",
          "2017",
          "1993",
          "1994",
          "1995",
          "2001",
          "2002",
          "1993",
          "1994",
          "1995",
          "1996",
          "1997",
          "1998",
          "1999",
          "2000",
          "2001",
          "2002",
          "2003",
          "2004",
          "2021",
          "2022",
          "2023",
          "1995",
          "1997",
          "1998",
          "1999",
          "2000",
          "2001",
          "2002",
          "2004",
          "2015",
          "2016",
          "2017",
          "2018",
          "2019",
          "2020",
          "2021",
          "2022",
          "2023",
          "1993",
          "1994",
          "1995",
          "1996",
          "1997",
          "1998",
          "1999",
          "2000",
          "2001",
          "2002",
          "2003",
          "2004",
          "2005",
          "2006",
          "2007",
          "2008",
          "2009",
          "2010",
          "2011",
          "2012",
          "2013",
          "2014",
          "2015",
          "2016",
          "2017",
          "2018",
          "2019",
          "2020",
          "2021",
          "2022",
          "2023",
          "1993",
          "1994",
          "1995",
          "1996",
          "2001",
          "2003",
          "2004",
          "2005",
          "2006",
          "2007",
          "2008",
          "2009",
          "2010",
          "2011",
          "2012",
          "2013",
          "2014",
          "2015",
          "2016",
          "2017",
          "2018",
          "2019",
          "2020",
          "2021",
          "2022",
          "2023",
          "1993",
          "1994",
          "1995",
          "1996",
          "1997",
          "1998",
          "1999",
          "2000",
          "2001",
          "2002",
          "2003",
          "2004",
          "2005",
          "2006",
          "2007",
          "2008",
          "2009",
          "2010",
          "2011",
          "2012",
          "2013",
          "2014",
          "2015",
          "2016",
          "2017",
          "2018",
          "2019",
          "2020",
          "2021",
          "2022",
          "2023",
          "1993",
          "1996",
          "1997",
          "1999",
          "2000",
          "2001",
          "2002",
          "2003",
          "2004",
          "2005",
          "2006",
          "2007",
          "2008",
          "2009",
          "2017",
          "1994",
          "1995",
          "1996",
          "1997",
          "1998",
          "1999",
          "2000",
          "2001",
          "2002",
          "2003",
          "2004",
          "2005",
          "2006",
          "2007",
          "2008",
          "2009",
          "2011",
          "2012",
          "2013",
          "2014",
          "2015",
          "2016",
          "2018",
          "2019",
          "2020",
          "2021",
          "2022",
          "2023",
          "1993",
          "1994",
          "1995",
          "2005",
          "2012",
          "2013",
          "2014",
          "2016",
          "2020",
          "2022",
          "1993",
          "1995",
          "1996",
          "1997",
          "1999",
          "2023",
          "1993",
          "1994",
          "2004",
          "2005",
          "2006",
          "2007",
          "2008",
          "2009",
          "2010",
          "1993",
          "1994",
          "1995",
          "1996",
          "2012",
          "2013",
          "2015",
          "2007",
          "2008",
          "2013",
          "1993",
          "1994",
          "2007",
          "2020",
          "2021",
          "1993",
          "1994",
          "1995",
          "1996",
          "1997",
          "1998",
          "1999",
          "2000",
          "1993",
          "1994",
          "1995",
          "1996",
          "1997",
          "1998",
          "1999",
          "2000",
          "2001",
          "2002",
          "2003",
          "2004",
          "2005",
          "2013",
          "2014",
          "2015",
          "2016",
          "2017",
          "2018",
          "2019",
          "2020",
          "2021",
          "2022",
          "2023",
          "2009",
          "2010",
          "2011",
          "2012",
          "2013",
          "2014",
          "2015",
          "2016",
          "2017",
          "2018",
          "1997",
          "2000",
          "2001",
          "2002",
          "2003",
          "2006",
          "2008",
          "2009",
          "2010",
          "2011",
          "2012",
          "2013",
          "2014",
          "2015",
          "2016",
          "2017",
          "2012",
          "2013",
          "2014",
          "2015",
          "2016",
          "2017",
          "2018",
          "1994",
          "1993",
          "1994",
          "1995",
          "1996",
          "1997",
          "1998",
          "1999",
          "2000",
          "2001",
          "2002",
          "2003",
          "2004",
          "2005",
          "2006",
          "2007",
          "2008",
          "2009",
          "2010",
          "2011",
          "2012",
          "2013",
          "2014",
          "2015",
          "2016",
          "2017",
          "2018",
          "2019",
          "2020",
          "2021",
          "2022",
          "2023",
          "2000",
          "2007",
          "2016",
          "2017",
          "2018",
          "2019",
          "2020",
          "2022",
          "2003",
          "2005",
          "2006",
          "2009",
          "2011",
          "2012",
          "2013",
          "2014",
          "2015",
          "2016",
          "2017",
          "2018",
          "2021",
          "1994",
          "1995",
          "1996",
          "1997",
          "1998",
          "1999",
          "2000",
          "2001",
          "2002",
          "2003",
          "2006",
          "2007",
          "2008",
          "2009",
          "2010",
          "2011",
          "2013",
          "2014",
          "2015",
          "2016",
          "2017",
          "2018",
          "2019",
          "2020",
          "2021",
          "2022",
          "2023",
          "2006",
          "2007",
          "2008",
          "2009",
          "2010",
          "2011",
          "2012",
          "2013",
          "1993",
          "1994",
          "1995",
          "1996",
          "1997",
          "1998",
          "1999",
          "2000",
          "2004",
          "2010",
          "2011",
          "2012",
          "2019",
          "2020",
          "2021",
          "2022",
          "2023",
          "",
          "",
          "",
          "",
          "",
          "",
          "",
          "",
          "",
          "",
          "",
          "",
          "",
          "",
          "",
          "",
          "",
          "",
          "",
          "",
          "",
          "",
          "",
          "",
          "",
          "",
          "",
          "",
          "",
          "",
          ""
         ],
         "type": "treemap",
         "values": [
          25,
          25,
          27,
          30,
          36,
          43,
          34,
          42,
          45,
          42,
          47,
          40,
          54,
          48,
          43,
          37,
          31,
          48,
          33,
          39,
          47,
          36,
          41,
          31,
          39,
          54,
          42,
          36,
          24,
          35,
          53,
          36,
          23,
          27,
          32,
          27,
          26,
          33,
          23,
          27,
          22,
          25,
          24,
          26,
          20,
          20,
          34,
          27,
          29,
          26,
          20,
          23,
          22,
          18,
          14,
          22,
          29,
          29,
          33,
          25,
          25,
          26,
          24,
          19,
          30,
          19,
          19,
          38,
          31,
          54,
          44,
          28,
          40,
          21,
          33,
          24,
          25,
          21,
          31,
          31,
          26,
          22,
          28,
          22,
          26,
          30,
          16,
          25,
          20,
          27,
          24,
          25,
          29,
          26,
          23,
          21,
          26,
          34,
          23,
          23,
          35,
          26,
          30,
          22,
          20,
          26,
          20,
          22,
          35,
          24,
          19,
          20,
          22,
          19,
          37,
          25,
          14,
          26,
          16,
          24,
          24,
          14,
          18,
          20,
          21,
          20,
          31,
          23,
          26,
          29,
          29,
          22,
          19,
          29,
          31,
          25,
          30,
          33,
          37,
          29,
          35,
          44,
          43,
          41,
          34,
          35,
          47,
          37,
          36,
          33,
          68,
          39,
          41,
          41,
          43,
          36,
          32,
          55,
          30,
          39,
          30,
          31,
          37,
          20,
          29,
          23,
          23,
          21,
          19,
          26,
          26,
          38,
          14,
          27,
          16,
          15,
          21,
          18,
          21,
          19,
          24,
          29,
          19,
          15,
          20,
          27,
          21,
          25,
          33,
          22,
          22,
          23,
          20,
          12,
          26,
          26,
          31,
          35,
          24,
          25,
          22,
          36,
          29,
          26,
          28,
          27,
          24,
          22,
          33,
          34,
          31,
          35,
          31,
          28,
          33,
          38,
          27,
          35,
          42,
          28,
          30,
          24,
          24,
          27,
          16,
          21,
          26,
          29,
          29,
          31,
          18,
          22,
          28,
          27,
          30,
          36,
          28,
          24,
          22,
          9,
          31,
          16,
          10,
          18,
          22,
          20,
          19,
          28,
          29,
          21,
          24,
          31,
          20,
          40,
          37,
          35,
          21,
          15,
          31,
          32,
          29,
          36,
          31,
          25,
          25,
          28,
          19,
          26,
          28,
          22,
          21,
          25,
          31,
          28,
          15,
          19,
          28,
          35,
          31,
          25,
          24,
          35,
          34,
          34,
          23,
          41,
          33,
          38,
          46,
          38,
          42,
          44,
          28,
          40,
          33,
          30,
          29,
          31,
          32,
          39,
          43,
          41,
          43,
          37,
          24,
          33,
          53,
          30,
          33,
          45,
          45,
          55,
          52,
          29,
          49,
          46,
          30,
          24,
          37,
          21,
          20,
          28,
          31,
          24,
          26,
          10,
          28,
          40,
          41,
          34,
          55,
          41,
          63,
          44,
          47,
          37,
          61,
          57,
          57,
          43,
          58,
          60,
          39,
          39,
          42,
          36,
          38,
          42,
          45,
          59,
          49,
          40,
          42,
          37,
          31,
          37,
          46,
          47,
          43,
          52,
          49,
          52,
          45,
          29,
          41,
          27,
          26,
          38,
          33,
          40,
          38,
          32,
          36,
          33,
          27,
          34,
          25,
          23,
          18,
          23,
          36,
          25,
          29,
          28,
          31,
          27,
          17,
          17,
          51,
          46,
          38,
          54,
          22,
          26,
          42,
          26,
          40,
          36,
          33,
          25,
          28,
          23,
          25,
          24,
          41,
          29,
          24,
          23,
          26,
          32,
          21,
          24,
          20,
          26,
          26,
          36,
          31,
          26,
          27,
          29,
          28,
          25,
          17,
          26,
          19,
          12,
          17,
          36,
          29,
          15,
          18,
          27,
          43,
          24,
          35,
          30,
          17,
          28,
          24,
          26,
          24,
          41,
          32,
          36,
          25,
          24,
          13,
          23,
          29,
          19,
          23,
          33,
          24,
          24,
          24,
          12,
          34,
          48,
          26,
          30,
          25,
          30,
          20,
          21,
          30,
          30,
          33,
          21,
          32,
          28,
          29,
          26,
          27,
          23,
          25,
          24,
          30,
          26,
          32,
          37,
          39,
          17,
          20,
          27,
          21,
          28,
          23,
          19,
          22,
          24,
          31,
          25,
          21,
          27,
          32,
          22,
          24,
          20,
          20,
          28,
          24,
          18,
          11,
          12,
          23,
          21,
          32,
          25,
          26,
          20,
          21,
          16,
          23,
          16,
          27,
          28,
          33,
          27,
          20,
          27,
          17,
          25,
          40,
          29,
          32,
          26,
          19,
          23,
          28,
          40,
          31,
          32,
          30,
          33,
          36,
          31,
          34,
          46,
          21,
          40,
          30,
          39,
          29,
          30,
          31,
          35,
          47,
          40,
          34,
          36,
          35,
          38,
          37,
          24,
          19,
          20,
          25,
          27,
          26,
          22,
          17,
          17,
          17,
          21,
          26,
          30,
          21,
          32,
          24,
          24,
          20,
          27,
          21,
          15,
          26,
          28,
          25,
          27,
          40,
          32,
          32,
          24,
          32,
          21,
          30,
          24,
          24,
          23,
          30,
          24,
          34,
          25,
          25,
          34,
          19,
          24,
          32,
          30,
          32,
          33,
          26,
          24,
          18,
          21,
          17,
          19,
          22,
          22,
          26,
          32,
          35,
          26,
          27,
          28,
          18,
          22,
          30,
          23,
          13,
          30,
          19,
          28,
          27,
          21,
          20,
          19,
          723,
          663,
          697,
          580,
          559,
          592,
          553,
          635,
          587,
          557,
          570,
          572,
          570,
          555,
          552,
          581,
          532,
          645,
          617,
          604,
          592,
          598,
          560,
          567,
          607,
          582,
          596,
          576,
          514,
          575,
          621
         ]
        }
       ],
       "layout": {
        "coloraxis": {
         "colorbar": {
          "title": {
           "text": "HomeGoals"
          }
         },
         "colorscale": [
          [
           0,
           "#0d0887"
          ],
          [
           0.1111111111111111,
           "#46039f"
          ],
          [
           0.2222222222222222,
           "#7201a8"
          ],
          [
           0.3333333333333333,
           "#9c179e"
          ],
          [
           0.4444444444444444,
           "#bd3786"
          ],
          [
           0.5555555555555556,
           "#d8576b"
          ],
          [
           0.6666666666666666,
           "#ed7953"
          ],
          [
           0.7777777777777778,
           "#fb9f3a"
          ],
          [
           0.8888888888888888,
           "#fdca26"
          ],
          [
           1,
           "#f0f921"
          ]
         ]
        },
        "legend": {
         "tracegroupgap": 0
        },
        "margin": {
         "t": 60
        },
        "template": {
         "data": {
          "bar": [
           {
            "error_x": {
             "color": "#2a3f5f"
            },
            "error_y": {
             "color": "#2a3f5f"
            },
            "marker": {
             "line": {
              "color": "#E5ECF6",
              "width": 0.5
             },
             "pattern": {
              "fillmode": "overlay",
              "size": 10,
              "solidity": 0.2
             }
            },
            "type": "bar"
           }
          ],
          "barpolar": [
           {
            "marker": {
             "line": {
              "color": "#E5ECF6",
              "width": 0.5
             },
             "pattern": {
              "fillmode": "overlay",
              "size": 10,
              "solidity": 0.2
             }
            },
            "type": "barpolar"
           }
          ],
          "carpet": [
           {
            "aaxis": {
             "endlinecolor": "#2a3f5f",
             "gridcolor": "white",
             "linecolor": "white",
             "minorgridcolor": "white",
             "startlinecolor": "#2a3f5f"
            },
            "baxis": {
             "endlinecolor": "#2a3f5f",
             "gridcolor": "white",
             "linecolor": "white",
             "minorgridcolor": "white",
             "startlinecolor": "#2a3f5f"
            },
            "type": "carpet"
           }
          ],
          "choropleth": [
           {
            "colorbar": {
             "outlinewidth": 0,
             "ticks": ""
            },
            "type": "choropleth"
           }
          ],
          "contour": [
           {
            "colorbar": {
             "outlinewidth": 0,
             "ticks": ""
            },
            "colorscale": [
             [
              0,
              "#0d0887"
             ],
             [
              0.1111111111111111,
              "#46039f"
             ],
             [
              0.2222222222222222,
              "#7201a8"
             ],
             [
              0.3333333333333333,
              "#9c179e"
             ],
             [
              0.4444444444444444,
              "#bd3786"
             ],
             [
              0.5555555555555556,
              "#d8576b"
             ],
             [
              0.6666666666666666,
              "#ed7953"
             ],
             [
              0.7777777777777778,
              "#fb9f3a"
             ],
             [
              0.8888888888888888,
              "#fdca26"
             ],
             [
              1,
              "#f0f921"
             ]
            ],
            "type": "contour"
           }
          ],
          "contourcarpet": [
           {
            "colorbar": {
             "outlinewidth": 0,
             "ticks": ""
            },
            "type": "contourcarpet"
           }
          ],
          "heatmap": [
           {
            "colorbar": {
             "outlinewidth": 0,
             "ticks": ""
            },
            "colorscale": [
             [
              0,
              "#0d0887"
             ],
             [
              0.1111111111111111,
              "#46039f"
             ],
             [
              0.2222222222222222,
              "#7201a8"
             ],
             [
              0.3333333333333333,
              "#9c179e"
             ],
             [
              0.4444444444444444,
              "#bd3786"
             ],
             [
              0.5555555555555556,
              "#d8576b"
             ],
             [
              0.6666666666666666,
              "#ed7953"
             ],
             [
              0.7777777777777778,
              "#fb9f3a"
             ],
             [
              0.8888888888888888,
              "#fdca26"
             ],
             [
              1,
              "#f0f921"
             ]
            ],
            "type": "heatmap"
           }
          ],
          "heatmapgl": [
           {
            "colorbar": {
             "outlinewidth": 0,
             "ticks": ""
            },
            "colorscale": [
             [
              0,
              "#0d0887"
             ],
             [
              0.1111111111111111,
              "#46039f"
             ],
             [
              0.2222222222222222,
              "#7201a8"
             ],
             [
              0.3333333333333333,
              "#9c179e"
             ],
             [
              0.4444444444444444,
              "#bd3786"
             ],
             [
              0.5555555555555556,
              "#d8576b"
             ],
             [
              0.6666666666666666,
              "#ed7953"
             ],
             [
              0.7777777777777778,
              "#fb9f3a"
             ],
             [
              0.8888888888888888,
              "#fdca26"
             ],
             [
              1,
              "#f0f921"
             ]
            ],
            "type": "heatmapgl"
           }
          ],
          "histogram": [
           {
            "marker": {
             "pattern": {
              "fillmode": "overlay",
              "size": 10,
              "solidity": 0.2
             }
            },
            "type": "histogram"
           }
          ],
          "histogram2d": [
           {
            "colorbar": {
             "outlinewidth": 0,
             "ticks": ""
            },
            "colorscale": [
             [
              0,
              "#0d0887"
             ],
             [
              0.1111111111111111,
              "#46039f"
             ],
             [
              0.2222222222222222,
              "#7201a8"
             ],
             [
              0.3333333333333333,
              "#9c179e"
             ],
             [
              0.4444444444444444,
              "#bd3786"
             ],
             [
              0.5555555555555556,
              "#d8576b"
             ],
             [
              0.6666666666666666,
              "#ed7953"
             ],
             [
              0.7777777777777778,
              "#fb9f3a"
             ],
             [
              0.8888888888888888,
              "#fdca26"
             ],
             [
              1,
              "#f0f921"
             ]
            ],
            "type": "histogram2d"
           }
          ],
          "histogram2dcontour": [
           {
            "colorbar": {
             "outlinewidth": 0,
             "ticks": ""
            },
            "colorscale": [
             [
              0,
              "#0d0887"
             ],
             [
              0.1111111111111111,
              "#46039f"
             ],
             [
              0.2222222222222222,
              "#7201a8"
             ],
             [
              0.3333333333333333,
              "#9c179e"
             ],
             [
              0.4444444444444444,
              "#bd3786"
             ],
             [
              0.5555555555555556,
              "#d8576b"
             ],
             [
              0.6666666666666666,
              "#ed7953"
             ],
             [
              0.7777777777777778,
              "#fb9f3a"
             ],
             [
              0.8888888888888888,
              "#fdca26"
             ],
             [
              1,
              "#f0f921"
             ]
            ],
            "type": "histogram2dcontour"
           }
          ],
          "mesh3d": [
           {
            "colorbar": {
             "outlinewidth": 0,
             "ticks": ""
            },
            "type": "mesh3d"
           }
          ],
          "parcoords": [
           {
            "line": {
             "colorbar": {
              "outlinewidth": 0,
              "ticks": ""
             }
            },
            "type": "parcoords"
           }
          ],
          "pie": [
           {
            "automargin": true,
            "type": "pie"
           }
          ],
          "scatter": [
           {
            "fillpattern": {
             "fillmode": "overlay",
             "size": 10,
             "solidity": 0.2
            },
            "type": "scatter"
           }
          ],
          "scatter3d": [
           {
            "line": {
             "colorbar": {
              "outlinewidth": 0,
              "ticks": ""
             }
            },
            "marker": {
             "colorbar": {
              "outlinewidth": 0,
              "ticks": ""
             }
            },
            "type": "scatter3d"
           }
          ],
          "scattercarpet": [
           {
            "marker": {
             "colorbar": {
              "outlinewidth": 0,
              "ticks": ""
             }
            },
            "type": "scattercarpet"
           }
          ],
          "scattergeo": [
           {
            "marker": {
             "colorbar": {
              "outlinewidth": 0,
              "ticks": ""
             }
            },
            "type": "scattergeo"
           }
          ],
          "scattergl": [
           {
            "marker": {
             "colorbar": {
              "outlinewidth": 0,
              "ticks": ""
             }
            },
            "type": "scattergl"
           }
          ],
          "scattermapbox": [
           {
            "marker": {
             "colorbar": {
              "outlinewidth": 0,
              "ticks": ""
             }
            },
            "type": "scattermapbox"
           }
          ],
          "scatterpolar": [
           {
            "marker": {
             "colorbar": {
              "outlinewidth": 0,
              "ticks": ""
             }
            },
            "type": "scatterpolar"
           }
          ],
          "scatterpolargl": [
           {
            "marker": {
             "colorbar": {
              "outlinewidth": 0,
              "ticks": ""
             }
            },
            "type": "scatterpolargl"
           }
          ],
          "scatterternary": [
           {
            "marker": {
             "colorbar": {
              "outlinewidth": 0,
              "ticks": ""
             }
            },
            "type": "scatterternary"
           }
          ],
          "surface": [
           {
            "colorbar": {
             "outlinewidth": 0,
             "ticks": ""
            },
            "colorscale": [
             [
              0,
              "#0d0887"
             ],
             [
              0.1111111111111111,
              "#46039f"
             ],
             [
              0.2222222222222222,
              "#7201a8"
             ],
             [
              0.3333333333333333,
              "#9c179e"
             ],
             [
              0.4444444444444444,
              "#bd3786"
             ],
             [
              0.5555555555555556,
              "#d8576b"
             ],
             [
              0.6666666666666666,
              "#ed7953"
             ],
             [
              0.7777777777777778,
              "#fb9f3a"
             ],
             [
              0.8888888888888888,
              "#fdca26"
             ],
             [
              1,
              "#f0f921"
             ]
            ],
            "type": "surface"
           }
          ],
          "table": [
           {
            "cells": {
             "fill": {
              "color": "#EBF0F8"
             },
             "line": {
              "color": "white"
             }
            },
            "header": {
             "fill": {
              "color": "#C8D4E3"
             },
             "line": {
              "color": "white"
             }
            },
            "type": "table"
           }
          ]
         },
         "layout": {
          "annotationdefaults": {
           "arrowcolor": "#2a3f5f",
           "arrowhead": 0,
           "arrowwidth": 1
          },
          "autotypenumbers": "strict",
          "coloraxis": {
           "colorbar": {
            "outlinewidth": 0,
            "ticks": ""
           }
          },
          "colorscale": {
           "diverging": [
            [
             0,
             "#8e0152"
            ],
            [
             0.1,
             "#c51b7d"
            ],
            [
             0.2,
             "#de77ae"
            ],
            [
             0.3,
             "#f1b6da"
            ],
            [
             0.4,
             "#fde0ef"
            ],
            [
             0.5,
             "#f7f7f7"
            ],
            [
             0.6,
             "#e6f5d0"
            ],
            [
             0.7,
             "#b8e186"
            ],
            [
             0.8,
             "#7fbc41"
            ],
            [
             0.9,
             "#4d9221"
            ],
            [
             1,
             "#276419"
            ]
           ],
           "sequential": [
            [
             0,
             "#0d0887"
            ],
            [
             0.1111111111111111,
             "#46039f"
            ],
            [
             0.2222222222222222,
             "#7201a8"
            ],
            [
             0.3333333333333333,
             "#9c179e"
            ],
            [
             0.4444444444444444,
             "#bd3786"
            ],
            [
             0.5555555555555556,
             "#d8576b"
            ],
            [
             0.6666666666666666,
             "#ed7953"
            ],
            [
             0.7777777777777778,
             "#fb9f3a"
            ],
            [
             0.8888888888888888,
             "#fdca26"
            ],
            [
             1,
             "#f0f921"
            ]
           ],
           "sequentialminus": [
            [
             0,
             "#0d0887"
            ],
            [
             0.1111111111111111,
             "#46039f"
            ],
            [
             0.2222222222222222,
             "#7201a8"
            ],
            [
             0.3333333333333333,
             "#9c179e"
            ],
            [
             0.4444444444444444,
             "#bd3786"
            ],
            [
             0.5555555555555556,
             "#d8576b"
            ],
            [
             0.6666666666666666,
             "#ed7953"
            ],
            [
             0.7777777777777778,
             "#fb9f3a"
            ],
            [
             0.8888888888888888,
             "#fdca26"
            ],
            [
             1,
             "#f0f921"
            ]
           ]
          },
          "colorway": [
           "#636efa",
           "#EF553B",
           "#00cc96",
           "#ab63fa",
           "#FFA15A",
           "#19d3f3",
           "#FF6692",
           "#B6E880",
           "#FF97FF",
           "#FECB52"
          ],
          "font": {
           "color": "#2a3f5f"
          },
          "geo": {
           "bgcolor": "white",
           "lakecolor": "white",
           "landcolor": "#E5ECF6",
           "showlakes": true,
           "showland": true,
           "subunitcolor": "white"
          },
          "hoverlabel": {
           "align": "left"
          },
          "hovermode": "closest",
          "mapbox": {
           "style": "light"
          },
          "paper_bgcolor": "white",
          "plot_bgcolor": "#E5ECF6",
          "polar": {
           "angularaxis": {
            "gridcolor": "white",
            "linecolor": "white",
            "ticks": ""
           },
           "bgcolor": "#E5ECF6",
           "radialaxis": {
            "gridcolor": "white",
            "linecolor": "white",
            "ticks": ""
           }
          },
          "scene": {
           "xaxis": {
            "backgroundcolor": "#E5ECF6",
            "gridcolor": "white",
            "gridwidth": 2,
            "linecolor": "white",
            "showbackground": true,
            "ticks": "",
            "zerolinecolor": "white"
           },
           "yaxis": {
            "backgroundcolor": "#E5ECF6",
            "gridcolor": "white",
            "gridwidth": 2,
            "linecolor": "white",
            "showbackground": true,
            "ticks": "",
            "zerolinecolor": "white"
           },
           "zaxis": {
            "backgroundcolor": "#E5ECF6",
            "gridcolor": "white",
            "gridwidth": 2,
            "linecolor": "white",
            "showbackground": true,
            "ticks": "",
            "zerolinecolor": "white"
           }
          },
          "shapedefaults": {
           "line": {
            "color": "#2a3f5f"
           }
          },
          "ternary": {
           "aaxis": {
            "gridcolor": "white",
            "linecolor": "white",
            "ticks": ""
           },
           "baxis": {
            "gridcolor": "white",
            "linecolor": "white",
            "ticks": ""
           },
           "bgcolor": "#E5ECF6",
           "caxis": {
            "gridcolor": "white",
            "linecolor": "white",
            "ticks": ""
           }
          },
          "title": {
           "x": 0.05
          },
          "xaxis": {
           "automargin": true,
           "gridcolor": "white",
           "linecolor": "white",
           "ticks": "",
           "title": {
            "standoff": 15
           },
           "zerolinecolor": "white",
           "zerolinewidth": 2
          },
          "yaxis": {
           "automargin": true,
           "gridcolor": "white",
           "linecolor": "white",
           "ticks": "",
           "title": {
            "standoff": 15
           },
           "zerolinecolor": "white",
           "zerolinewidth": 2
          }
         }
        },
        "title": {
         "text": "Home Goals by Teams Over Seasons"
        }
       }
      },
      "text/html": [
       "<div>                            <div id=\"93a58358-9a6d-40ff-870b-2575ba7a4b84\" class=\"plotly-graph-div\" style=\"height:525px; width:100%;\"></div>            <script type=\"text/javascript\">                require([\"plotly\"], function(Plotly) {                    window.PLOTLYENV=window.PLOTLYENV || {};                                    if (document.getElementById(\"93a58358-9a6d-40ff-870b-2575ba7a4b84\")) {                    Plotly.newPlot(                        \"93a58358-9a6d-40ff-870b-2575ba7a4b84\",                        [{\"branchvalues\":\"total\",\"customdata\":[[2.36],[2.04],[2.7777777777777777],[2.466666666666667],[2.5555555555555554],[3.372093023255814],[3.0],[2.9523809523809526],[3.6666666666666665],[2.7142857142857144],[3.0851063829787235],[2.85],[3.7037037037037037],[3.7083333333333335],[3.046511627906977],[2.4594594594594597],[2.7419354838709675],[3.4166666666666665],[3.0],[3.4615384615384617],[4.276595744680851],[2.5555555555555554],[3.097560975609756],[2.5483870967741935],[2.4358974358974357],[3.5185185185185186],[2.857142857142857],[2.5],[2.5833333333333335],[2.657142857142857],[3.5283018867924527],[2.7222222222222223],[2.8260869565217392],[3.4444444444444446],[2.6875],[2.4074074074074074],[2.3076923076923075],[2.3333333333333335],[2.130434782608696],[2.259259259259259],[1.8181818181818181],[2.52],[2.3333333333333335],[2.1538461538461537],[2.2],[1.8],[2.764705882352941],[2.6296296296296298],[2.9310344827586206],[2.230769230769231],[1.9],[2.8260869565217392],[2.727272727272727],[2.0],[1.5714285714285714],[1.6363636363636365],[3.2758620689655173],[2.2413793103448274],[2.3333333333333335],[2.12],[2.28],[2.3846153846153846],[2.0833333333333335],[2.473684210526316],[2.6],[1.5263157894736843],[1.631578947368421],[3.3157894736842106],[1.967741935483871],[3.0],[3.4545454545454546],[2.5714285714285716],[3.75],[1.9523809523809523],[3.3636363636363638],[2.25],[2.36],[2.142857142857143],[2.6129032258064515],[2.6129032258064515],[2.6923076923076925],[2.0],[2.357142857142857],[1.9090909090909092],[2.6153846153846154],[2.066666666666667],[1.5],[2.52],[2.3],[2.185185185185185],[2.0833333333333335],[2.36],[2.310344827586207],[2.3076923076923075],[2.217391304347826],[2.4285714285714284],[2.5384615384615383],[2.764705882352941],[2.4782608695652173],[2.0434782608695654],[3.1142857142857143],[2.230769230769231],[2.466666666666667],[2.3636363636363638],[2.3],[2.3076923076923075],[1.9],[2.0],[2.7142857142857144],[2.25],[1.736842105263158],[2.0],[2.0],[2.3684210526315788],[3.5405405405405403],[1.96],[1.4285714285714286],[2.230769230769231],[1.375],[1.9166666666666667],[2.0],[1.5714285714285714],[2.111111111111111],[2.2],[2.142857142857143],[2.8],[2.225806451612903],[2.3043478260869565],[2.3076923076923075],[2.3793103448275863],[2.2413793103448274],[2.0],[2.0526315789473686],[2.3793103448275863],[2.2903225806451615],[2.12],[2.6666666666666665],[2.757575757575758],[3.27027027027027],[2.0344827586206895],[2.8285714285714287],[3.272727272727273],[3.3255813953488373],[2.902439024390244],[3.235294117647059],[2.8857142857142857],[3.0],[2.5675675675675675],[3.4444444444444446],[2.878787878787879],[4.852941176470588],[2.948717948717949],[3.097560975609756],[3.682926829268293],[3.13953488372093],[2.2777777777777777],[2.4375],[3.4],[2.7333333333333334],[2.8461538461538463],[2.3333333333333335],[2.7419354838709675],[3.054054054054054],[1.9],[2.6551724137931036],[1.8695652173913044],[2.0434782608695654],[2.619047619047619],[1.9473684210526316],[2.230769230769231],[2.076923076923077],[3.0],[1.4285714285714286],[2.111111111111111],[1.75],[1.9333333333333333],[2.238095238095238],[2.111111111111111],[1.8571428571428572],[2.3684210526315788],[2.6666666666666665],[2.5172413793103448],[2.473684210526316],[1.4],[2.1],[2.185185185185185],[2.238095238095238],[2.36],[2.8181818181818183],[2.090909090909091],[2.5454545454545454],[1.7826086956521738],[2.0],[1.5],[2.1538461538461537],[3.4615384615384617],[2.2903225806451615],[2.3142857142857145],[3.0833333333333335],[2.28],[3.909090909090909],[3.388888888888889],[2.0344827586206895],[2.5384615384615383],[1.7857142857142858],[2.5555555555555554],[2.0833333333333335],[2.272727272727273],[2.3333333333333335],[3.176470588235294],[2.4838709677419355],[2.4285714285714284],[2.3548387096774195],[2.5714285714285716],[2.090909090909091],[2.6842105263157894],[2.4074074074074074],[3.1142857142857143],[3.2857142857142856],[2.4285714285714284],[2.2666666666666666],[2.0],[2.5833333333333335],[2.259259259259259],[1.375],[2.142857142857143],[2.4615384615384617],[2.103448275862069],[2.793103448275862],[2.6129032258064515],[1.4444444444444444],[2.1818181818181817],[2.142857142857143],[2.4074074074074074],[2.2],[3.3333333333333335],[2.5714285714285716],[1.5],[2.4545454545454546],[1.4444444444444444],[2.5483870967741935],[2.0],[1.0],[1.5555555555555556],[2.0],[3.0],[1.736842105263158],[2.357142857142857],[2.2413793103448274],[1.5714285714285714],[2.1666666666666665],[2.032258064516129],[2.6],[2.9],[2.6216216216216215],[2.5428571428571427],[1.9523809523809523],[2.066666666666667],[2.870967741935484],[2.8125],[2.3793103448275863],[3.0555555555555554],[2.4838709677419355],[2.04],[2.52],[2.9285714285714284],[1.736842105263158],[2.1538461538461537],[2.2142857142857144],[1.9090909090909092],[2.0476190476190474],[1.8],[2.6129032258064515],[2.2857142857142856],[1.5333333333333334],[2.1578947368421053],[3.0],[2.5428571428571427],[2.6129032258064515],[1.96],[2.1666666666666665],[3.0],[2.823529411764706],[2.8823529411764706],[2.5652173913043477],[3.341463414634146],[2.272727272727273],[2.736842105263158],[3.608695652173913],[3.3684210526315788],[3.142857142857143],[3.590909090909091],[2.5],[2.8],[2.5757575757575757],[2.0],[2.4482758620689653],[2.3548387096774195],[2.5625],[2.7948717948717947],[3.2790697674418605],[3.048780487804878],[3.186046511627907],[2.675675675675676],[2.3333333333333335],[3.242424242424242],[3.6037735849056602],[2.2],[2.515151515151515],[3.3555555555555556],[3.488888888888889],[3.6545454545454548],[3.230769230769231],[2.6551724137931036],[3.204081632653061],[4.3478260869565215],[2.4],[1.9166666666666667],[2.8378378378378377],[1.7619047619047619],[2.8],[2.5714285714285716],[3.6451612903225805],[2.25],[2.6923076923076925],[2.0],[2.357142857142857],[3.3],[3.1951219512195124],[2.9411764705882355],[3.2181818181818183],[2.707317073170732],[4.301587301587301],[3.3181818181818183],[3.5531914893617023],[2.72972972972973],[4.081967213114754],[3.8421052631578947],[4.052631578947368],[3.3255813953488373],[4.310344827586207],[3.8],[2.7948717948717947],[2.8461538461538463],[3.9047619047619047],[2.611111111111111],[2.736842105263158],[3.619047619047619],[2.9555555555555557],[3.8813559322033897],[3.6530612244897958],[3.85],[2.9047619047619047],[2.7837837837837838],[2.5483870967741935],[2.891891891891892],[3.1739130434782608],[3.3404255319148937],[3.13953488372093],[3.3461538461538463],[3.36734693877551],[3.769230769230769],[2.911111111111111],[2.7241379310344827],[2.8048780487804876],[2.3333333333333335],[2.076923076923077],[2.789473684210526],[2.696969696969697],[3.05],[4.315789473684211],[3.0],[2.4444444444444446],[2.3333333333333335],[2.4814814814814814],[3.764705882352941],[2.36],[2.0434782608695654],[1.8888888888888888],[2.3043478260869565],[2.5555555555555554],[2.68],[2.2413793103448274],[2.7857142857142856],[2.7419354838709675],[3.5185185185185186],[1.8235294117647058],[1.588235294117647],[3.6666666666666665],[2.869565217391304],[2.789473684210526],[3.925925925925926],[1.9090909090909092],[2.3846153846153846],[3.761904761904762],[2.1538461538461537],[3.2],[2.5],[2.757575757575758],[2.28],[2.2857142857142856],[2.217391304347826],[2.28],[1.8333333333333333],[3.682926829268293],[2.1724137931034484],[2.25],[2.5652173913043477],[2.0],[3.1875],[2.142857142857143],[2.1666666666666665],[1.7],[2.1538461538461537],[1.9230769230769231],[3.5555555555555554],[2.2903225806451615],[2.1538461538461537],[2.3333333333333335],[2.2413793103448274],[2.2857142857142856],[2.2],[1.7058823529411764],[2.5384615384615383],[1.9473684210526316],[1.5],[1.588235294117647],[2.5555555555555554],[2.3793103448275863],[1.5333333333333334],[1.5555555555555556],[2.037037037037037],[3.4651162790697674],[2.1666666666666665],[3.4],[2.7333333333333334],[1.3529411764705883],[2.2142857142857144],[3.9166666666666665],[2.076923076923077],[2.25],[2.902439024390244],[2.25],[2.2222222222222223],[1.96],[2.0],[1.6153846153846154],[2.0434782608695654],[3.0],[1.8421052631578947],[2.217391304347826],[2.8181818181818183],[1.9166666666666667],[1.75],[2.1666666666666665],[1.3333333333333333],[2.411764705882353],[3.375],[2.6923076923076925],[3.1333333333333333],[2.04],[2.4],[2.5],[3.0],[2.2],[3.1333333333333333],[2.3333333333333335],[1.9523809523809523],[3.1875],[2.357142857142857],[2.310344827586207],[2.1538461538461537],[2.111111111111111],[1.9565217391304348],[2.28],[2.3333333333333335],[2.2666666666666666],[2.230769230769231],[2.625],[4.135135135135135],[2.8974358974358974],[2.0588235294117645],[2.2],[2.037037037037037],[1.6666666666666667],[2.2142857142857144],[1.8695652173913044],[2.1578947368421053],[1.8181818181818181],[1.9166666666666667],[2.4193548387096775],[1.8],[1.9523809523809523],[2.4074074074074074],[2.8125],[1.9090909090909092],[1.9166666666666667],[1.8],[1.9],[2.0714285714285716],[2.0833333333333335],[1.3333333333333333],[1.3636363636363635],[1.1666666666666667],[1.9565217391304348],[1.9523809523809523],[2.9375],[2.12],[2.3076923076923075],[1.8],[2.142857142857143],[1.75],[2.391304347826087],[1.875],[2.5555555555555554],[2.5714285714285716],[2.6363636363636362],[1.962962962962963],[1.8],[2.5555555555555554],[2.176470588235294],[1.96],[3.0],[2.3793103448275863],[2.4375],[2.230769230769231],[1.5263157894736843],[2.130434782608696],[2.357142857142857],[3.35],[2.7419354838709675],[2.3125],[2.7333333333333334],[3.121212121212121],[3.388888888888889],[2.225806451612903],[2.764705882352941],[3.5652173913043477],[2.142857142857143],[4.05],[2.4],[2.6923076923076925],[2.103448275862069],[2.6666666666666665],[3.0],[2.8857142857142857],[3.0851063829787235],[3.3],[2.823529411764706],[2.7777777777777777],[2.7142857142857144],[3.1052631578947367],[3.0],[1.6666666666666667],[2.263157894736842],[2.0],[2.04],[2.185185185185185],[2.230769230769231],[2.090909090909091],[2.176470588235294],[1.3529411764705883],[1.588235294117647],[2.142857142857143],[2.230769230769231],[2.1333333333333333],[2.142857142857143],[2.5],[2.0],[2.1666666666666665],[1.8],[2.925925925925926],[1.5714285714285714],[1.9333333333333333],[2.3076923076923075],[2.142857142857143],[2.04],[2.7777777777777777],[3.15],[2.8125],[3.0],[2.9166666666666665],[2.4375],[1.8571428571428572],[2.2666666666666666],[2.1666666666666665],[2.0],[2.4782608695652173],[2.466666666666667],[2.0],[2.5294117647058822],[2.2],[1.96],[2.176470588235294],[1.631578947368421],[1.9166666666666667],[2.875],[2.466666666666667],[2.4375],[2.1515151515151514],[2.230769230769231],[2.1666666666666665],[2.4444444444444446],[2.4285714285714284],[1.7058823529411764],[1.8421052631578947],[2.1818181818181817],[2.272727272727273],[2.0],[2.625],[2.4285714285714284],[2.1538461538461537],[2.259259259259259],[2.357142857142857],[2.111111111111111],[1.7272727272727273],[2.4],[2.130434782608696],[1.6153846153846154],[2.3333333333333335],[1.9473684210526316],[2.357142857142857],[2.037037037037037],[1.5714285714285714],[2.4],[1.736842105263158],[2.66804979253112],[2.526395173453997],[2.601147776183644],[2.5620689655172413],[2.717352415026834],[2.766891891891892],[2.5443037974683542],[2.8299212598425196],[2.6115843270868826],[2.6050269299820465],[2.4105263157894736],[2.667832167832168],[2.536842105263158],[2.5315315315315314],[2.5],[2.8141135972461275],[2.4473684210526314],[2.9627906976744187],[2.5688816855753647],[2.7019867549668874],[2.6587837837837838],[2.7759197324414715],[2.5535714285714284],[2.5520282186948853],[2.6639209225700164],[2.7010309278350517],[2.664429530201342],[2.5416666666666665],[2.6381322957198443],[2.6730434782608694],[2.864734299516908]],\"domain\":{\"x\":[0.0,1.0],\"y\":[0.0,1.0]},\"hovertemplate\":\"labels=%{label}<br>HomeGoals_sum=%{value}<br>parent=%{parent}<br>id=%{id}<br>HomeGoals=%{color}<extra></extra>\",\"ids\":[\"1993/Arsenal\",\"1994/Arsenal\",\"1995/Arsenal\",\"1996/Arsenal\",\"1997/Arsenal\",\"1998/Arsenal\",\"1999/Arsenal\",\"2000/Arsenal\",\"2001/Arsenal\",\"2002/Arsenal\",\"2003/Arsenal\",\"2004/Arsenal\",\"2005/Arsenal\",\"2006/Arsenal\",\"2007/Arsenal\",\"2008/Arsenal\",\"2009/Arsenal\",\"2010/Arsenal\",\"2011/Arsenal\",\"2012/Arsenal\",\"2013/Arsenal\",\"2014/Arsenal\",\"2015/Arsenal\",\"2016/Arsenal\",\"2017/Arsenal\",\"2018/Arsenal\",\"2019/Arsenal\",\"2020/Arsenal\",\"2021/Arsenal\",\"2022/Arsenal\",\"2023/Arsenal\",\"1993/Aston Villa\",\"1994/Aston Villa\",\"1995/Aston Villa\",\"1996/Aston Villa\",\"1997/Aston Villa\",\"1998/Aston Villa\",\"1999/Aston Villa\",\"2000/Aston Villa\",\"2001/Aston Villa\",\"2002/Aston Villa\",\"2003/Aston Villa\",\"2004/Aston Villa\",\"2005/Aston Villa\",\"2006/Aston Villa\",\"2007/Aston Villa\",\"2008/Aston Villa\",\"2009/Aston Villa\",\"2010/Aston Villa\",\"2011/Aston Villa\",\"2012/Aston Villa\",\"2013/Aston Villa\",\"2014/Aston Villa\",\"2015/Aston Villa\",\"2016/Aston Villa\",\"2020/Aston Villa\",\"2021/Aston Villa\",\"2022/Aston Villa\",\"2023/Aston Villa\",\"1998/Barnsley\",\"2003/Birmingham City\",\"2004/Birmingham City\",\"2005/Birmingham City\",\"2006/Birmingham City\",\"2008/Birmingham City\",\"2010/Birmingham City\",\"2011/Birmingham City\",\"1993/Blackburn\",\"1994/Blackburn\",\"1995/Blackburn\",\"1996/Blackburn\",\"1997/Blackburn\",\"1998/Blackburn\",\"1999/Blackburn\",\"2002/Blackburn\",\"2003/Blackburn\",\"2004/Blackburn\",\"2005/Blackburn\",\"2006/Blackburn\",\"2007/Blackburn\",\"2008/Blackburn\",\"2009/Blackburn\",\"2010/Blackburn\",\"2011/Blackburn\",\"2012/Blackburn\",\"2011/Blackpool\",\"1996/Bolton\",\"1998/Bolton\",\"2002/Bolton\",\"2003/Bolton\",\"2004/Bolton\",\"2005/Bolton\",\"2006/Bolton\",\"2007/Bolton\",\"2008/Bolton\",\"2009/Bolton\",\"2010/Bolton\",\"2011/Bolton\",\"2012/Bolton\",\"2016/Bournemouth\",\"2017/Bournemouth\",\"2018/Bournemouth\",\"2019/Bournemouth\",\"2020/Bournemouth\",\"2023/Bournemouth\",\"2000/Bradford City\",\"2001/Bradford City\",\"2022/Brentford\",\"2023/Brentford\",\"2018/Brighton\",\"2019/Brighton\",\"2020/Brighton\",\"2021/Brighton\",\"2022/Brighton\",\"2023/Brighton\",\"2010/Burnley\",\"2015/Burnley\",\"2017/Burnley\",\"2018/Burnley\",\"2019/Burnley\",\"2020/Burnley\",\"2021/Burnley\",\"2022/Burnley\",\"2014/Cardiff City\",\"2019/Cardiff City\",\"1999/Charlton Ath\",\"2001/Charlton Ath\",\"2002/Charlton Ath\",\"2003/Charlton Ath\",\"2004/Charlton Ath\",\"2005/Charlton Ath\",\"2006/Charlton Ath\",\"2007/Charlton Ath\",\"1993/Chelsea\",\"1994/Chelsea\",\"1995/Chelsea\",\"1996/Chelsea\",\"1997/Chelsea\",\"1998/Chelsea\",\"1999/Chelsea\",\"2000/Chelsea\",\"2001/Chelsea\",\"2002/Chelsea\",\"2003/Chelsea\",\"2004/Chelsea\",\"2005/Chelsea\",\"2006/Chelsea\",\"2007/Chelsea\",\"2008/Chelsea\",\"2009/Chelsea\",\"2010/Chelsea\",\"2011/Chelsea\",\"2012/Chelsea\",\"2013/Chelsea\",\"2014/Chelsea\",\"2015/Chelsea\",\"2016/Chelsea\",\"2017/Chelsea\",\"2018/Chelsea\",\"2019/Chelsea\",\"2020/Chelsea\",\"2021/Chelsea\",\"2022/Chelsea\",\"2023/Chelsea\",\"1993/Coventry City\",\"1994/Coventry City\",\"1995/Coventry City\",\"1996/Coventry City\",\"1997/Coventry City\",\"1998/Coventry City\",\"1999/Coventry City\",\"2000/Coventry City\",\"2001/Coventry City\",\"1993/Crystal Palace\",\"1995/Crystal Palace\",\"1998/Crystal Palace\",\"2005/Crystal Palace\",\"2014/Crystal Palace\",\"2015/Crystal Palace\",\"2016/Crystal Palace\",\"2017/Crystal Palace\",\"2018/Crystal Palace\",\"2019/Crystal Palace\",\"2020/Crystal Palace\",\"2021/Crystal Palace\",\"2022/Crystal Palace\",\"2023/Crystal Palace\",\"1997/Derby County\",\"1998/Derby County\",\"1999/Derby County\",\"2000/Derby County\",\"2001/Derby County\",\"2002/Derby County\",\"2008/Derby County\",\"1993/Everton\",\"1994/Everton\",\"1995/Everton\",\"1996/Everton\",\"1997/Everton\",\"1998/Everton\",\"1999/Everton\",\"2000/Everton\",\"2001/Everton\",\"2002/Everton\",\"2003/Everton\",\"2004/Everton\",\"2005/Everton\",\"2006/Everton\",\"2007/Everton\",\"2008/Everton\",\"2009/Everton\",\"2010/Everton\",\"2011/Everton\",\"2012/Everton\",\"2013/Everton\",\"2014/Everton\",\"2015/Everton\",\"2016/Everton\",\"2017/Everton\",\"2018/Everton\",\"2019/Everton\",\"2020/Everton\",\"2021/Everton\",\"2022/Everton\",\"2023/Everton\",\"2002/Fulham\",\"2003/Fulham\",\"2004/Fulham\",\"2005/Fulham\",\"2006/Fulham\",\"2007/Fulham\",\"2008/Fulham\",\"2009/Fulham\",\"2010/Fulham\",\"2011/Fulham\",\"2012/Fulham\",\"2013/Fulham\",\"2014/Fulham\",\"2019/Fulham\",\"2021/Fulham\",\"2023/Fulham\",\"2018/Huddersfield\",\"2019/Huddersfield\",\"2009/Hull City\",\"2010/Hull City\",\"2014/Hull City\",\"2015/Hull City\",\"2017/Hull City\",\"1993/Ipswich Town\",\"1994/Ipswich Town\",\"1995/Ipswich Town\",\"2001/Ipswich Town\",\"2002/Ipswich Town\",\"1993/Leeds United\",\"1994/Leeds United\",\"1995/Leeds United\",\"1996/Leeds United\",\"1997/Leeds United\",\"1998/Leeds United\",\"1999/Leeds United\",\"2000/Leeds United\",\"2001/Leeds United\",\"2002/Leeds United\",\"2003/Leeds United\",\"2004/Leeds United\",\"2021/Leeds United\",\"2022/Leeds United\",\"2023/Leeds United\",\"1995/Leicester City\",\"1997/Leicester City\",\"1998/Leicester City\",\"1999/Leicester City\",\"2000/Leicester City\",\"2001/Leicester City\",\"2002/Leicester City\",\"2004/Leicester City\",\"2015/Leicester City\",\"2016/Leicester City\",\"2017/Leicester City\",\"2018/Leicester City\",\"2019/Leicester City\",\"2020/Leicester City\",\"2021/Leicester City\",\"2022/Leicester City\",\"2023/Leicester City\",\"1993/Liverpool\",\"1994/Liverpool\",\"1995/Liverpool\",\"1996/Liverpool\",\"1997/Liverpool\",\"1998/Liverpool\",\"1999/Liverpool\",\"2000/Liverpool\",\"2001/Liverpool\",\"2002/Liverpool\",\"2003/Liverpool\",\"2004/Liverpool\",\"2005/Liverpool\",\"2006/Liverpool\",\"2007/Liverpool\",\"2008/Liverpool\",\"2009/Liverpool\",\"2010/Liverpool\",\"2011/Liverpool\",\"2012/Liverpool\",\"2013/Liverpool\",\"2014/Liverpool\",\"2015/Liverpool\",\"2016/Liverpool\",\"2017/Liverpool\",\"2018/Liverpool\",\"2019/Liverpool\",\"2020/Liverpool\",\"2021/Liverpool\",\"2022/Liverpool\",\"2023/Liverpool\",\"1993/Manchester City\",\"1994/Manchester City\",\"1995/Manchester City\",\"1996/Manchester City\",\"2001/Manchester City\",\"2003/Manchester City\",\"2004/Manchester City\",\"2005/Manchester City\",\"2006/Manchester City\",\"2007/Manchester City\",\"2008/Manchester City\",\"2009/Manchester City\",\"2010/Manchester City\",\"2011/Manchester City\",\"2012/Manchester City\",\"2013/Manchester City\",\"2014/Manchester City\",\"2015/Manchester City\",\"2016/Manchester City\",\"2017/Manchester City\",\"2018/Manchester City\",\"2019/Manchester City\",\"2020/Manchester City\",\"2021/Manchester City\",\"2022/Manchester City\",\"2023/Manchester City\",\"1993/Manchester Utd\",\"1994/Manchester Utd\",\"1995/Manchester Utd\",\"1996/Manchester Utd\",\"1997/Manchester Utd\",\"1998/Manchester Utd\",\"1999/Manchester Utd\",\"2000/Manchester Utd\",\"2001/Manchester Utd\",\"2002/Manchester Utd\",\"2003/Manchester Utd\",\"2004/Manchester Utd\",\"2005/Manchester Utd\",\"2006/Manchester Utd\",\"2007/Manchester Utd\",\"2008/Manchester Utd\",\"2009/Manchester Utd\",\"2010/Manchester Utd\",\"2011/Manchester Utd\",\"2012/Manchester Utd\",\"2013/Manchester Utd\",\"2014/Manchester Utd\",\"2015/Manchester Utd\",\"2016/Manchester Utd\",\"2017/Manchester Utd\",\"2018/Manchester Utd\",\"2019/Manchester Utd\",\"2020/Manchester Utd\",\"2021/Manchester Utd\",\"2022/Manchester Utd\",\"2023/Manchester Utd\",\"1993/Middlesbrough\",\"1996/Middlesbrough\",\"1997/Middlesbrough\",\"1999/Middlesbrough\",\"2000/Middlesbrough\",\"2001/Middlesbrough\",\"2002/Middlesbrough\",\"2003/Middlesbrough\",\"2004/Middlesbrough\",\"2005/Middlesbrough\",\"2006/Middlesbrough\",\"2007/Middlesbrough\",\"2008/Middlesbrough\",\"2009/Middlesbrough\",\"2017/Middlesbrough\",\"1994/Newcastle Utd\",\"1995/Newcastle Utd\",\"1996/Newcastle Utd\",\"1997/Newcastle Utd\",\"1998/Newcastle Utd\",\"1999/Newcastle Utd\",\"2000/Newcastle Utd\",\"2001/Newcastle Utd\",\"2002/Newcastle Utd\",\"2003/Newcastle Utd\",\"2004/Newcastle Utd\",\"2005/Newcastle Utd\",\"2006/Newcastle Utd\",\"2007/Newcastle Utd\",\"2008/Newcastle Utd\",\"2009/Newcastle Utd\",\"2011/Newcastle Utd\",\"2012/Newcastle Utd\",\"2013/Newcastle Utd\",\"2014/Newcastle Utd\",\"2015/Newcastle Utd\",\"2016/Newcastle Utd\",\"2018/Newcastle Utd\",\"2019/Newcastle Utd\",\"2020/Newcastle Utd\",\"2021/Newcastle Utd\",\"2022/Newcastle Utd\",\"2023/Newcastle Utd\",\"1993/Norwich City\",\"1994/Norwich City\",\"1995/Norwich City\",\"2005/Norwich City\",\"2012/Norwich City\",\"2013/Norwich City\",\"2014/Norwich City\",\"2016/Norwich City\",\"2020/Norwich City\",\"2022/Norwich City\",\"1993/Nott'ham Forest\",\"1995/Nott'ham Forest\",\"1996/Nott'ham Forest\",\"1997/Nott'ham Forest\",\"1999/Nott'ham Forest\",\"2023/Nott'ham Forest\",\"1993/Oldham Athletic\",\"1994/Oldham Athletic\",\"2004/Portsmouth\",\"2005/Portsmouth\",\"2006/Portsmouth\",\"2007/Portsmouth\",\"2008/Portsmouth\",\"2009/Portsmouth\",\"2010/Portsmouth\",\"1993/QPR\",\"1994/QPR\",\"1995/QPR\",\"1996/QPR\",\"2012/QPR\",\"2013/QPR\",\"2015/QPR\",\"2007/Reading\",\"2008/Reading\",\"2013/Reading\",\"1993/Sheffield Utd\",\"1994/Sheffield Utd\",\"2007/Sheffield Utd\",\"2020/Sheffield Utd\",\"2021/Sheffield Utd\",\"1993/Sheffield Weds\",\"1994/Sheffield Weds\",\"1995/Sheffield Weds\",\"1996/Sheffield Weds\",\"1997/Sheffield Weds\",\"1998/Sheffield Weds\",\"1999/Sheffield Weds\",\"2000/Sheffield Weds\",\"1993/Southampton\",\"1994/Southampton\",\"1995/Southampton\",\"1996/Southampton\",\"1997/Southampton\",\"1998/Southampton\",\"1999/Southampton\",\"2000/Southampton\",\"2001/Southampton\",\"2002/Southampton\",\"2003/Southampton\",\"2004/Southampton\",\"2005/Southampton\",\"2013/Southampton\",\"2014/Southampton\",\"2015/Southampton\",\"2016/Southampton\",\"2017/Southampton\",\"2018/Southampton\",\"2019/Southampton\",\"2020/Southampton\",\"2021/Southampton\",\"2022/Southampton\",\"2023/Southampton\",\"2009/Stoke City\",\"2010/Stoke City\",\"2011/Stoke City\",\"2012/Stoke City\",\"2013/Stoke City\",\"2014/Stoke City\",\"2015/Stoke City\",\"2016/Stoke City\",\"2017/Stoke City\",\"2018/Stoke City\",\"1997/Sunderland\",\"2000/Sunderland\",\"2001/Sunderland\",\"2002/Sunderland\",\"2003/Sunderland\",\"2006/Sunderland\",\"2008/Sunderland\",\"2009/Sunderland\",\"2010/Sunderland\",\"2011/Sunderland\",\"2012/Sunderland\",\"2013/Sunderland\",\"2014/Sunderland\",\"2015/Sunderland\",\"2016/Sunderland\",\"2017/Sunderland\",\"2012/Swansea City\",\"2013/Swansea City\",\"2014/Swansea City\",\"2015/Swansea City\",\"2016/Swansea City\",\"2017/Swansea City\",\"2018/Swansea City\",\"1994/Swindon Town\",\"1993/Tottenham\",\"1994/Tottenham\",\"1995/Tottenham\",\"1996/Tottenham\",\"1997/Tottenham\",\"1998/Tottenham\",\"1999/Tottenham\",\"2000/Tottenham\",\"2001/Tottenham\",\"2002/Tottenham\",\"2003/Tottenham\",\"2004/Tottenham\",\"2005/Tottenham\",\"2006/Tottenham\",\"2007/Tottenham\",\"2008/Tottenham\",\"2009/Tottenham\",\"2010/Tottenham\",\"2011/Tottenham\",\"2012/Tottenham\",\"2013/Tottenham\",\"2014/Tottenham\",\"2015/Tottenham\",\"2016/Tottenham\",\"2017/Tottenham\",\"2018/Tottenham\",\"2019/Tottenham\",\"2020/Tottenham\",\"2021/Tottenham\",\"2022/Tottenham\",\"2023/Tottenham\",\"2000/Watford\",\"2007/Watford\",\"2016/Watford\",\"2017/Watford\",\"2018/Watford\",\"2019/Watford\",\"2020/Watford\",\"2022/Watford\",\"2003/West Brom\",\"2005/West Brom\",\"2006/West Brom\",\"2009/West Brom\",\"2011/West Brom\",\"2012/West Brom\",\"2013/West Brom\",\"2014/West Brom\",\"2015/West Brom\",\"2016/West Brom\",\"2017/West Brom\",\"2018/West Brom\",\"2021/West Brom\",\"1994/West Ham\",\"1995/West Ham\",\"1996/West Ham\",\"1997/West Ham\",\"1998/West Ham\",\"1999/West Ham\",\"2000/West Ham\",\"2001/West Ham\",\"2002/West Ham\",\"2003/West Ham\",\"2006/West Ham\",\"2007/West Ham\",\"2008/West Ham\",\"2009/West Ham\",\"2010/West Ham\",\"2011/West Ham\",\"2013/West Ham\",\"2014/West Ham\",\"2015/West Ham\",\"2016/West Ham\",\"2017/West Ham\",\"2018/West Ham\",\"2019/West Ham\",\"2020/West Ham\",\"2021/West Ham\",\"2022/West Ham\",\"2023/West Ham\",\"2006/Wigan Athletic\",\"2007/Wigan Athletic\",\"2008/Wigan Athletic\",\"2009/Wigan Athletic\",\"2010/Wigan Athletic\",\"2011/Wigan Athletic\",\"2012/Wigan Athletic\",\"2013/Wigan Athletic\",\"1993/Wimbledon\",\"1994/Wimbledon\",\"1995/Wimbledon\",\"1996/Wimbledon\",\"1997/Wimbledon\",\"1998/Wimbledon\",\"1999/Wimbledon\",\"2000/Wimbledon\",\"2004/Wolves\",\"2010/Wolves\",\"2011/Wolves\",\"2012/Wolves\",\"2019/Wolves\",\"2020/Wolves\",\"2021/Wolves\",\"2022/Wolves\",\"2023/Wolves\",\"1993\",\"1994\",\"1995\",\"1996\",\"1997\",\"1998\",\"1999\",\"2000\",\"2001\",\"2002\",\"2003\",\"2004\",\"2005\",\"2006\",\"2007\",\"2008\",\"2009\",\"2010\",\"2011\",\"2012\",\"2013\",\"2014\",\"2015\",\"2016\",\"2017\",\"2018\",\"2019\",\"2020\",\"2021\",\"2022\",\"2023\"],\"labels\":[\"Arsenal\",\"Arsenal\",\"Arsenal\",\"Arsenal\",\"Arsenal\",\"Arsenal\",\"Arsenal\",\"Arsenal\",\"Arsenal\",\"Arsenal\",\"Arsenal\",\"Arsenal\",\"Arsenal\",\"Arsenal\",\"Arsenal\",\"Arsenal\",\"Arsenal\",\"Arsenal\",\"Arsenal\",\"Arsenal\",\"Arsenal\",\"Arsenal\",\"Arsenal\",\"Arsenal\",\"Arsenal\",\"Arsenal\",\"Arsenal\",\"Arsenal\",\"Arsenal\",\"Arsenal\",\"Arsenal\",\"Aston Villa\",\"Aston Villa\",\"Aston Villa\",\"Aston Villa\",\"Aston Villa\",\"Aston Villa\",\"Aston Villa\",\"Aston Villa\",\"Aston Villa\",\"Aston Villa\",\"Aston Villa\",\"Aston Villa\",\"Aston Villa\",\"Aston Villa\",\"Aston Villa\",\"Aston Villa\",\"Aston Villa\",\"Aston Villa\",\"Aston Villa\",\"Aston Villa\",\"Aston Villa\",\"Aston Villa\",\"Aston Villa\",\"Aston Villa\",\"Aston Villa\",\"Aston Villa\",\"Aston Villa\",\"Aston Villa\",\"Barnsley\",\"Birmingham City\",\"Birmingham City\",\"Birmingham City\",\"Birmingham City\",\"Birmingham City\",\"Birmingham City\",\"Birmingham City\",\"Blackburn\",\"Blackburn\",\"Blackburn\",\"Blackburn\",\"Blackburn\",\"Blackburn\",\"Blackburn\",\"Blackburn\",\"Blackburn\",\"Blackburn\",\"Blackburn\",\"Blackburn\",\"Blackburn\",\"Blackburn\",\"Blackburn\",\"Blackburn\",\"Blackburn\",\"Blackburn\",\"Blackpool\",\"Bolton\",\"Bolton\",\"Bolton\",\"Bolton\",\"Bolton\",\"Bolton\",\"Bolton\",\"Bolton\",\"Bolton\",\"Bolton\",\"Bolton\",\"Bolton\",\"Bolton\",\"Bournemouth\",\"Bournemouth\",\"Bournemouth\",\"Bournemouth\",\"Bournemouth\",\"Bournemouth\",\"Bradford City\",\"Bradford City\",\"Brentford\",\"Brentford\",\"Brighton\",\"Brighton\",\"Brighton\",\"Brighton\",\"Brighton\",\"Brighton\",\"Burnley\",\"Burnley\",\"Burnley\",\"Burnley\",\"Burnley\",\"Burnley\",\"Burnley\",\"Burnley\",\"Cardiff City\",\"Cardiff City\",\"Charlton Ath\",\"Charlton Ath\",\"Charlton Ath\",\"Charlton Ath\",\"Charlton Ath\",\"Charlton Ath\",\"Charlton Ath\",\"Charlton Ath\",\"Chelsea\",\"Chelsea\",\"Chelsea\",\"Chelsea\",\"Chelsea\",\"Chelsea\",\"Chelsea\",\"Chelsea\",\"Chelsea\",\"Chelsea\",\"Chelsea\",\"Chelsea\",\"Chelsea\",\"Chelsea\",\"Chelsea\",\"Chelsea\",\"Chelsea\",\"Chelsea\",\"Chelsea\",\"Chelsea\",\"Chelsea\",\"Chelsea\",\"Chelsea\",\"Chelsea\",\"Chelsea\",\"Chelsea\",\"Chelsea\",\"Chelsea\",\"Chelsea\",\"Chelsea\",\"Chelsea\",\"Coventry City\",\"Coventry City\",\"Coventry City\",\"Coventry City\",\"Coventry City\",\"Coventry City\",\"Coventry City\",\"Coventry City\",\"Coventry City\",\"Crystal Palace\",\"Crystal Palace\",\"Crystal Palace\",\"Crystal Palace\",\"Crystal Palace\",\"Crystal Palace\",\"Crystal Palace\",\"Crystal Palace\",\"Crystal Palace\",\"Crystal Palace\",\"Crystal Palace\",\"Crystal Palace\",\"Crystal Palace\",\"Crystal Palace\",\"Derby County\",\"Derby County\",\"Derby County\",\"Derby County\",\"Derby County\",\"Derby County\",\"Derby County\",\"Everton\",\"Everton\",\"Everton\",\"Everton\",\"Everton\",\"Everton\",\"Everton\",\"Everton\",\"Everton\",\"Everton\",\"Everton\",\"Everton\",\"Everton\",\"Everton\",\"Everton\",\"Everton\",\"Everton\",\"Everton\",\"Everton\",\"Everton\",\"Everton\",\"Everton\",\"Everton\",\"Everton\",\"Everton\",\"Everton\",\"Everton\",\"Everton\",\"Everton\",\"Everton\",\"Everton\",\"Fulham\",\"Fulham\",\"Fulham\",\"Fulham\",\"Fulham\",\"Fulham\",\"Fulham\",\"Fulham\",\"Fulham\",\"Fulham\",\"Fulham\",\"Fulham\",\"Fulham\",\"Fulham\",\"Fulham\",\"Fulham\",\"Huddersfield\",\"Huddersfield\",\"Hull City\",\"Hull City\",\"Hull City\",\"Hull City\",\"Hull City\",\"Ipswich Town\",\"Ipswich Town\",\"Ipswich Town\",\"Ipswich Town\",\"Ipswich Town\",\"Leeds United\",\"Leeds United\",\"Leeds United\",\"Leeds United\",\"Leeds United\",\"Leeds United\",\"Leeds United\",\"Leeds United\",\"Leeds United\",\"Leeds United\",\"Leeds United\",\"Leeds United\",\"Leeds United\",\"Leeds United\",\"Leeds United\",\"Leicester City\",\"Leicester City\",\"Leicester City\",\"Leicester City\",\"Leicester City\",\"Leicester City\",\"Leicester City\",\"Leicester City\",\"Leicester City\",\"Leicester City\",\"Leicester City\",\"Leicester City\",\"Leicester City\",\"Leicester City\",\"Leicester City\",\"Leicester City\",\"Leicester City\",\"Liverpool\",\"Liverpool\",\"Liverpool\",\"Liverpool\",\"Liverpool\",\"Liverpool\",\"Liverpool\",\"Liverpool\",\"Liverpool\",\"Liverpool\",\"Liverpool\",\"Liverpool\",\"Liverpool\",\"Liverpool\",\"Liverpool\",\"Liverpool\",\"Liverpool\",\"Liverpool\",\"Liverpool\",\"Liverpool\",\"Liverpool\",\"Liverpool\",\"Liverpool\",\"Liverpool\",\"Liverpool\",\"Liverpool\",\"Liverpool\",\"Liverpool\",\"Liverpool\",\"Liverpool\",\"Liverpool\",\"Manchester City\",\"Manchester City\",\"Manchester City\",\"Manchester City\",\"Manchester City\",\"Manchester City\",\"Manchester City\",\"Manchester City\",\"Manchester City\",\"Manchester City\",\"Manchester City\",\"Manchester City\",\"Manchester City\",\"Manchester City\",\"Manchester City\",\"Manchester City\",\"Manchester City\",\"Manchester City\",\"Manchester City\",\"Manchester City\",\"Manchester City\",\"Manchester City\",\"Manchester City\",\"Manchester City\",\"Manchester City\",\"Manchester City\",\"Manchester Utd\",\"Manchester Utd\",\"Manchester Utd\",\"Manchester Utd\",\"Manchester Utd\",\"Manchester Utd\",\"Manchester Utd\",\"Manchester Utd\",\"Manchester Utd\",\"Manchester Utd\",\"Manchester Utd\",\"Manchester Utd\",\"Manchester Utd\",\"Manchester Utd\",\"Manchester Utd\",\"Manchester Utd\",\"Manchester Utd\",\"Manchester Utd\",\"Manchester Utd\",\"Manchester Utd\",\"Manchester Utd\",\"Manchester Utd\",\"Manchester Utd\",\"Manchester Utd\",\"Manchester Utd\",\"Manchester Utd\",\"Manchester Utd\",\"Manchester Utd\",\"Manchester Utd\",\"Manchester Utd\",\"Manchester Utd\",\"Middlesbrough\",\"Middlesbrough\",\"Middlesbrough\",\"Middlesbrough\",\"Middlesbrough\",\"Middlesbrough\",\"Middlesbrough\",\"Middlesbrough\",\"Middlesbrough\",\"Middlesbrough\",\"Middlesbrough\",\"Middlesbrough\",\"Middlesbrough\",\"Middlesbrough\",\"Middlesbrough\",\"Newcastle Utd\",\"Newcastle Utd\",\"Newcastle Utd\",\"Newcastle Utd\",\"Newcastle Utd\",\"Newcastle Utd\",\"Newcastle Utd\",\"Newcastle Utd\",\"Newcastle Utd\",\"Newcastle Utd\",\"Newcastle Utd\",\"Newcastle Utd\",\"Newcastle Utd\",\"Newcastle Utd\",\"Newcastle Utd\",\"Newcastle Utd\",\"Newcastle Utd\",\"Newcastle Utd\",\"Newcastle Utd\",\"Newcastle Utd\",\"Newcastle Utd\",\"Newcastle Utd\",\"Newcastle Utd\",\"Newcastle Utd\",\"Newcastle Utd\",\"Newcastle Utd\",\"Newcastle Utd\",\"Newcastle Utd\",\"Norwich City\",\"Norwich City\",\"Norwich City\",\"Norwich City\",\"Norwich City\",\"Norwich City\",\"Norwich City\",\"Norwich City\",\"Norwich City\",\"Norwich City\",\"Nott'ham Forest\",\"Nott'ham Forest\",\"Nott'ham Forest\",\"Nott'ham Forest\",\"Nott'ham Forest\",\"Nott'ham Forest\",\"Oldham Athletic\",\"Oldham Athletic\",\"Portsmouth\",\"Portsmouth\",\"Portsmouth\",\"Portsmouth\",\"Portsmouth\",\"Portsmouth\",\"Portsmouth\",\"QPR\",\"QPR\",\"QPR\",\"QPR\",\"QPR\",\"QPR\",\"QPR\",\"Reading\",\"Reading\",\"Reading\",\"Sheffield Utd\",\"Sheffield Utd\",\"Sheffield Utd\",\"Sheffield Utd\",\"Sheffield Utd\",\"Sheffield Weds\",\"Sheffield Weds\",\"Sheffield Weds\",\"Sheffield Weds\",\"Sheffield Weds\",\"Sheffield Weds\",\"Sheffield Weds\",\"Sheffield Weds\",\"Southampton\",\"Southampton\",\"Southampton\",\"Southampton\",\"Southampton\",\"Southampton\",\"Southampton\",\"Southampton\",\"Southampton\",\"Southampton\",\"Southampton\",\"Southampton\",\"Southampton\",\"Southampton\",\"Southampton\",\"Southampton\",\"Southampton\",\"Southampton\",\"Southampton\",\"Southampton\",\"Southampton\",\"Southampton\",\"Southampton\",\"Southampton\",\"Stoke City\",\"Stoke City\",\"Stoke City\",\"Stoke City\",\"Stoke City\",\"Stoke City\",\"Stoke City\",\"Stoke City\",\"Stoke City\",\"Stoke City\",\"Sunderland\",\"Sunderland\",\"Sunderland\",\"Sunderland\",\"Sunderland\",\"Sunderland\",\"Sunderland\",\"Sunderland\",\"Sunderland\",\"Sunderland\",\"Sunderland\",\"Sunderland\",\"Sunderland\",\"Sunderland\",\"Sunderland\",\"Sunderland\",\"Swansea City\",\"Swansea City\",\"Swansea City\",\"Swansea City\",\"Swansea City\",\"Swansea City\",\"Swansea City\",\"Swindon Town\",\"Tottenham\",\"Tottenham\",\"Tottenham\",\"Tottenham\",\"Tottenham\",\"Tottenham\",\"Tottenham\",\"Tottenham\",\"Tottenham\",\"Tottenham\",\"Tottenham\",\"Tottenham\",\"Tottenham\",\"Tottenham\",\"Tottenham\",\"Tottenham\",\"Tottenham\",\"Tottenham\",\"Tottenham\",\"Tottenham\",\"Tottenham\",\"Tottenham\",\"Tottenham\",\"Tottenham\",\"Tottenham\",\"Tottenham\",\"Tottenham\",\"Tottenham\",\"Tottenham\",\"Tottenham\",\"Tottenham\",\"Watford\",\"Watford\",\"Watford\",\"Watford\",\"Watford\",\"Watford\",\"Watford\",\"Watford\",\"West Brom\",\"West Brom\",\"West Brom\",\"West Brom\",\"West Brom\",\"West Brom\",\"West Brom\",\"West Brom\",\"West Brom\",\"West Brom\",\"West Brom\",\"West Brom\",\"West Brom\",\"West Ham\",\"West Ham\",\"West Ham\",\"West Ham\",\"West Ham\",\"West Ham\",\"West Ham\",\"West Ham\",\"West Ham\",\"West Ham\",\"West Ham\",\"West Ham\",\"West Ham\",\"West Ham\",\"West Ham\",\"West Ham\",\"West Ham\",\"West Ham\",\"West Ham\",\"West Ham\",\"West Ham\",\"West Ham\",\"West Ham\",\"West Ham\",\"West Ham\",\"West Ham\",\"West Ham\",\"Wigan Athletic\",\"Wigan Athletic\",\"Wigan Athletic\",\"Wigan Athletic\",\"Wigan Athletic\",\"Wigan Athletic\",\"Wigan Athletic\",\"Wigan Athletic\",\"Wimbledon\",\"Wimbledon\",\"Wimbledon\",\"Wimbledon\",\"Wimbledon\",\"Wimbledon\",\"Wimbledon\",\"Wimbledon\",\"Wolves\",\"Wolves\",\"Wolves\",\"Wolves\",\"Wolves\",\"Wolves\",\"Wolves\",\"Wolves\",\"Wolves\",\"1993\",\"1994\",\"1995\",\"1996\",\"1997\",\"1998\",\"1999\",\"2000\",\"2001\",\"2002\",\"2003\",\"2004\",\"2005\",\"2006\",\"2007\",\"2008\",\"2009\",\"2010\",\"2011\",\"2012\",\"2013\",\"2014\",\"2015\",\"2016\",\"2017\",\"2018\",\"2019\",\"2020\",\"2021\",\"2022\",\"2023\"],\"marker\":{\"coloraxis\":\"coloraxis\",\"colors\":[2.36,2.04,2.7777777777777777,2.466666666666667,2.5555555555555554,3.372093023255814,3.0,2.9523809523809526,3.6666666666666665,2.7142857142857144,3.0851063829787235,2.85,3.7037037037037037,3.7083333333333335,3.046511627906977,2.4594594594594597,2.7419354838709675,3.4166666666666665,3.0,3.4615384615384617,4.276595744680851,2.5555555555555554,3.097560975609756,2.5483870967741935,2.4358974358974357,3.5185185185185186,2.857142857142857,2.5,2.5833333333333335,2.657142857142857,3.5283018867924527,2.7222222222222223,2.8260869565217392,3.4444444444444446,2.6875,2.4074074074074074,2.3076923076923075,2.3333333333333335,2.130434782608696,2.259259259259259,1.8181818181818181,2.52,2.3333333333333335,2.1538461538461537,2.2,1.8,2.764705882352941,2.6296296296296298,2.9310344827586206,2.230769230769231,1.9,2.8260869565217392,2.727272727272727,2.0,1.5714285714285714,1.6363636363636365,3.2758620689655173,2.2413793103448274,2.3333333333333335,2.12,2.28,2.3846153846153846,2.0833333333333335,2.473684210526316,2.6,1.5263157894736843,1.631578947368421,3.3157894736842106,1.967741935483871,3.0,3.4545454545454546,2.5714285714285716,3.75,1.9523809523809523,3.3636363636363638,2.25,2.36,2.142857142857143,2.6129032258064515,2.6129032258064515,2.6923076923076925,2.0,2.357142857142857,1.9090909090909092,2.6153846153846154,2.066666666666667,1.5,2.52,2.3,2.185185185185185,2.0833333333333335,2.36,2.310344827586207,2.3076923076923075,2.217391304347826,2.4285714285714284,2.5384615384615383,2.764705882352941,2.4782608695652173,2.0434782608695654,3.1142857142857143,2.230769230769231,2.466666666666667,2.3636363636363638,2.3,2.3076923076923075,1.9,2.0,2.7142857142857144,2.25,1.736842105263158,2.0,2.0,2.3684210526315788,3.5405405405405403,1.96,1.4285714285714286,2.230769230769231,1.375,1.9166666666666667,2.0,1.5714285714285714,2.111111111111111,2.2,2.142857142857143,2.8,2.225806451612903,2.3043478260869565,2.3076923076923075,2.3793103448275863,2.2413793103448274,2.0,2.0526315789473686,2.3793103448275863,2.2903225806451615,2.12,2.6666666666666665,2.757575757575758,3.27027027027027,2.0344827586206895,2.8285714285714287,3.272727272727273,3.3255813953488373,2.902439024390244,3.235294117647059,2.8857142857142857,3.0,2.5675675675675675,3.4444444444444446,2.878787878787879,4.852941176470588,2.948717948717949,3.097560975609756,3.682926829268293,3.13953488372093,2.2777777777777777,2.4375,3.4,2.7333333333333334,2.8461538461538463,2.3333333333333335,2.7419354838709675,3.054054054054054,1.9,2.6551724137931036,1.8695652173913044,2.0434782608695654,2.619047619047619,1.9473684210526316,2.230769230769231,2.076923076923077,3.0,1.4285714285714286,2.111111111111111,1.75,1.9333333333333333,2.238095238095238,2.111111111111111,1.8571428571428572,2.3684210526315788,2.6666666666666665,2.5172413793103448,2.473684210526316,1.4,2.1,2.185185185185185,2.238095238095238,2.36,2.8181818181818183,2.090909090909091,2.5454545454545454,1.7826086956521738,2.0,1.5,2.1538461538461537,3.4615384615384617,2.2903225806451615,2.3142857142857145,3.0833333333333335,2.28,3.909090909090909,3.388888888888889,2.0344827586206895,2.5384615384615383,1.7857142857142858,2.5555555555555554,2.0833333333333335,2.272727272727273,2.3333333333333335,3.176470588235294,2.4838709677419355,2.4285714285714284,2.3548387096774195,2.5714285714285716,2.090909090909091,2.6842105263157894,2.4074074074074074,3.1142857142857143,3.2857142857142856,2.4285714285714284,2.2666666666666666,2.0,2.5833333333333335,2.259259259259259,1.375,2.142857142857143,2.4615384615384617,2.103448275862069,2.793103448275862,2.6129032258064515,1.4444444444444444,2.1818181818181817,2.142857142857143,2.4074074074074074,2.2,3.3333333333333335,2.5714285714285716,1.5,2.4545454545454546,1.4444444444444444,2.5483870967741935,2.0,1.0,1.5555555555555556,2.0,3.0,1.736842105263158,2.357142857142857,2.2413793103448274,1.5714285714285714,2.1666666666666665,2.032258064516129,2.6,2.9,2.6216216216216215,2.5428571428571427,1.9523809523809523,2.066666666666667,2.870967741935484,2.8125,2.3793103448275863,3.0555555555555554,2.4838709677419355,2.04,2.52,2.9285714285714284,1.736842105263158,2.1538461538461537,2.2142857142857144,1.9090909090909092,2.0476190476190474,1.8,2.6129032258064515,2.2857142857142856,1.5333333333333334,2.1578947368421053,3.0,2.5428571428571427,2.6129032258064515,1.96,2.1666666666666665,3.0,2.823529411764706,2.8823529411764706,2.5652173913043477,3.341463414634146,2.272727272727273,2.736842105263158,3.608695652173913,3.3684210526315788,3.142857142857143,3.590909090909091,2.5,2.8,2.5757575757575757,2.0,2.4482758620689653,2.3548387096774195,2.5625,2.7948717948717947,3.2790697674418605,3.048780487804878,3.186046511627907,2.675675675675676,2.3333333333333335,3.242424242424242,3.6037735849056602,2.2,2.515151515151515,3.3555555555555556,3.488888888888889,3.6545454545454548,3.230769230769231,2.6551724137931036,3.204081632653061,4.3478260869565215,2.4,1.9166666666666667,2.8378378378378377,1.7619047619047619,2.8,2.5714285714285716,3.6451612903225805,2.25,2.6923076923076925,2.0,2.357142857142857,3.3,3.1951219512195124,2.9411764705882355,3.2181818181818183,2.707317073170732,4.301587301587301,3.3181818181818183,3.5531914893617023,2.72972972972973,4.081967213114754,3.8421052631578947,4.052631578947368,3.3255813953488373,4.310344827586207,3.8,2.7948717948717947,2.8461538461538463,3.9047619047619047,2.611111111111111,2.736842105263158,3.619047619047619,2.9555555555555557,3.8813559322033897,3.6530612244897958,3.85,2.9047619047619047,2.7837837837837838,2.5483870967741935,2.891891891891892,3.1739130434782608,3.3404255319148937,3.13953488372093,3.3461538461538463,3.36734693877551,3.769230769230769,2.911111111111111,2.7241379310344827,2.8048780487804876,2.3333333333333335,2.076923076923077,2.789473684210526,2.696969696969697,3.05,4.315789473684211,3.0,2.4444444444444446,2.3333333333333335,2.4814814814814814,3.764705882352941,2.36,2.0434782608695654,1.8888888888888888,2.3043478260869565,2.5555555555555554,2.68,2.2413793103448274,2.7857142857142856,2.7419354838709675,3.5185185185185186,1.8235294117647058,1.588235294117647,3.6666666666666665,2.869565217391304,2.789473684210526,3.925925925925926,1.9090909090909092,2.3846153846153846,3.761904761904762,2.1538461538461537,3.2,2.5,2.757575757575758,2.28,2.2857142857142856,2.217391304347826,2.28,1.8333333333333333,3.682926829268293,2.1724137931034484,2.25,2.5652173913043477,2.0,3.1875,2.142857142857143,2.1666666666666665,1.7,2.1538461538461537,1.9230769230769231,3.5555555555555554,2.2903225806451615,2.1538461538461537,2.3333333333333335,2.2413793103448274,2.2857142857142856,2.2,1.7058823529411764,2.5384615384615383,1.9473684210526316,1.5,1.588235294117647,2.5555555555555554,2.3793103448275863,1.5333333333333334,1.5555555555555556,2.037037037037037,3.4651162790697674,2.1666666666666665,3.4,2.7333333333333334,1.3529411764705883,2.2142857142857144,3.9166666666666665,2.076923076923077,2.25,2.902439024390244,2.25,2.2222222222222223,1.96,2.0,1.6153846153846154,2.0434782608695654,3.0,1.8421052631578947,2.217391304347826,2.8181818181818183,1.9166666666666667,1.75,2.1666666666666665,1.3333333333333333,2.411764705882353,3.375,2.6923076923076925,3.1333333333333333,2.04,2.4,2.5,3.0,2.2,3.1333333333333333,2.3333333333333335,1.9523809523809523,3.1875,2.357142857142857,2.310344827586207,2.1538461538461537,2.111111111111111,1.9565217391304348,2.28,2.3333333333333335,2.2666666666666666,2.230769230769231,2.625,4.135135135135135,2.8974358974358974,2.0588235294117645,2.2,2.037037037037037,1.6666666666666667,2.2142857142857144,1.8695652173913044,2.1578947368421053,1.8181818181818181,1.9166666666666667,2.4193548387096775,1.8,1.9523809523809523,2.4074074074074074,2.8125,1.9090909090909092,1.9166666666666667,1.8,1.9,2.0714285714285716,2.0833333333333335,1.3333333333333333,1.3636363636363635,1.1666666666666667,1.9565217391304348,1.9523809523809523,2.9375,2.12,2.3076923076923075,1.8,2.142857142857143,1.75,2.391304347826087,1.875,2.5555555555555554,2.5714285714285716,2.6363636363636362,1.962962962962963,1.8,2.5555555555555554,2.176470588235294,1.96,3.0,2.3793103448275863,2.4375,2.230769230769231,1.5263157894736843,2.130434782608696,2.357142857142857,3.35,2.7419354838709675,2.3125,2.7333333333333334,3.121212121212121,3.388888888888889,2.225806451612903,2.764705882352941,3.5652173913043477,2.142857142857143,4.05,2.4,2.6923076923076925,2.103448275862069,2.6666666666666665,3.0,2.8857142857142857,3.0851063829787235,3.3,2.823529411764706,2.7777777777777777,2.7142857142857144,3.1052631578947367,3.0,1.6666666666666667,2.263157894736842,2.0,2.04,2.185185185185185,2.230769230769231,2.090909090909091,2.176470588235294,1.3529411764705883,1.588235294117647,2.142857142857143,2.230769230769231,2.1333333333333333,2.142857142857143,2.5,2.0,2.1666666666666665,1.8,2.925925925925926,1.5714285714285714,1.9333333333333333,2.3076923076923075,2.142857142857143,2.04,2.7777777777777777,3.15,2.8125,3.0,2.9166666666666665,2.4375,1.8571428571428572,2.2666666666666666,2.1666666666666665,2.0,2.4782608695652173,2.466666666666667,2.0,2.5294117647058822,2.2,1.96,2.176470588235294,1.631578947368421,1.9166666666666667,2.875,2.466666666666667,2.4375,2.1515151515151514,2.230769230769231,2.1666666666666665,2.4444444444444446,2.4285714285714284,1.7058823529411764,1.8421052631578947,2.1818181818181817,2.272727272727273,2.0,2.625,2.4285714285714284,2.1538461538461537,2.259259259259259,2.357142857142857,2.111111111111111,1.7272727272727273,2.4,2.130434782608696,1.6153846153846154,2.3333333333333335,1.9473684210526316,2.357142857142857,2.037037037037037,1.5714285714285714,2.4,1.736842105263158,2.66804979253112,2.526395173453997,2.601147776183644,2.5620689655172413,2.717352415026834,2.766891891891892,2.5443037974683542,2.8299212598425196,2.6115843270868826,2.6050269299820465,2.4105263157894736,2.667832167832168,2.536842105263158,2.5315315315315314,2.5,2.8141135972461275,2.4473684210526314,2.9627906976744187,2.5688816855753647,2.7019867549668874,2.6587837837837838,2.7759197324414715,2.5535714285714284,2.5520282186948853,2.6639209225700164,2.7010309278350517,2.664429530201342,2.5416666666666665,2.6381322957198443,2.6730434782608694,2.864734299516908]},\"name\":\"\",\"parents\":[\"1993\",\"1994\",\"1995\",\"1996\",\"1997\",\"1998\",\"1999\",\"2000\",\"2001\",\"2002\",\"2003\",\"2004\",\"2005\",\"2006\",\"2007\",\"2008\",\"2009\",\"2010\",\"2011\",\"2012\",\"2013\",\"2014\",\"2015\",\"2016\",\"2017\",\"2018\",\"2019\",\"2020\",\"2021\",\"2022\",\"2023\",\"1993\",\"1994\",\"1995\",\"1996\",\"1997\",\"1998\",\"1999\",\"2000\",\"2001\",\"2002\",\"2003\",\"2004\",\"2005\",\"2006\",\"2007\",\"2008\",\"2009\",\"2010\",\"2011\",\"2012\",\"2013\",\"2014\",\"2015\",\"2016\",\"2020\",\"2021\",\"2022\",\"2023\",\"1998\",\"2003\",\"2004\",\"2005\",\"2006\",\"2008\",\"2010\",\"2011\",\"1993\",\"1994\",\"1995\",\"1996\",\"1997\",\"1998\",\"1999\",\"2002\",\"2003\",\"2004\",\"2005\",\"2006\",\"2007\",\"2008\",\"2009\",\"2010\",\"2011\",\"2012\",\"2011\",\"1996\",\"1998\",\"2002\",\"2003\",\"2004\",\"2005\",\"2006\",\"2007\",\"2008\",\"2009\",\"2010\",\"2011\",\"2012\",\"2016\",\"2017\",\"2018\",\"2019\",\"2020\",\"2023\",\"2000\",\"2001\",\"2022\",\"2023\",\"2018\",\"2019\",\"2020\",\"2021\",\"2022\",\"2023\",\"2010\",\"2015\",\"2017\",\"2018\",\"2019\",\"2020\",\"2021\",\"2022\",\"2014\",\"2019\",\"1999\",\"2001\",\"2002\",\"2003\",\"2004\",\"2005\",\"2006\",\"2007\",\"1993\",\"1994\",\"1995\",\"1996\",\"1997\",\"1998\",\"1999\",\"2000\",\"2001\",\"2002\",\"2003\",\"2004\",\"2005\",\"2006\",\"2007\",\"2008\",\"2009\",\"2010\",\"2011\",\"2012\",\"2013\",\"2014\",\"2015\",\"2016\",\"2017\",\"2018\",\"2019\",\"2020\",\"2021\",\"2022\",\"2023\",\"1993\",\"1994\",\"1995\",\"1996\",\"1997\",\"1998\",\"1999\",\"2000\",\"2001\",\"1993\",\"1995\",\"1998\",\"2005\",\"2014\",\"2015\",\"2016\",\"2017\",\"2018\",\"2019\",\"2020\",\"2021\",\"2022\",\"2023\",\"1997\",\"1998\",\"1999\",\"2000\",\"2001\",\"2002\",\"2008\",\"1993\",\"1994\",\"1995\",\"1996\",\"1997\",\"1998\",\"1999\",\"2000\",\"2001\",\"2002\",\"2003\",\"2004\",\"2005\",\"2006\",\"2007\",\"2008\",\"2009\",\"2010\",\"2011\",\"2012\",\"2013\",\"2014\",\"2015\",\"2016\",\"2017\",\"2018\",\"2019\",\"2020\",\"2021\",\"2022\",\"2023\",\"2002\",\"2003\",\"2004\",\"2005\",\"2006\",\"2007\",\"2008\",\"2009\",\"2010\",\"2011\",\"2012\",\"2013\",\"2014\",\"2019\",\"2021\",\"2023\",\"2018\",\"2019\",\"2009\",\"2010\",\"2014\",\"2015\",\"2017\",\"1993\",\"1994\",\"1995\",\"2001\",\"2002\",\"1993\",\"1994\",\"1995\",\"1996\",\"1997\",\"1998\",\"1999\",\"2000\",\"2001\",\"2002\",\"2003\",\"2004\",\"2021\",\"2022\",\"2023\",\"1995\",\"1997\",\"1998\",\"1999\",\"2000\",\"2001\",\"2002\",\"2004\",\"2015\",\"2016\",\"2017\",\"2018\",\"2019\",\"2020\",\"2021\",\"2022\",\"2023\",\"1993\",\"1994\",\"1995\",\"1996\",\"1997\",\"1998\",\"1999\",\"2000\",\"2001\",\"2002\",\"2003\",\"2004\",\"2005\",\"2006\",\"2007\",\"2008\",\"2009\",\"2010\",\"2011\",\"2012\",\"2013\",\"2014\",\"2015\",\"2016\",\"2017\",\"2018\",\"2019\",\"2020\",\"2021\",\"2022\",\"2023\",\"1993\",\"1994\",\"1995\",\"1996\",\"2001\",\"2003\",\"2004\",\"2005\",\"2006\",\"2007\",\"2008\",\"2009\",\"2010\",\"2011\",\"2012\",\"2013\",\"2014\",\"2015\",\"2016\",\"2017\",\"2018\",\"2019\",\"2020\",\"2021\",\"2022\",\"2023\",\"1993\",\"1994\",\"1995\",\"1996\",\"1997\",\"1998\",\"1999\",\"2000\",\"2001\",\"2002\",\"2003\",\"2004\",\"2005\",\"2006\",\"2007\",\"2008\",\"2009\",\"2010\",\"2011\",\"2012\",\"2013\",\"2014\",\"2015\",\"2016\",\"2017\",\"2018\",\"2019\",\"2020\",\"2021\",\"2022\",\"2023\",\"1993\",\"1996\",\"1997\",\"1999\",\"2000\",\"2001\",\"2002\",\"2003\",\"2004\",\"2005\",\"2006\",\"2007\",\"2008\",\"2009\",\"2017\",\"1994\",\"1995\",\"1996\",\"1997\",\"1998\",\"1999\",\"2000\",\"2001\",\"2002\",\"2003\",\"2004\",\"2005\",\"2006\",\"2007\",\"2008\",\"2009\",\"2011\",\"2012\",\"2013\",\"2014\",\"2015\",\"2016\",\"2018\",\"2019\",\"2020\",\"2021\",\"2022\",\"2023\",\"1993\",\"1994\",\"1995\",\"2005\",\"2012\",\"2013\",\"2014\",\"2016\",\"2020\",\"2022\",\"1993\",\"1995\",\"1996\",\"1997\",\"1999\",\"2023\",\"1993\",\"1994\",\"2004\",\"2005\",\"2006\",\"2007\",\"2008\",\"2009\",\"2010\",\"1993\",\"1994\",\"1995\",\"1996\",\"2012\",\"2013\",\"2015\",\"2007\",\"2008\",\"2013\",\"1993\",\"1994\",\"2007\",\"2020\",\"2021\",\"1993\",\"1994\",\"1995\",\"1996\",\"1997\",\"1998\",\"1999\",\"2000\",\"1993\",\"1994\",\"1995\",\"1996\",\"1997\",\"1998\",\"1999\",\"2000\",\"2001\",\"2002\",\"2003\",\"2004\",\"2005\",\"2013\",\"2014\",\"2015\",\"2016\",\"2017\",\"2018\",\"2019\",\"2020\",\"2021\",\"2022\",\"2023\",\"2009\",\"2010\",\"2011\",\"2012\",\"2013\",\"2014\",\"2015\",\"2016\",\"2017\",\"2018\",\"1997\",\"2000\",\"2001\",\"2002\",\"2003\",\"2006\",\"2008\",\"2009\",\"2010\",\"2011\",\"2012\",\"2013\",\"2014\",\"2015\",\"2016\",\"2017\",\"2012\",\"2013\",\"2014\",\"2015\",\"2016\",\"2017\",\"2018\",\"1994\",\"1993\",\"1994\",\"1995\",\"1996\",\"1997\",\"1998\",\"1999\",\"2000\",\"2001\",\"2002\",\"2003\",\"2004\",\"2005\",\"2006\",\"2007\",\"2008\",\"2009\",\"2010\",\"2011\",\"2012\",\"2013\",\"2014\",\"2015\",\"2016\",\"2017\",\"2018\",\"2019\",\"2020\",\"2021\",\"2022\",\"2023\",\"2000\",\"2007\",\"2016\",\"2017\",\"2018\",\"2019\",\"2020\",\"2022\",\"2003\",\"2005\",\"2006\",\"2009\",\"2011\",\"2012\",\"2013\",\"2014\",\"2015\",\"2016\",\"2017\",\"2018\",\"2021\",\"1994\",\"1995\",\"1996\",\"1997\",\"1998\",\"1999\",\"2000\",\"2001\",\"2002\",\"2003\",\"2006\",\"2007\",\"2008\",\"2009\",\"2010\",\"2011\",\"2013\",\"2014\",\"2015\",\"2016\",\"2017\",\"2018\",\"2019\",\"2020\",\"2021\",\"2022\",\"2023\",\"2006\",\"2007\",\"2008\",\"2009\",\"2010\",\"2011\",\"2012\",\"2013\",\"1993\",\"1994\",\"1995\",\"1996\",\"1997\",\"1998\",\"1999\",\"2000\",\"2004\",\"2010\",\"2011\",\"2012\",\"2019\",\"2020\",\"2021\",\"2022\",\"2023\",\"\",\"\",\"\",\"\",\"\",\"\",\"\",\"\",\"\",\"\",\"\",\"\",\"\",\"\",\"\",\"\",\"\",\"\",\"\",\"\",\"\",\"\",\"\",\"\",\"\",\"\",\"\",\"\",\"\",\"\",\"\"],\"values\":[25,25,27,30,36,43,34,42,45,42,47,40,54,48,43,37,31,48,33,39,47,36,41,31,39,54,42,36,24,35,53,36,23,27,32,27,26,33,23,27,22,25,24,26,20,20,34,27,29,26,20,23,22,18,14,22,29,29,33,25,25,26,24,19,30,19,19,38,31,54,44,28,40,21,33,24,25,21,31,31,26,22,28,22,26,30,16,25,20,27,24,25,29,26,23,21,26,34,23,23,35,26,30,22,20,26,20,22,35,24,19,20,22,19,37,25,14,26,16,24,24,14,18,20,21,20,31,23,26,29,29,22,19,29,31,25,30,33,37,29,35,44,43,41,34,35,47,37,36,33,68,39,41,41,43,36,32,55,30,39,30,31,37,20,29,23,23,21,19,26,26,38,14,27,16,15,21,18,21,19,24,29,19,15,20,27,21,25,33,22,22,23,20,12,26,26,31,35,24,25,22,36,29,26,28,27,24,22,33,34,31,35,31,28,33,38,27,35,42,28,30,24,24,27,16,21,26,29,29,31,18,22,28,27,30,36,28,24,22,9,31,16,10,18,22,20,19,28,29,21,24,31,20,40,37,35,21,15,31,32,29,36,31,25,25,28,19,26,28,22,21,25,31,28,15,19,28,35,31,25,24,35,34,34,23,41,33,38,46,38,42,44,28,40,33,30,29,31,32,39,43,41,43,37,24,33,53,30,33,45,45,55,52,29,49,46,30,24,37,21,20,28,31,24,26,10,28,40,41,34,55,41,63,44,47,37,61,57,57,43,58,60,39,39,42,36,38,42,45,59,49,40,42,37,31,37,46,47,43,52,49,52,45,29,41,27,26,38,33,40,38,32,36,33,27,34,25,23,18,23,36,25,29,28,31,27,17,17,51,46,38,54,22,26,42,26,40,36,33,25,28,23,25,24,41,29,24,23,26,32,21,24,20,26,26,36,31,26,27,29,28,25,17,26,19,12,17,36,29,15,18,27,43,24,35,30,17,28,24,26,24,41,32,36,25,24,13,23,29,19,23,33,24,24,24,12,34,48,26,30,25,30,20,21,30,30,33,21,32,28,29,26,27,23,25,24,30,26,32,37,39,17,20,27,21,28,23,19,22,24,31,25,21,27,32,22,24,20,20,28,24,18,11,12,23,21,32,25,26,20,21,16,23,16,27,28,33,27,20,27,17,25,40,29,32,26,19,23,28,40,31,32,30,33,36,31,34,46,21,40,30,39,29,30,31,35,47,40,34,36,35,38,37,24,19,20,25,27,26,22,17,17,17,21,26,30,21,32,24,24,20,27,21,15,26,28,25,27,40,32,32,24,32,21,30,24,24,23,30,24,34,25,25,34,19,24,32,30,32,33,26,24,18,21,17,19,22,22,26,32,35,26,27,28,18,22,30,23,13,30,19,28,27,21,20,19,723,663,697,580,559,592,553,635,587,557,570,572,570,555,552,581,532,645,617,604,592,598,560,567,607,582,596,576,514,575,621],\"type\":\"treemap\"}],                        {\"template\":{\"data\":{\"histogram2dcontour\":[{\"type\":\"histogram2dcontour\",\"colorbar\":{\"outlinewidth\":0,\"ticks\":\"\"},\"colorscale\":[[0.0,\"#0d0887\"],[0.1111111111111111,\"#46039f\"],[0.2222222222222222,\"#7201a8\"],[0.3333333333333333,\"#9c179e\"],[0.4444444444444444,\"#bd3786\"],[0.5555555555555556,\"#d8576b\"],[0.6666666666666666,\"#ed7953\"],[0.7777777777777778,\"#fb9f3a\"],[0.8888888888888888,\"#fdca26\"],[1.0,\"#f0f921\"]]}],\"choropleth\":[{\"type\":\"choropleth\",\"colorbar\":{\"outlinewidth\":0,\"ticks\":\"\"}}],\"histogram2d\":[{\"type\":\"histogram2d\",\"colorbar\":{\"outlinewidth\":0,\"ticks\":\"\"},\"colorscale\":[[0.0,\"#0d0887\"],[0.1111111111111111,\"#46039f\"],[0.2222222222222222,\"#7201a8\"],[0.3333333333333333,\"#9c179e\"],[0.4444444444444444,\"#bd3786\"],[0.5555555555555556,\"#d8576b\"],[0.6666666666666666,\"#ed7953\"],[0.7777777777777778,\"#fb9f3a\"],[0.8888888888888888,\"#fdca26\"],[1.0,\"#f0f921\"]]}],\"heatmap\":[{\"type\":\"heatmap\",\"colorbar\":{\"outlinewidth\":0,\"ticks\":\"\"},\"colorscale\":[[0.0,\"#0d0887\"],[0.1111111111111111,\"#46039f\"],[0.2222222222222222,\"#7201a8\"],[0.3333333333333333,\"#9c179e\"],[0.4444444444444444,\"#bd3786\"],[0.5555555555555556,\"#d8576b\"],[0.6666666666666666,\"#ed7953\"],[0.7777777777777778,\"#fb9f3a\"],[0.8888888888888888,\"#fdca26\"],[1.0,\"#f0f921\"]]}],\"heatmapgl\":[{\"type\":\"heatmapgl\",\"colorbar\":{\"outlinewidth\":0,\"ticks\":\"\"},\"colorscale\":[[0.0,\"#0d0887\"],[0.1111111111111111,\"#46039f\"],[0.2222222222222222,\"#7201a8\"],[0.3333333333333333,\"#9c179e\"],[0.4444444444444444,\"#bd3786\"],[0.5555555555555556,\"#d8576b\"],[0.6666666666666666,\"#ed7953\"],[0.7777777777777778,\"#fb9f3a\"],[0.8888888888888888,\"#fdca26\"],[1.0,\"#f0f921\"]]}],\"contourcarpet\":[{\"type\":\"contourcarpet\",\"colorbar\":{\"outlinewidth\":0,\"ticks\":\"\"}}],\"contour\":[{\"type\":\"contour\",\"colorbar\":{\"outlinewidth\":0,\"ticks\":\"\"},\"colorscale\":[[0.0,\"#0d0887\"],[0.1111111111111111,\"#46039f\"],[0.2222222222222222,\"#7201a8\"],[0.3333333333333333,\"#9c179e\"],[0.4444444444444444,\"#bd3786\"],[0.5555555555555556,\"#d8576b\"],[0.6666666666666666,\"#ed7953\"],[0.7777777777777778,\"#fb9f3a\"],[0.8888888888888888,\"#fdca26\"],[1.0,\"#f0f921\"]]}],\"surface\":[{\"type\":\"surface\",\"colorbar\":{\"outlinewidth\":0,\"ticks\":\"\"},\"colorscale\":[[0.0,\"#0d0887\"],[0.1111111111111111,\"#46039f\"],[0.2222222222222222,\"#7201a8\"],[0.3333333333333333,\"#9c179e\"],[0.4444444444444444,\"#bd3786\"],[0.5555555555555556,\"#d8576b\"],[0.6666666666666666,\"#ed7953\"],[0.7777777777777778,\"#fb9f3a\"],[0.8888888888888888,\"#fdca26\"],[1.0,\"#f0f921\"]]}],\"mesh3d\":[{\"type\":\"mesh3d\",\"colorbar\":{\"outlinewidth\":0,\"ticks\":\"\"}}],\"scatter\":[{\"fillpattern\":{\"fillmode\":\"overlay\",\"size\":10,\"solidity\":0.2},\"type\":\"scatter\"}],\"parcoords\":[{\"type\":\"parcoords\",\"line\":{\"colorbar\":{\"outlinewidth\":0,\"ticks\":\"\"}}}],\"scatterpolargl\":[{\"type\":\"scatterpolargl\",\"marker\":{\"colorbar\":{\"outlinewidth\":0,\"ticks\":\"\"}}}],\"bar\":[{\"error_x\":{\"color\":\"#2a3f5f\"},\"error_y\":{\"color\":\"#2a3f5f\"},\"marker\":{\"line\":{\"color\":\"#E5ECF6\",\"width\":0.5},\"pattern\":{\"fillmode\":\"overlay\",\"size\":10,\"solidity\":0.2}},\"type\":\"bar\"}],\"scattergeo\":[{\"type\":\"scattergeo\",\"marker\":{\"colorbar\":{\"outlinewidth\":0,\"ticks\":\"\"}}}],\"scatterpolar\":[{\"type\":\"scatterpolar\",\"marker\":{\"colorbar\":{\"outlinewidth\":0,\"ticks\":\"\"}}}],\"histogram\":[{\"marker\":{\"pattern\":{\"fillmode\":\"overlay\",\"size\":10,\"solidity\":0.2}},\"type\":\"histogram\"}],\"scattergl\":[{\"type\":\"scattergl\",\"marker\":{\"colorbar\":{\"outlinewidth\":0,\"ticks\":\"\"}}}],\"scatter3d\":[{\"type\":\"scatter3d\",\"line\":{\"colorbar\":{\"outlinewidth\":0,\"ticks\":\"\"}},\"marker\":{\"colorbar\":{\"outlinewidth\":0,\"ticks\":\"\"}}}],\"scattermapbox\":[{\"type\":\"scattermapbox\",\"marker\":{\"colorbar\":{\"outlinewidth\":0,\"ticks\":\"\"}}}],\"scatterternary\":[{\"type\":\"scatterternary\",\"marker\":{\"colorbar\":{\"outlinewidth\":0,\"ticks\":\"\"}}}],\"scattercarpet\":[{\"type\":\"scattercarpet\",\"marker\":{\"colorbar\":{\"outlinewidth\":0,\"ticks\":\"\"}}}],\"carpet\":[{\"aaxis\":{\"endlinecolor\":\"#2a3f5f\",\"gridcolor\":\"white\",\"linecolor\":\"white\",\"minorgridcolor\":\"white\",\"startlinecolor\":\"#2a3f5f\"},\"baxis\":{\"endlinecolor\":\"#2a3f5f\",\"gridcolor\":\"white\",\"linecolor\":\"white\",\"minorgridcolor\":\"white\",\"startlinecolor\":\"#2a3f5f\"},\"type\":\"carpet\"}],\"table\":[{\"cells\":{\"fill\":{\"color\":\"#EBF0F8\"},\"line\":{\"color\":\"white\"}},\"header\":{\"fill\":{\"color\":\"#C8D4E3\"},\"line\":{\"color\":\"white\"}},\"type\":\"table\"}],\"barpolar\":[{\"marker\":{\"line\":{\"color\":\"#E5ECF6\",\"width\":0.5},\"pattern\":{\"fillmode\":\"overlay\",\"size\":10,\"solidity\":0.2}},\"type\":\"barpolar\"}],\"pie\":[{\"automargin\":true,\"type\":\"pie\"}]},\"layout\":{\"autotypenumbers\":\"strict\",\"colorway\":[\"#636efa\",\"#EF553B\",\"#00cc96\",\"#ab63fa\",\"#FFA15A\",\"#19d3f3\",\"#FF6692\",\"#B6E880\",\"#FF97FF\",\"#FECB52\"],\"font\":{\"color\":\"#2a3f5f\"},\"hovermode\":\"closest\",\"hoverlabel\":{\"align\":\"left\"},\"paper_bgcolor\":\"white\",\"plot_bgcolor\":\"#E5ECF6\",\"polar\":{\"bgcolor\":\"#E5ECF6\",\"angularaxis\":{\"gridcolor\":\"white\",\"linecolor\":\"white\",\"ticks\":\"\"},\"radialaxis\":{\"gridcolor\":\"white\",\"linecolor\":\"white\",\"ticks\":\"\"}},\"ternary\":{\"bgcolor\":\"#E5ECF6\",\"aaxis\":{\"gridcolor\":\"white\",\"linecolor\":\"white\",\"ticks\":\"\"},\"baxis\":{\"gridcolor\":\"white\",\"linecolor\":\"white\",\"ticks\":\"\"},\"caxis\":{\"gridcolor\":\"white\",\"linecolor\":\"white\",\"ticks\":\"\"}},\"coloraxis\":{\"colorbar\":{\"outlinewidth\":0,\"ticks\":\"\"}},\"colorscale\":{\"sequential\":[[0.0,\"#0d0887\"],[0.1111111111111111,\"#46039f\"],[0.2222222222222222,\"#7201a8\"],[0.3333333333333333,\"#9c179e\"],[0.4444444444444444,\"#bd3786\"],[0.5555555555555556,\"#d8576b\"],[0.6666666666666666,\"#ed7953\"],[0.7777777777777778,\"#fb9f3a\"],[0.8888888888888888,\"#fdca26\"],[1.0,\"#f0f921\"]],\"sequentialminus\":[[0.0,\"#0d0887\"],[0.1111111111111111,\"#46039f\"],[0.2222222222222222,\"#7201a8\"],[0.3333333333333333,\"#9c179e\"],[0.4444444444444444,\"#bd3786\"],[0.5555555555555556,\"#d8576b\"],[0.6666666666666666,\"#ed7953\"],[0.7777777777777778,\"#fb9f3a\"],[0.8888888888888888,\"#fdca26\"],[1.0,\"#f0f921\"]],\"diverging\":[[0,\"#8e0152\"],[0.1,\"#c51b7d\"],[0.2,\"#de77ae\"],[0.3,\"#f1b6da\"],[0.4,\"#fde0ef\"],[0.5,\"#f7f7f7\"],[0.6,\"#e6f5d0\"],[0.7,\"#b8e186\"],[0.8,\"#7fbc41\"],[0.9,\"#4d9221\"],[1,\"#276419\"]]},\"xaxis\":{\"gridcolor\":\"white\",\"linecolor\":\"white\",\"ticks\":\"\",\"title\":{\"standoff\":15},\"zerolinecolor\":\"white\",\"automargin\":true,\"zerolinewidth\":2},\"yaxis\":{\"gridcolor\":\"white\",\"linecolor\":\"white\",\"ticks\":\"\",\"title\":{\"standoff\":15},\"zerolinecolor\":\"white\",\"automargin\":true,\"zerolinewidth\":2},\"scene\":{\"xaxis\":{\"backgroundcolor\":\"#E5ECF6\",\"gridcolor\":\"white\",\"linecolor\":\"white\",\"showbackground\":true,\"ticks\":\"\",\"zerolinecolor\":\"white\",\"gridwidth\":2},\"yaxis\":{\"backgroundcolor\":\"#E5ECF6\",\"gridcolor\":\"white\",\"linecolor\":\"white\",\"showbackground\":true,\"ticks\":\"\",\"zerolinecolor\":\"white\",\"gridwidth\":2},\"zaxis\":{\"backgroundcolor\":\"#E5ECF6\",\"gridcolor\":\"white\",\"linecolor\":\"white\",\"showbackground\":true,\"ticks\":\"\",\"zerolinecolor\":\"white\",\"gridwidth\":2}},\"shapedefaults\":{\"line\":{\"color\":\"#2a3f5f\"}},\"annotationdefaults\":{\"arrowcolor\":\"#2a3f5f\",\"arrowhead\":0,\"arrowwidth\":1},\"geo\":{\"bgcolor\":\"white\",\"landcolor\":\"#E5ECF6\",\"subunitcolor\":\"white\",\"showland\":true,\"showlakes\":true,\"lakecolor\":\"white\"},\"title\":{\"x\":0.05},\"mapbox\":{\"style\":\"light\"}}},\"coloraxis\":{\"colorbar\":{\"title\":{\"text\":\"HomeGoals\"}},\"colorscale\":[[0.0,\"#0d0887\"],[0.1111111111111111,\"#46039f\"],[0.2222222222222222,\"#7201a8\"],[0.3333333333333333,\"#9c179e\"],[0.4444444444444444,\"#bd3786\"],[0.5555555555555556,\"#d8576b\"],[0.6666666666666666,\"#ed7953\"],[0.7777777777777778,\"#fb9f3a\"],[0.8888888888888888,\"#fdca26\"],[1.0,\"#f0f921\"]]},\"legend\":{\"tracegroupgap\":0},\"margin\":{\"t\":60},\"title\":{\"text\":\"Home Goals by Teams Over Seasons\"}},                        {\"responsive\": true}                    ).then(function(){\n",
       "                            \n",
       "var gd = document.getElementById('93a58358-9a6d-40ff-870b-2575ba7a4b84');\n",
       "var x = new MutationObserver(function (mutations, observer) {{\n",
       "        var display = window.getComputedStyle(gd).display;\n",
       "        if (!display || display === 'none') {{\n",
       "            console.log([gd, 'removed!']);\n",
       "            Plotly.purge(gd);\n",
       "            observer.disconnect();\n",
       "        }}\n",
       "}});\n",
       "\n",
       "// Listen for the removal of the full notebook cells\n",
       "var notebookContainer = gd.closest('#notebook-container');\n",
       "if (notebookContainer) {{\n",
       "    x.observe(notebookContainer, {childList: true});\n",
       "}}\n",
       "\n",
       "// Listen for the clearing of the current output cell\n",
       "var outputEl = gd.closest('.output');\n",
       "if (outputEl) {{\n",
       "    x.observe(outputEl, {childList: true});\n",
       "}}\n",
       "\n",
       "                        })                };                });            </script>        </div>"
      ]
     },
     "metadata": {},
     "output_type": "display_data"
    }
   ],
   "source": [
    "import plotly.express as px\n",
    "fig = px.treemap(df, path=['Season_End_Year', 'Home'], values='HomeGoals', color='HomeGoals')\n",
    "fig.update_layout(title='Home Goals by Teams Over Seasons')\n",
    "fig.show()\n"
   ]
  }
 ],
 "metadata": {
  "kernelspec": {
   "display_name": "Python 3 (ipykernel)",
   "language": "python",
   "name": "python3"
  },
  "language_info": {
   "codemirror_mode": {
    "name": "ipython",
    "version": 3
   },
   "file_extension": ".py",
   "mimetype": "text/x-python",
   "name": "python",
   "nbconvert_exporter": "python",
   "pygments_lexer": "ipython3",
   "version": "3.11.7"
  }
 },
 "nbformat": 4,
 "nbformat_minor": 5
}
